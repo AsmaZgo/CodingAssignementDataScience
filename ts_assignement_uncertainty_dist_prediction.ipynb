{
  "nbformat": 4,
  "nbformat_minor": 0,
  "metadata": {
    "colab": {
      "provenance": [],
      "collapsed_sections": [
        "iUndLNikgLZi",
        "-YtA7giAgzjC",
        "hcSLx9xGg5vR"
      ]
    },
    "kernelspec": {
      "name": "python3",
      "display_name": "Python 3"
    },
    "language_info": {
      "name": "python"
    },
    "widgets": {
      "application/vnd.jupyter.widget-state+json": {
        "ef79bd3e2d9a47c194f0556fbd176d6e": {
          "model_module": "@jupyter-widgets/controls",
          "model_name": "HBoxModel",
          "model_module_version": "1.5.0",
          "state": {
            "_dom_classes": [],
            "_model_module": "@jupyter-widgets/controls",
            "_model_module_version": "1.5.0",
            "_model_name": "HBoxModel",
            "_view_count": null,
            "_view_module": "@jupyter-widgets/controls",
            "_view_module_version": "1.5.0",
            "_view_name": "HBoxView",
            "box_style": "",
            "children": [
              "IPY_MODEL_046f95cd739b43ae8da155406c5f3f76",
              "IPY_MODEL_3db79567e3554c7593be5280659c9ee8",
              "IPY_MODEL_264674953cd043539c10dba12b70a01f"
            ],
            "layout": "IPY_MODEL_6ceb5e7e93fa445fb4916184e2f5e9a3"
          }
        },
        "046f95cd739b43ae8da155406c5f3f76": {
          "model_module": "@jupyter-widgets/controls",
          "model_name": "HTMLModel",
          "model_module_version": "1.5.0",
          "state": {
            "_dom_classes": [],
            "_model_module": "@jupyter-widgets/controls",
            "_model_module_version": "1.5.0",
            "_model_name": "HTMLModel",
            "_view_count": null,
            "_view_module": "@jupyter-widgets/controls",
            "_view_module_version": "1.5.0",
            "_view_name": "HTMLView",
            "description": "",
            "description_tooltip": null,
            "layout": "IPY_MODEL_82f771a627c6422ab245a26b3af68669",
            "placeholder": "​",
            "style": "IPY_MODEL_7efa54d30aab4cd7b3160556b1419c90",
            "value": "chain 1 "
          }
        },
        "3db79567e3554c7593be5280659c9ee8": {
          "model_module": "@jupyter-widgets/controls",
          "model_name": "FloatProgressModel",
          "model_module_version": "1.5.0",
          "state": {
            "_dom_classes": [],
            "_model_module": "@jupyter-widgets/controls",
            "_model_module_version": "1.5.0",
            "_model_name": "FloatProgressModel",
            "_view_count": null,
            "_view_module": "@jupyter-widgets/controls",
            "_view_module_version": "1.5.0",
            "_view_name": "ProgressView",
            "bar_style": "success",
            "description": "",
            "description_tooltip": null,
            "layout": "IPY_MODEL_27c32208d43a47e6995179d6f8e23266",
            "max": 3,
            "min": 0,
            "orientation": "horizontal",
            "style": "IPY_MODEL_1f0ebb95503b4f27a5e9352ce0280891",
            "value": 3
          }
        },
        "264674953cd043539c10dba12b70a01f": {
          "model_module": "@jupyter-widgets/controls",
          "model_name": "HTMLModel",
          "model_module_version": "1.5.0",
          "state": {
            "_dom_classes": [],
            "_model_module": "@jupyter-widgets/controls",
            "_model_module_version": "1.5.0",
            "_model_name": "HTMLModel",
            "_view_count": null,
            "_view_module": "@jupyter-widgets/controls",
            "_view_module_version": "1.5.0",
            "_view_name": "HTMLView",
            "description": "",
            "description_tooltip": null,
            "layout": "IPY_MODEL_0b73908567e64c408faeef94edb380a3",
            "placeholder": "​",
            "style": "IPY_MODEL_a5da8f899b5e49a7accc53b7a27b67a6",
            "value": " 03:42 Sampling completed"
          }
        },
        "6ceb5e7e93fa445fb4916184e2f5e9a3": {
          "model_module": "@jupyter-widgets/base",
          "model_name": "LayoutModel",
          "model_module_version": "1.2.0",
          "state": {
            "_model_module": "@jupyter-widgets/base",
            "_model_module_version": "1.2.0",
            "_model_name": "LayoutModel",
            "_view_count": null,
            "_view_module": "@jupyter-widgets/base",
            "_view_module_version": "1.2.0",
            "_view_name": "LayoutView",
            "align_content": null,
            "align_items": null,
            "align_self": null,
            "border": null,
            "bottom": null,
            "display": null,
            "flex": null,
            "flex_flow": null,
            "grid_area": null,
            "grid_auto_columns": null,
            "grid_auto_flow": null,
            "grid_auto_rows": null,
            "grid_column": null,
            "grid_gap": null,
            "grid_row": null,
            "grid_template_areas": null,
            "grid_template_columns": null,
            "grid_template_rows": null,
            "height": null,
            "justify_content": null,
            "justify_items": null,
            "left": null,
            "margin": null,
            "max_height": null,
            "max_width": null,
            "min_height": null,
            "min_width": null,
            "object_fit": null,
            "object_position": null,
            "order": null,
            "overflow": null,
            "overflow_x": null,
            "overflow_y": null,
            "padding": null,
            "right": null,
            "top": null,
            "visibility": null,
            "width": null
          }
        },
        "82f771a627c6422ab245a26b3af68669": {
          "model_module": "@jupyter-widgets/base",
          "model_name": "LayoutModel",
          "model_module_version": "1.2.0",
          "state": {
            "_model_module": "@jupyter-widgets/base",
            "_model_module_version": "1.2.0",
            "_model_name": "LayoutModel",
            "_view_count": null,
            "_view_module": "@jupyter-widgets/base",
            "_view_module_version": "1.2.0",
            "_view_name": "LayoutView",
            "align_content": null,
            "align_items": null,
            "align_self": null,
            "border": null,
            "bottom": null,
            "display": null,
            "flex": null,
            "flex_flow": null,
            "grid_area": null,
            "grid_auto_columns": null,
            "grid_auto_flow": null,
            "grid_auto_rows": null,
            "grid_column": null,
            "grid_gap": null,
            "grid_row": null,
            "grid_template_areas": null,
            "grid_template_columns": null,
            "grid_template_rows": null,
            "height": null,
            "justify_content": null,
            "justify_items": null,
            "left": null,
            "margin": null,
            "max_height": null,
            "max_width": null,
            "min_height": null,
            "min_width": null,
            "object_fit": null,
            "object_position": null,
            "order": null,
            "overflow": null,
            "overflow_x": null,
            "overflow_y": null,
            "padding": null,
            "right": null,
            "top": null,
            "visibility": null,
            "width": null
          }
        },
        "7efa54d30aab4cd7b3160556b1419c90": {
          "model_module": "@jupyter-widgets/controls",
          "model_name": "DescriptionStyleModel",
          "model_module_version": "1.5.0",
          "state": {
            "_model_module": "@jupyter-widgets/controls",
            "_model_module_version": "1.5.0",
            "_model_name": "DescriptionStyleModel",
            "_view_count": null,
            "_view_module": "@jupyter-widgets/base",
            "_view_module_version": "1.2.0",
            "_view_name": "StyleView",
            "description_width": ""
          }
        },
        "27c32208d43a47e6995179d6f8e23266": {
          "model_module": "@jupyter-widgets/base",
          "model_name": "LayoutModel",
          "model_module_version": "1.2.0",
          "state": {
            "_model_module": "@jupyter-widgets/base",
            "_model_module_version": "1.2.0",
            "_model_name": "LayoutModel",
            "_view_count": null,
            "_view_module": "@jupyter-widgets/base",
            "_view_module_version": "1.2.0",
            "_view_name": "LayoutView",
            "align_content": null,
            "align_items": null,
            "align_self": null,
            "border": null,
            "bottom": null,
            "display": null,
            "flex": null,
            "flex_flow": null,
            "grid_area": null,
            "grid_auto_columns": null,
            "grid_auto_flow": null,
            "grid_auto_rows": null,
            "grid_column": null,
            "grid_gap": null,
            "grid_row": null,
            "grid_template_areas": null,
            "grid_template_columns": null,
            "grid_template_rows": null,
            "height": null,
            "justify_content": null,
            "justify_items": null,
            "left": null,
            "margin": null,
            "max_height": null,
            "max_width": null,
            "min_height": null,
            "min_width": null,
            "object_fit": null,
            "object_position": null,
            "order": null,
            "overflow": null,
            "overflow_x": null,
            "overflow_y": null,
            "padding": null,
            "right": null,
            "top": null,
            "visibility": null,
            "width": null
          }
        },
        "1f0ebb95503b4f27a5e9352ce0280891": {
          "model_module": "@jupyter-widgets/controls",
          "model_name": "ProgressStyleModel",
          "model_module_version": "1.5.0",
          "state": {
            "_model_module": "@jupyter-widgets/controls",
            "_model_module_version": "1.5.0",
            "_model_name": "ProgressStyleModel",
            "_view_count": null,
            "_view_module": "@jupyter-widgets/base",
            "_view_module_version": "1.2.0",
            "_view_name": "StyleView",
            "bar_color": "blue",
            "description_width": ""
          }
        },
        "0b73908567e64c408faeef94edb380a3": {
          "model_module": "@jupyter-widgets/base",
          "model_name": "LayoutModel",
          "model_module_version": "1.2.0",
          "state": {
            "_model_module": "@jupyter-widgets/base",
            "_model_module_version": "1.2.0",
            "_model_name": "LayoutModel",
            "_view_count": null,
            "_view_module": "@jupyter-widgets/base",
            "_view_module_version": "1.2.0",
            "_view_name": "LayoutView",
            "align_content": null,
            "align_items": null,
            "align_self": null,
            "border": null,
            "bottom": null,
            "display": null,
            "flex": null,
            "flex_flow": null,
            "grid_area": null,
            "grid_auto_columns": null,
            "grid_auto_flow": null,
            "grid_auto_rows": null,
            "grid_column": null,
            "grid_gap": null,
            "grid_row": null,
            "grid_template_areas": null,
            "grid_template_columns": null,
            "grid_template_rows": null,
            "height": null,
            "justify_content": null,
            "justify_items": null,
            "left": null,
            "margin": null,
            "max_height": null,
            "max_width": null,
            "min_height": null,
            "min_width": null,
            "object_fit": null,
            "object_position": null,
            "order": null,
            "overflow": null,
            "overflow_x": null,
            "overflow_y": null,
            "padding": null,
            "right": null,
            "top": null,
            "visibility": null,
            "width": null
          }
        },
        "a5da8f899b5e49a7accc53b7a27b67a6": {
          "model_module": "@jupyter-widgets/controls",
          "model_name": "DescriptionStyleModel",
          "model_module_version": "1.5.0",
          "state": {
            "_model_module": "@jupyter-widgets/controls",
            "_model_module_version": "1.5.0",
            "_model_name": "DescriptionStyleModel",
            "_view_count": null,
            "_view_module": "@jupyter-widgets/base",
            "_view_module_version": "1.2.0",
            "_view_name": "StyleView",
            "description_width": ""
          }
        },
        "f0f4e747f5a64616b58547c1e27268bf": {
          "model_module": "@jupyter-widgets/controls",
          "model_name": "HBoxModel",
          "model_module_version": "1.5.0",
          "state": {
            "_dom_classes": [],
            "_model_module": "@jupyter-widgets/controls",
            "_model_module_version": "1.5.0",
            "_model_name": "HBoxModel",
            "_view_count": null,
            "_view_module": "@jupyter-widgets/controls",
            "_view_module_version": "1.5.0",
            "_view_name": "HBoxView",
            "box_style": "",
            "children": [
              "IPY_MODEL_dc4d5bfca7494682b9bfc3c4b0643ec1",
              "IPY_MODEL_64b6504a73ba43ec96eb2ab73d17a983",
              "IPY_MODEL_f6806c966f9f4b9ca275c346e4f30ae8"
            ],
            "layout": "IPY_MODEL_7718652c2f514310a0ad88e9fb33dd34"
          }
        },
        "dc4d5bfca7494682b9bfc3c4b0643ec1": {
          "model_module": "@jupyter-widgets/controls",
          "model_name": "HTMLModel",
          "model_module_version": "1.5.0",
          "state": {
            "_dom_classes": [],
            "_model_module": "@jupyter-widgets/controls",
            "_model_module_version": "1.5.0",
            "_model_name": "HTMLModel",
            "_view_count": null,
            "_view_module": "@jupyter-widgets/controls",
            "_view_module_version": "1.5.0",
            "_view_name": "HTMLView",
            "description": "",
            "description_tooltip": null,
            "layout": "IPY_MODEL_7a718c9ac0954ab3b7cf9df40b1c5970",
            "placeholder": "​",
            "style": "IPY_MODEL_81441c726f4044fc9d84da7e09e5209c",
            "value": "chain 2 "
          }
        },
        "64b6504a73ba43ec96eb2ab73d17a983": {
          "model_module": "@jupyter-widgets/controls",
          "model_name": "FloatProgressModel",
          "model_module_version": "1.5.0",
          "state": {
            "_dom_classes": [],
            "_model_module": "@jupyter-widgets/controls",
            "_model_module_version": "1.5.0",
            "_model_name": "FloatProgressModel",
            "_view_count": null,
            "_view_module": "@jupyter-widgets/controls",
            "_view_module_version": "1.5.0",
            "_view_name": "ProgressView",
            "bar_style": "success",
            "description": "",
            "description_tooltip": null,
            "layout": "IPY_MODEL_48d54de07ec54cfc96819d7073e85bb3",
            "max": 3,
            "min": 0,
            "orientation": "horizontal",
            "style": "IPY_MODEL_d282382caf2b4763806f9e4a23daa4bd",
            "value": 3
          }
        },
        "f6806c966f9f4b9ca275c346e4f30ae8": {
          "model_module": "@jupyter-widgets/controls",
          "model_name": "HTMLModel",
          "model_module_version": "1.5.0",
          "state": {
            "_dom_classes": [],
            "_model_module": "@jupyter-widgets/controls",
            "_model_module_version": "1.5.0",
            "_model_name": "HTMLModel",
            "_view_count": null,
            "_view_module": "@jupyter-widgets/controls",
            "_view_module_version": "1.5.0",
            "_view_name": "HTMLView",
            "description": "",
            "description_tooltip": null,
            "layout": "IPY_MODEL_863f4870f7484e15ac2657b6936e986d",
            "placeholder": "​",
            "style": "IPY_MODEL_af7c1ae99c384bafa0fec4963fc1c520",
            "value": " 03:42 Sampling completed"
          }
        },
        "7718652c2f514310a0ad88e9fb33dd34": {
          "model_module": "@jupyter-widgets/base",
          "model_name": "LayoutModel",
          "model_module_version": "1.2.0",
          "state": {
            "_model_module": "@jupyter-widgets/base",
            "_model_module_version": "1.2.0",
            "_model_name": "LayoutModel",
            "_view_count": null,
            "_view_module": "@jupyter-widgets/base",
            "_view_module_version": "1.2.0",
            "_view_name": "LayoutView",
            "align_content": null,
            "align_items": null,
            "align_self": null,
            "border": null,
            "bottom": null,
            "display": null,
            "flex": null,
            "flex_flow": null,
            "grid_area": null,
            "grid_auto_columns": null,
            "grid_auto_flow": null,
            "grid_auto_rows": null,
            "grid_column": null,
            "grid_gap": null,
            "grid_row": null,
            "grid_template_areas": null,
            "grid_template_columns": null,
            "grid_template_rows": null,
            "height": null,
            "justify_content": null,
            "justify_items": null,
            "left": null,
            "margin": null,
            "max_height": null,
            "max_width": null,
            "min_height": null,
            "min_width": null,
            "object_fit": null,
            "object_position": null,
            "order": null,
            "overflow": null,
            "overflow_x": null,
            "overflow_y": null,
            "padding": null,
            "right": null,
            "top": null,
            "visibility": null,
            "width": null
          }
        },
        "7a718c9ac0954ab3b7cf9df40b1c5970": {
          "model_module": "@jupyter-widgets/base",
          "model_name": "LayoutModel",
          "model_module_version": "1.2.0",
          "state": {
            "_model_module": "@jupyter-widgets/base",
            "_model_module_version": "1.2.0",
            "_model_name": "LayoutModel",
            "_view_count": null,
            "_view_module": "@jupyter-widgets/base",
            "_view_module_version": "1.2.0",
            "_view_name": "LayoutView",
            "align_content": null,
            "align_items": null,
            "align_self": null,
            "border": null,
            "bottom": null,
            "display": null,
            "flex": null,
            "flex_flow": null,
            "grid_area": null,
            "grid_auto_columns": null,
            "grid_auto_flow": null,
            "grid_auto_rows": null,
            "grid_column": null,
            "grid_gap": null,
            "grid_row": null,
            "grid_template_areas": null,
            "grid_template_columns": null,
            "grid_template_rows": null,
            "height": null,
            "justify_content": null,
            "justify_items": null,
            "left": null,
            "margin": null,
            "max_height": null,
            "max_width": null,
            "min_height": null,
            "min_width": null,
            "object_fit": null,
            "object_position": null,
            "order": null,
            "overflow": null,
            "overflow_x": null,
            "overflow_y": null,
            "padding": null,
            "right": null,
            "top": null,
            "visibility": null,
            "width": null
          }
        },
        "81441c726f4044fc9d84da7e09e5209c": {
          "model_module": "@jupyter-widgets/controls",
          "model_name": "DescriptionStyleModel",
          "model_module_version": "1.5.0",
          "state": {
            "_model_module": "@jupyter-widgets/controls",
            "_model_module_version": "1.5.0",
            "_model_name": "DescriptionStyleModel",
            "_view_count": null,
            "_view_module": "@jupyter-widgets/base",
            "_view_module_version": "1.2.0",
            "_view_name": "StyleView",
            "description_width": ""
          }
        },
        "48d54de07ec54cfc96819d7073e85bb3": {
          "model_module": "@jupyter-widgets/base",
          "model_name": "LayoutModel",
          "model_module_version": "1.2.0",
          "state": {
            "_model_module": "@jupyter-widgets/base",
            "_model_module_version": "1.2.0",
            "_model_name": "LayoutModel",
            "_view_count": null,
            "_view_module": "@jupyter-widgets/base",
            "_view_module_version": "1.2.0",
            "_view_name": "LayoutView",
            "align_content": null,
            "align_items": null,
            "align_self": null,
            "border": null,
            "bottom": null,
            "display": null,
            "flex": null,
            "flex_flow": null,
            "grid_area": null,
            "grid_auto_columns": null,
            "grid_auto_flow": null,
            "grid_auto_rows": null,
            "grid_column": null,
            "grid_gap": null,
            "grid_row": null,
            "grid_template_areas": null,
            "grid_template_columns": null,
            "grid_template_rows": null,
            "height": null,
            "justify_content": null,
            "justify_items": null,
            "left": null,
            "margin": null,
            "max_height": null,
            "max_width": null,
            "min_height": null,
            "min_width": null,
            "object_fit": null,
            "object_position": null,
            "order": null,
            "overflow": null,
            "overflow_x": null,
            "overflow_y": null,
            "padding": null,
            "right": null,
            "top": null,
            "visibility": null,
            "width": null
          }
        },
        "d282382caf2b4763806f9e4a23daa4bd": {
          "model_module": "@jupyter-widgets/controls",
          "model_name": "ProgressStyleModel",
          "model_module_version": "1.5.0",
          "state": {
            "_model_module": "@jupyter-widgets/controls",
            "_model_module_version": "1.5.0",
            "_model_name": "ProgressStyleModel",
            "_view_count": null,
            "_view_module": "@jupyter-widgets/base",
            "_view_module_version": "1.2.0",
            "_view_name": "StyleView",
            "bar_color": "blue",
            "description_width": ""
          }
        },
        "863f4870f7484e15ac2657b6936e986d": {
          "model_module": "@jupyter-widgets/base",
          "model_name": "LayoutModel",
          "model_module_version": "1.2.0",
          "state": {
            "_model_module": "@jupyter-widgets/base",
            "_model_module_version": "1.2.0",
            "_model_name": "LayoutModel",
            "_view_count": null,
            "_view_module": "@jupyter-widgets/base",
            "_view_module_version": "1.2.0",
            "_view_name": "LayoutView",
            "align_content": null,
            "align_items": null,
            "align_self": null,
            "border": null,
            "bottom": null,
            "display": null,
            "flex": null,
            "flex_flow": null,
            "grid_area": null,
            "grid_auto_columns": null,
            "grid_auto_flow": null,
            "grid_auto_rows": null,
            "grid_column": null,
            "grid_gap": null,
            "grid_row": null,
            "grid_template_areas": null,
            "grid_template_columns": null,
            "grid_template_rows": null,
            "height": null,
            "justify_content": null,
            "justify_items": null,
            "left": null,
            "margin": null,
            "max_height": null,
            "max_width": null,
            "min_height": null,
            "min_width": null,
            "object_fit": null,
            "object_position": null,
            "order": null,
            "overflow": null,
            "overflow_x": null,
            "overflow_y": null,
            "padding": null,
            "right": null,
            "top": null,
            "visibility": null,
            "width": null
          }
        },
        "af7c1ae99c384bafa0fec4963fc1c520": {
          "model_module": "@jupyter-widgets/controls",
          "model_name": "DescriptionStyleModel",
          "model_module_version": "1.5.0",
          "state": {
            "_model_module": "@jupyter-widgets/controls",
            "_model_module_version": "1.5.0",
            "_model_name": "DescriptionStyleModel",
            "_view_count": null,
            "_view_module": "@jupyter-widgets/base",
            "_view_module_version": "1.2.0",
            "_view_name": "StyleView",
            "description_width": ""
          }
        },
        "474b9441d33442bdb54d9fff5c65a85f": {
          "model_module": "@jupyter-widgets/controls",
          "model_name": "HBoxModel",
          "model_module_version": "1.5.0",
          "state": {
            "_dom_classes": [],
            "_model_module": "@jupyter-widgets/controls",
            "_model_module_version": "1.5.0",
            "_model_name": "HBoxModel",
            "_view_count": null,
            "_view_module": "@jupyter-widgets/controls",
            "_view_module_version": "1.5.0",
            "_view_name": "HBoxView",
            "box_style": "",
            "children": [
              "IPY_MODEL_0d79bc9ea06d4479841b853b44941178",
              "IPY_MODEL_7de5801acdda448889a7d8e3b9556469",
              "IPY_MODEL_8e54994f87ea4f40bec352f31b7b9f96"
            ],
            "layout": "IPY_MODEL_5bd6acf9b7b3494dabb4e6a0a74f8fd8"
          }
        },
        "0d79bc9ea06d4479841b853b44941178": {
          "model_module": "@jupyter-widgets/controls",
          "model_name": "HTMLModel",
          "model_module_version": "1.5.0",
          "state": {
            "_dom_classes": [],
            "_model_module": "@jupyter-widgets/controls",
            "_model_module_version": "1.5.0",
            "_model_name": "HTMLModel",
            "_view_count": null,
            "_view_module": "@jupyter-widgets/controls",
            "_view_module_version": "1.5.0",
            "_view_name": "HTMLView",
            "description": "",
            "description_tooltip": null,
            "layout": "IPY_MODEL_b56ac6246cc445d3aa12175bff29d6fd",
            "placeholder": "​",
            "style": "IPY_MODEL_49ce57e6777a4c498dc096d030c02efa",
            "value": "chain 3 "
          }
        },
        "7de5801acdda448889a7d8e3b9556469": {
          "model_module": "@jupyter-widgets/controls",
          "model_name": "FloatProgressModel",
          "model_module_version": "1.5.0",
          "state": {
            "_dom_classes": [],
            "_model_module": "@jupyter-widgets/controls",
            "_model_module_version": "1.5.0",
            "_model_name": "FloatProgressModel",
            "_view_count": null,
            "_view_module": "@jupyter-widgets/controls",
            "_view_module_version": "1.5.0",
            "_view_name": "ProgressView",
            "bar_style": "success",
            "description": "",
            "description_tooltip": null,
            "layout": "IPY_MODEL_418d9384dff945b48b14631ac1db73c2",
            "max": 3,
            "min": 0,
            "orientation": "horizontal",
            "style": "IPY_MODEL_fa579a9837994b4c845507b44aa503cc",
            "value": 3
          }
        },
        "8e54994f87ea4f40bec352f31b7b9f96": {
          "model_module": "@jupyter-widgets/controls",
          "model_name": "HTMLModel",
          "model_module_version": "1.5.0",
          "state": {
            "_dom_classes": [],
            "_model_module": "@jupyter-widgets/controls",
            "_model_module_version": "1.5.0",
            "_model_name": "HTMLModel",
            "_view_count": null,
            "_view_module": "@jupyter-widgets/controls",
            "_view_module_version": "1.5.0",
            "_view_name": "HTMLView",
            "description": "",
            "description_tooltip": null,
            "layout": "IPY_MODEL_bf35b7cf12864c899bd0e413f5fd47d9",
            "placeholder": "​",
            "style": "IPY_MODEL_e42d8a16f7804354a2c87e150ee40f2a",
            "value": " 03:42 Sampling completed"
          }
        },
        "5bd6acf9b7b3494dabb4e6a0a74f8fd8": {
          "model_module": "@jupyter-widgets/base",
          "model_name": "LayoutModel",
          "model_module_version": "1.2.0",
          "state": {
            "_model_module": "@jupyter-widgets/base",
            "_model_module_version": "1.2.0",
            "_model_name": "LayoutModel",
            "_view_count": null,
            "_view_module": "@jupyter-widgets/base",
            "_view_module_version": "1.2.0",
            "_view_name": "LayoutView",
            "align_content": null,
            "align_items": null,
            "align_self": null,
            "border": null,
            "bottom": null,
            "display": null,
            "flex": null,
            "flex_flow": null,
            "grid_area": null,
            "grid_auto_columns": null,
            "grid_auto_flow": null,
            "grid_auto_rows": null,
            "grid_column": null,
            "grid_gap": null,
            "grid_row": null,
            "grid_template_areas": null,
            "grid_template_columns": null,
            "grid_template_rows": null,
            "height": null,
            "justify_content": null,
            "justify_items": null,
            "left": null,
            "margin": null,
            "max_height": null,
            "max_width": null,
            "min_height": null,
            "min_width": null,
            "object_fit": null,
            "object_position": null,
            "order": null,
            "overflow": null,
            "overflow_x": null,
            "overflow_y": null,
            "padding": null,
            "right": null,
            "top": null,
            "visibility": null,
            "width": null
          }
        },
        "b56ac6246cc445d3aa12175bff29d6fd": {
          "model_module": "@jupyter-widgets/base",
          "model_name": "LayoutModel",
          "model_module_version": "1.2.0",
          "state": {
            "_model_module": "@jupyter-widgets/base",
            "_model_module_version": "1.2.0",
            "_model_name": "LayoutModel",
            "_view_count": null,
            "_view_module": "@jupyter-widgets/base",
            "_view_module_version": "1.2.0",
            "_view_name": "LayoutView",
            "align_content": null,
            "align_items": null,
            "align_self": null,
            "border": null,
            "bottom": null,
            "display": null,
            "flex": null,
            "flex_flow": null,
            "grid_area": null,
            "grid_auto_columns": null,
            "grid_auto_flow": null,
            "grid_auto_rows": null,
            "grid_column": null,
            "grid_gap": null,
            "grid_row": null,
            "grid_template_areas": null,
            "grid_template_columns": null,
            "grid_template_rows": null,
            "height": null,
            "justify_content": null,
            "justify_items": null,
            "left": null,
            "margin": null,
            "max_height": null,
            "max_width": null,
            "min_height": null,
            "min_width": null,
            "object_fit": null,
            "object_position": null,
            "order": null,
            "overflow": null,
            "overflow_x": null,
            "overflow_y": null,
            "padding": null,
            "right": null,
            "top": null,
            "visibility": null,
            "width": null
          }
        },
        "49ce57e6777a4c498dc096d030c02efa": {
          "model_module": "@jupyter-widgets/controls",
          "model_name": "DescriptionStyleModel",
          "model_module_version": "1.5.0",
          "state": {
            "_model_module": "@jupyter-widgets/controls",
            "_model_module_version": "1.5.0",
            "_model_name": "DescriptionStyleModel",
            "_view_count": null,
            "_view_module": "@jupyter-widgets/base",
            "_view_module_version": "1.2.0",
            "_view_name": "StyleView",
            "description_width": ""
          }
        },
        "418d9384dff945b48b14631ac1db73c2": {
          "model_module": "@jupyter-widgets/base",
          "model_name": "LayoutModel",
          "model_module_version": "1.2.0",
          "state": {
            "_model_module": "@jupyter-widgets/base",
            "_model_module_version": "1.2.0",
            "_model_name": "LayoutModel",
            "_view_count": null,
            "_view_module": "@jupyter-widgets/base",
            "_view_module_version": "1.2.0",
            "_view_name": "LayoutView",
            "align_content": null,
            "align_items": null,
            "align_self": null,
            "border": null,
            "bottom": null,
            "display": null,
            "flex": null,
            "flex_flow": null,
            "grid_area": null,
            "grid_auto_columns": null,
            "grid_auto_flow": null,
            "grid_auto_rows": null,
            "grid_column": null,
            "grid_gap": null,
            "grid_row": null,
            "grid_template_areas": null,
            "grid_template_columns": null,
            "grid_template_rows": null,
            "height": null,
            "justify_content": null,
            "justify_items": null,
            "left": null,
            "margin": null,
            "max_height": null,
            "max_width": null,
            "min_height": null,
            "min_width": null,
            "object_fit": null,
            "object_position": null,
            "order": null,
            "overflow": null,
            "overflow_x": null,
            "overflow_y": null,
            "padding": null,
            "right": null,
            "top": null,
            "visibility": null,
            "width": null
          }
        },
        "fa579a9837994b4c845507b44aa503cc": {
          "model_module": "@jupyter-widgets/controls",
          "model_name": "ProgressStyleModel",
          "model_module_version": "1.5.0",
          "state": {
            "_model_module": "@jupyter-widgets/controls",
            "_model_module_version": "1.5.0",
            "_model_name": "ProgressStyleModel",
            "_view_count": null,
            "_view_module": "@jupyter-widgets/base",
            "_view_module_version": "1.2.0",
            "_view_name": "StyleView",
            "bar_color": "blue",
            "description_width": ""
          }
        },
        "bf35b7cf12864c899bd0e413f5fd47d9": {
          "model_module": "@jupyter-widgets/base",
          "model_name": "LayoutModel",
          "model_module_version": "1.2.0",
          "state": {
            "_model_module": "@jupyter-widgets/base",
            "_model_module_version": "1.2.0",
            "_model_name": "LayoutModel",
            "_view_count": null,
            "_view_module": "@jupyter-widgets/base",
            "_view_module_version": "1.2.0",
            "_view_name": "LayoutView",
            "align_content": null,
            "align_items": null,
            "align_self": null,
            "border": null,
            "bottom": null,
            "display": null,
            "flex": null,
            "flex_flow": null,
            "grid_area": null,
            "grid_auto_columns": null,
            "grid_auto_flow": null,
            "grid_auto_rows": null,
            "grid_column": null,
            "grid_gap": null,
            "grid_row": null,
            "grid_template_areas": null,
            "grid_template_columns": null,
            "grid_template_rows": null,
            "height": null,
            "justify_content": null,
            "justify_items": null,
            "left": null,
            "margin": null,
            "max_height": null,
            "max_width": null,
            "min_height": null,
            "min_width": null,
            "object_fit": null,
            "object_position": null,
            "order": null,
            "overflow": null,
            "overflow_x": null,
            "overflow_y": null,
            "padding": null,
            "right": null,
            "top": null,
            "visibility": null,
            "width": null
          }
        },
        "e42d8a16f7804354a2c87e150ee40f2a": {
          "model_module": "@jupyter-widgets/controls",
          "model_name": "DescriptionStyleModel",
          "model_module_version": "1.5.0",
          "state": {
            "_model_module": "@jupyter-widgets/controls",
            "_model_module_version": "1.5.0",
            "_model_name": "DescriptionStyleModel",
            "_view_count": null,
            "_view_module": "@jupyter-widgets/base",
            "_view_module_version": "1.2.0",
            "_view_name": "StyleView",
            "description_width": ""
          }
        },
        "7ef7243de75e4bbda9e4f7232e82c9b7": {
          "model_module": "@jupyter-widgets/controls",
          "model_name": "HBoxModel",
          "model_module_version": "1.5.0",
          "state": {
            "_dom_classes": [],
            "_model_module": "@jupyter-widgets/controls",
            "_model_module_version": "1.5.0",
            "_model_name": "HBoxModel",
            "_view_count": null,
            "_view_module": "@jupyter-widgets/controls",
            "_view_module_version": "1.5.0",
            "_view_name": "HBoxView",
            "box_style": "",
            "children": [
              "IPY_MODEL_fe48618f852845dba6e87bd191d7e4e1",
              "IPY_MODEL_6e2663e727ee4a03a142855102373845",
              "IPY_MODEL_b911ec15a36541aeab2cc742d953baec"
            ],
            "layout": "IPY_MODEL_d6d2c370e1174ec09d962698221e66f1"
          }
        },
        "fe48618f852845dba6e87bd191d7e4e1": {
          "model_module": "@jupyter-widgets/controls",
          "model_name": "HTMLModel",
          "model_module_version": "1.5.0",
          "state": {
            "_dom_classes": [],
            "_model_module": "@jupyter-widgets/controls",
            "_model_module_version": "1.5.0",
            "_model_name": "HTMLModel",
            "_view_count": null,
            "_view_module": "@jupyter-widgets/controls",
            "_view_module_version": "1.5.0",
            "_view_name": "HTMLView",
            "description": "",
            "description_tooltip": null,
            "layout": "IPY_MODEL_df26a0cfa8764f5fb371a1ebd6f6eab6",
            "placeholder": "​",
            "style": "IPY_MODEL_82988141f8d1410ca013012d6a520e86",
            "value": "chain 4 "
          }
        },
        "6e2663e727ee4a03a142855102373845": {
          "model_module": "@jupyter-widgets/controls",
          "model_name": "FloatProgressModel",
          "model_module_version": "1.5.0",
          "state": {
            "_dom_classes": [],
            "_model_module": "@jupyter-widgets/controls",
            "_model_module_version": "1.5.0",
            "_model_name": "FloatProgressModel",
            "_view_count": null,
            "_view_module": "@jupyter-widgets/controls",
            "_view_module_version": "1.5.0",
            "_view_name": "ProgressView",
            "bar_style": "success",
            "description": "",
            "description_tooltip": null,
            "layout": "IPY_MODEL_ee1dc8aed59344bf915bac0ec82c7079",
            "max": 3,
            "min": 0,
            "orientation": "horizontal",
            "style": "IPY_MODEL_aa67ac98c378419f94b8823b7cb5082d",
            "value": 3
          }
        },
        "b911ec15a36541aeab2cc742d953baec": {
          "model_module": "@jupyter-widgets/controls",
          "model_name": "HTMLModel",
          "model_module_version": "1.5.0",
          "state": {
            "_dom_classes": [],
            "_model_module": "@jupyter-widgets/controls",
            "_model_module_version": "1.5.0",
            "_model_name": "HTMLModel",
            "_view_count": null,
            "_view_module": "@jupyter-widgets/controls",
            "_view_module_version": "1.5.0",
            "_view_name": "HTMLView",
            "description": "",
            "description_tooltip": null,
            "layout": "IPY_MODEL_1d6ff8c09d60452480b4813a3b5cef42",
            "placeholder": "​",
            "style": "IPY_MODEL_0b99cf0175d5430383a77ad1e966c9a1",
            "value": " 03:42 Sampling completed"
          }
        },
        "d6d2c370e1174ec09d962698221e66f1": {
          "model_module": "@jupyter-widgets/base",
          "model_name": "LayoutModel",
          "model_module_version": "1.2.0",
          "state": {
            "_model_module": "@jupyter-widgets/base",
            "_model_module_version": "1.2.0",
            "_model_name": "LayoutModel",
            "_view_count": null,
            "_view_module": "@jupyter-widgets/base",
            "_view_module_version": "1.2.0",
            "_view_name": "LayoutView",
            "align_content": null,
            "align_items": null,
            "align_self": null,
            "border": null,
            "bottom": null,
            "display": null,
            "flex": null,
            "flex_flow": null,
            "grid_area": null,
            "grid_auto_columns": null,
            "grid_auto_flow": null,
            "grid_auto_rows": null,
            "grid_column": null,
            "grid_gap": null,
            "grid_row": null,
            "grid_template_areas": null,
            "grid_template_columns": null,
            "grid_template_rows": null,
            "height": null,
            "justify_content": null,
            "justify_items": null,
            "left": null,
            "margin": null,
            "max_height": null,
            "max_width": null,
            "min_height": null,
            "min_width": null,
            "object_fit": null,
            "object_position": null,
            "order": null,
            "overflow": null,
            "overflow_x": null,
            "overflow_y": null,
            "padding": null,
            "right": null,
            "top": null,
            "visibility": null,
            "width": null
          }
        },
        "df26a0cfa8764f5fb371a1ebd6f6eab6": {
          "model_module": "@jupyter-widgets/base",
          "model_name": "LayoutModel",
          "model_module_version": "1.2.0",
          "state": {
            "_model_module": "@jupyter-widgets/base",
            "_model_module_version": "1.2.0",
            "_model_name": "LayoutModel",
            "_view_count": null,
            "_view_module": "@jupyter-widgets/base",
            "_view_module_version": "1.2.0",
            "_view_name": "LayoutView",
            "align_content": null,
            "align_items": null,
            "align_self": null,
            "border": null,
            "bottom": null,
            "display": null,
            "flex": null,
            "flex_flow": null,
            "grid_area": null,
            "grid_auto_columns": null,
            "grid_auto_flow": null,
            "grid_auto_rows": null,
            "grid_column": null,
            "grid_gap": null,
            "grid_row": null,
            "grid_template_areas": null,
            "grid_template_columns": null,
            "grid_template_rows": null,
            "height": null,
            "justify_content": null,
            "justify_items": null,
            "left": null,
            "margin": null,
            "max_height": null,
            "max_width": null,
            "min_height": null,
            "min_width": null,
            "object_fit": null,
            "object_position": null,
            "order": null,
            "overflow": null,
            "overflow_x": null,
            "overflow_y": null,
            "padding": null,
            "right": null,
            "top": null,
            "visibility": null,
            "width": null
          }
        },
        "82988141f8d1410ca013012d6a520e86": {
          "model_module": "@jupyter-widgets/controls",
          "model_name": "DescriptionStyleModel",
          "model_module_version": "1.5.0",
          "state": {
            "_model_module": "@jupyter-widgets/controls",
            "_model_module_version": "1.5.0",
            "_model_name": "DescriptionStyleModel",
            "_view_count": null,
            "_view_module": "@jupyter-widgets/base",
            "_view_module_version": "1.2.0",
            "_view_name": "StyleView",
            "description_width": ""
          }
        },
        "ee1dc8aed59344bf915bac0ec82c7079": {
          "model_module": "@jupyter-widgets/base",
          "model_name": "LayoutModel",
          "model_module_version": "1.2.0",
          "state": {
            "_model_module": "@jupyter-widgets/base",
            "_model_module_version": "1.2.0",
            "_model_name": "LayoutModel",
            "_view_count": null,
            "_view_module": "@jupyter-widgets/base",
            "_view_module_version": "1.2.0",
            "_view_name": "LayoutView",
            "align_content": null,
            "align_items": null,
            "align_self": null,
            "border": null,
            "bottom": null,
            "display": null,
            "flex": null,
            "flex_flow": null,
            "grid_area": null,
            "grid_auto_columns": null,
            "grid_auto_flow": null,
            "grid_auto_rows": null,
            "grid_column": null,
            "grid_gap": null,
            "grid_row": null,
            "grid_template_areas": null,
            "grid_template_columns": null,
            "grid_template_rows": null,
            "height": null,
            "justify_content": null,
            "justify_items": null,
            "left": null,
            "margin": null,
            "max_height": null,
            "max_width": null,
            "min_height": null,
            "min_width": null,
            "object_fit": null,
            "object_position": null,
            "order": null,
            "overflow": null,
            "overflow_x": null,
            "overflow_y": null,
            "padding": null,
            "right": null,
            "top": null,
            "visibility": null,
            "width": null
          }
        },
        "aa67ac98c378419f94b8823b7cb5082d": {
          "model_module": "@jupyter-widgets/controls",
          "model_name": "ProgressStyleModel",
          "model_module_version": "1.5.0",
          "state": {
            "_model_module": "@jupyter-widgets/controls",
            "_model_module_version": "1.5.0",
            "_model_name": "ProgressStyleModel",
            "_view_count": null,
            "_view_module": "@jupyter-widgets/base",
            "_view_module_version": "1.2.0",
            "_view_name": "StyleView",
            "bar_color": "blue",
            "description_width": ""
          }
        },
        "1d6ff8c09d60452480b4813a3b5cef42": {
          "model_module": "@jupyter-widgets/base",
          "model_name": "LayoutModel",
          "model_module_version": "1.2.0",
          "state": {
            "_model_module": "@jupyter-widgets/base",
            "_model_module_version": "1.2.0",
            "_model_name": "LayoutModel",
            "_view_count": null,
            "_view_module": "@jupyter-widgets/base",
            "_view_module_version": "1.2.0",
            "_view_name": "LayoutView",
            "align_content": null,
            "align_items": null,
            "align_self": null,
            "border": null,
            "bottom": null,
            "display": null,
            "flex": null,
            "flex_flow": null,
            "grid_area": null,
            "grid_auto_columns": null,
            "grid_auto_flow": null,
            "grid_auto_rows": null,
            "grid_column": null,
            "grid_gap": null,
            "grid_row": null,
            "grid_template_areas": null,
            "grid_template_columns": null,
            "grid_template_rows": null,
            "height": null,
            "justify_content": null,
            "justify_items": null,
            "left": null,
            "margin": null,
            "max_height": null,
            "max_width": null,
            "min_height": null,
            "min_width": null,
            "object_fit": null,
            "object_position": null,
            "order": null,
            "overflow": null,
            "overflow_x": null,
            "overflow_y": null,
            "padding": null,
            "right": null,
            "top": null,
            "visibility": null,
            "width": null
          }
        },
        "0b99cf0175d5430383a77ad1e966c9a1": {
          "model_module": "@jupyter-widgets/controls",
          "model_name": "DescriptionStyleModel",
          "model_module_version": "1.5.0",
          "state": {
            "_model_module": "@jupyter-widgets/controls",
            "_model_module_version": "1.5.0",
            "_model_name": "DescriptionStyleModel",
            "_view_count": null,
            "_view_module": "@jupyter-widgets/base",
            "_view_module_version": "1.2.0",
            "_view_name": "StyleView",
            "description_width": ""
          }
        }
      }
    },
    "gpuClass": "standard"
  },
  "cells": [
    {
      "cell_type": "code",
      "execution_count": 1,
      "metadata": {
        "id": "NO3QoJQRf4Gb"
      },
      "outputs": [],
      "source": [
        "#for data manipulations\n",
        "import pandas as pd\n",
        "from pandas.api.types import CategoricalDtype\n",
        "\n",
        "#for numerical calculations\n",
        "import numpy as np\n",
        "\n",
        "#for data visualization\n",
        "import matplotlib.pyplot as plt\n",
        "import seaborn as sns\n",
        "sns.set()\n",
        "%matplotlib inline\n",
        "\n",
        "#for datetime manipulation\n",
        "from datetime import timedelta\n",
        "from datetime import datetime\n",
        "\n",
        "#to ignore warnings\n",
        "import warnings\n",
        "warnings.filterwarnings('ignore')\n",
        "\n",
        "from tqdm import tqdm"
      ]
    },
    {
      "cell_type": "code",
      "source": [
        "\n",
        "#Machine learning library\n",
        "from sklearn.model_selection import train_test_split\n",
        "from sklearn.preprocessing import StandardScaler, MinMaxScaler\n",
        "from sklearn.linear_model import LogisticRegression\n",
        "from sklearn.neighbors import KNeighborsClassifier\n",
        "from sklearn.svm import SVC\n",
        "from sklearn.tree import DecisionTreeClassifier\n",
        "from sklearn.ensemble import AdaBoostClassifier\n",
        "from xgboost import XGBClassifier\n",
        "from sklearn.ensemble import RandomForestClassifier\n",
        "from sklearn.metrics import accuracy_score, confusion_matrix, roc_auc_score, ConfusionMatrixDisplay, precision_score, recall_score, f1_score, classification_report, roc_curve\n",
        "from sklearn.model_selection import cross_val_score\n",
        "from sklearn.naive_bayes import GaussianNB\n",
        "from sklearn.model_selection import GridSearchCV"
      ],
      "metadata": {
        "id": "Sy85yS4wTsiZ"
      },
      "execution_count": 2,
      "outputs": []
    },
    {
      "cell_type": "markdown",
      "source": [
        "### load data"
      ],
      "metadata": {
        "id": "wtG6HQ6ZgVBp"
      }
    },
    {
      "cell_type": "code",
      "source": [
        "path = \"/content/drive/MyDrive/conrad assignement/train.csv\"\n",
        "path_pred = \"/content/drive/MyDrive/conrad assignement/submission.csv\""
      ],
      "metadata": {
        "id": "iEhnForoTxKH"
      },
      "execution_count": 3,
      "outputs": []
    },
    {
      "cell_type": "code",
      "source": [
        "df=pd.read_csv(path)"
      ],
      "metadata": {
        "id": "JV5L5PaAUfUK"
      },
      "execution_count": 15,
      "outputs": []
    },
    {
      "cell_type": "code",
      "source": [
        "df_pred=pd.read_csv(path_pred)"
      ],
      "metadata": {
        "id": "V_C4gNeRGXUz"
      },
      "execution_count": 16,
      "outputs": []
    },
    {
      "cell_type": "code",
      "source": [
        "df_pred=df_pred[[\"productsGroup_key\",\"date_key\",\"quantitySales\"]]"
      ],
      "metadata": {
        "id": "knfnM_TSUhRC"
      },
      "execution_count": 17,
      "outputs": []
    },
    {
      "cell_type": "markdown",
      "source": [
        "###Data preprocessing"
      ],
      "metadata": {
        "id": "FgPgao3-XiRV"
      }
    },
    {
      "cell_type": "markdown",
      "source": [
        "Checking null values"
      ],
      "metadata": {
        "id": "tHvWoCDaXoGN"
      }
    },
    {
      "cell_type": "code",
      "source": [
        "df[df.isnull().any(axis=1)]"
      ],
      "metadata": {
        "colab": {
          "base_uri": "https://localhost:8080/",
          "height": 49
        },
        "id": "gO3r5FQZXcPT",
        "outputId": "6a0fa816-c8ac-4fc6-ba27-2bef9579b098"
      },
      "execution_count": 7,
      "outputs": [
        {
          "output_type": "execute_result",
          "data": {
            "text/plain": [
              "Empty DataFrame\n",
              "Columns: [productsGroup_key, date_key, quantitySales]\n",
              "Index: []"
            ],
            "text/html": [
              "\n",
              "  <div id=\"df-77e2b598-1626-4397-b8b2-e2dd53ee41fc\">\n",
              "    <div class=\"colab-df-container\">\n",
              "      <div>\n",
              "<style scoped>\n",
              "    .dataframe tbody tr th:only-of-type {\n",
              "        vertical-align: middle;\n",
              "    }\n",
              "\n",
              "    .dataframe tbody tr th {\n",
              "        vertical-align: top;\n",
              "    }\n",
              "\n",
              "    .dataframe thead th {\n",
              "        text-align: right;\n",
              "    }\n",
              "</style>\n",
              "<table border=\"1\" class=\"dataframe\">\n",
              "  <thead>\n",
              "    <tr style=\"text-align: right;\">\n",
              "      <th></th>\n",
              "      <th>productsGroup_key</th>\n",
              "      <th>date_key</th>\n",
              "      <th>quantitySales</th>\n",
              "    </tr>\n",
              "  </thead>\n",
              "  <tbody>\n",
              "  </tbody>\n",
              "</table>\n",
              "</div>\n",
              "      <button class=\"colab-df-convert\" onclick=\"convertToInteractive('df-77e2b598-1626-4397-b8b2-e2dd53ee41fc')\"\n",
              "              title=\"Convert this dataframe to an interactive table.\"\n",
              "              style=\"display:none;\">\n",
              "        \n",
              "  <svg xmlns=\"http://www.w3.org/2000/svg\" height=\"24px\"viewBox=\"0 0 24 24\"\n",
              "       width=\"24px\">\n",
              "    <path d=\"M0 0h24v24H0V0z\" fill=\"none\"/>\n",
              "    <path d=\"M18.56 5.44l.94 2.06.94-2.06 2.06-.94-2.06-.94-.94-2.06-.94 2.06-2.06.94zm-11 1L8.5 8.5l.94-2.06 2.06-.94-2.06-.94L8.5 2.5l-.94 2.06-2.06.94zm10 10l.94 2.06.94-2.06 2.06-.94-2.06-.94-.94-2.06-.94 2.06-2.06.94z\"/><path d=\"M17.41 7.96l-1.37-1.37c-.4-.4-.92-.59-1.43-.59-.52 0-1.04.2-1.43.59L10.3 9.45l-7.72 7.72c-.78.78-.78 2.05 0 2.83L4 21.41c.39.39.9.59 1.41.59.51 0 1.02-.2 1.41-.59l7.78-7.78 2.81-2.81c.8-.78.8-2.07 0-2.86zM5.41 20L4 18.59l7.72-7.72 1.47 1.35L5.41 20z\"/>\n",
              "  </svg>\n",
              "      </button>\n",
              "      \n",
              "  <style>\n",
              "    .colab-df-container {\n",
              "      display:flex;\n",
              "      flex-wrap:wrap;\n",
              "      gap: 12px;\n",
              "    }\n",
              "\n",
              "    .colab-df-convert {\n",
              "      background-color: #E8F0FE;\n",
              "      border: none;\n",
              "      border-radius: 50%;\n",
              "      cursor: pointer;\n",
              "      display: none;\n",
              "      fill: #1967D2;\n",
              "      height: 32px;\n",
              "      padding: 0 0 0 0;\n",
              "      width: 32px;\n",
              "    }\n",
              "\n",
              "    .colab-df-convert:hover {\n",
              "      background-color: #E2EBFA;\n",
              "      box-shadow: 0px 1px 2px rgba(60, 64, 67, 0.3), 0px 1px 3px 1px rgba(60, 64, 67, 0.15);\n",
              "      fill: #174EA6;\n",
              "    }\n",
              "\n",
              "    [theme=dark] .colab-df-convert {\n",
              "      background-color: #3B4455;\n",
              "      fill: #D2E3FC;\n",
              "    }\n",
              "\n",
              "    [theme=dark] .colab-df-convert:hover {\n",
              "      background-color: #434B5C;\n",
              "      box-shadow: 0px 1px 3px 1px rgba(0, 0, 0, 0.15);\n",
              "      filter: drop-shadow(0px 1px 2px rgba(0, 0, 0, 0.3));\n",
              "      fill: #FFFFFF;\n",
              "    }\n",
              "  </style>\n",
              "\n",
              "      <script>\n",
              "        const buttonEl =\n",
              "          document.querySelector('#df-77e2b598-1626-4397-b8b2-e2dd53ee41fc button.colab-df-convert');\n",
              "        buttonEl.style.display =\n",
              "          google.colab.kernel.accessAllowed ? 'block' : 'none';\n",
              "\n",
              "        async function convertToInteractive(key) {\n",
              "          const element = document.querySelector('#df-77e2b598-1626-4397-b8b2-e2dd53ee41fc');\n",
              "          const dataTable =\n",
              "            await google.colab.kernel.invokeFunction('convertToInteractive',\n",
              "                                                     [key], {});\n",
              "          if (!dataTable) return;\n",
              "\n",
              "          const docLinkHtml = 'Like what you see? Visit the ' +\n",
              "            '<a target=\"_blank\" href=https://colab.research.google.com/notebooks/data_table.ipynb>data table notebook</a>'\n",
              "            + ' to learn more about interactive tables.';\n",
              "          element.innerHTML = '';\n",
              "          dataTable['output_type'] = 'display_data';\n",
              "          await google.colab.output.renderOutput(dataTable, element);\n",
              "          const docLink = document.createElement('div');\n",
              "          docLink.innerHTML = docLinkHtml;\n",
              "          element.appendChild(docLink);\n",
              "        }\n",
              "      </script>\n",
              "    </div>\n",
              "  </div>\n",
              "  "
            ]
          },
          "metadata": {},
          "execution_count": 7
        }
      ]
    },
    {
      "cell_type": "markdown",
      "source": [
        "Converting date column into the right type"
      ],
      "metadata": {
        "id": "nybSDkxlXtQg"
      }
    },
    {
      "cell_type": "code",
      "source": [
        "df['date_key']=pd.to_datetime(df['date_key'], format='%Y%m%d')\n",
        "df_pred['date_key']=pd.to_datetime(df_pred['date_key'], format='%Y%m%d')"
      ],
      "metadata": {
        "id": "Jq1Csk_MgJZK"
      },
      "execution_count": 18,
      "outputs": []
    },
    {
      "cell_type": "markdown",
      "source": [
        "Creating temporal features"
      ],
      "metadata": {
        "id": "3vjJ-nyP8l4j"
      }
    },
    {
      "cell_type": "code",
      "source": [
        "df['year'] = pd.to_datetime(df['date_key']).dt.year\n",
        "df['month'] = df['date_key'].dt.month\n",
        "df['month_year'] = df['date_key'].dt.to_period('M')\n",
        "df['day_of_week'] = df['date_key'].dt.dayofweek\n",
        "day_name = {0 : 'Monday', 1 : 'Tuesday', 2 : 'Wednesday', 3 : 'Thursday', 4 : 'Friday', 5 : 'Saturday', 6 : 'Sunday'}\n",
        "df['day_name'] = df['day_of_week'].map(day_name)\n",
        "df['quarter'] = df['date_key'].dt.quarter\n",
        "df['weekofyear'] = df['date_key'].dt.weekofyear"
      ],
      "metadata": {
        "id": "QhcWkIvs8otv"
      },
      "execution_count": 19,
      "outputs": []
    },
    {
      "cell_type": "code",
      "source": [
        "df['day'] = df['date_key'].dt.day"
      ],
      "metadata": {
        "id": "9AsfCFcFqHuP"
      },
      "execution_count": 20,
      "outputs": []
    },
    {
      "cell_type": "code",
      "source": [
        "df_pred['year'] = pd.to_datetime(df_pred['date_key']).dt.year\n",
        "df_pred['month'] = df_pred['date_key'].dt.month\n",
        "df_pred['month_year'] = df_pred['date_key'].dt.to_period('M')\n",
        "df_pred['day_of_week'] = df_pred['date_key'].dt.dayofweek\n",
        "df_pred['day_name'] = df_pred['day_of_week'].map(day_name)\n",
        "df_pred['quarter'] = df_pred['date_key'].dt.quarter\n",
        "df_pred['weekofyear'] = df_pred['date_key'].dt.weekofyear\n",
        "df_pred['day'] = df_pred['date_key'].dt.day"
      ],
      "metadata": {
        "id": "f0NzIisTH5if"
      },
      "execution_count": 21,
      "outputs": []
    },
    {
      "cell_type": "code",
      "source": [
        "df"
      ],
      "metadata": {
        "colab": {
          "base_uri": "https://localhost:8080/",
          "height": 424
        },
        "id": "T15Y6FZE8gYh",
        "outputId": "3c56996c-0889-449a-8be0-421fd4ed68a9"
      },
      "execution_count": 12,
      "outputs": [
        {
          "output_type": "execute_result",
          "data": {
            "text/plain": [
              "        productsGroup_key   date_key  quantitySales  year  month month_year  \\\n",
              "0                       1 2019-09-02        26784.0  2019      9    2019-09   \n",
              "1                       1 2019-09-03         7432.0  2019      9    2019-09   \n",
              "2                       1 2019-09-04         1424.0  2019      9    2019-09   \n",
              "3                       1 2019-09-05          608.0  2019      9    2019-09   \n",
              "4                       1 2019-09-06          776.0  2019      9    2019-09   \n",
              "...                   ...        ...            ...   ...    ...        ...   \n",
              "242395                297 2021-11-23           18.0  2021     11    2021-11   \n",
              "242396                297 2021-11-24           16.0  2021     11    2021-11   \n",
              "242397                297 2021-11-25           16.0  2021     11    2021-11   \n",
              "242398                297 2021-11-26           16.0  2021     11    2021-11   \n",
              "242399                297 2021-11-27           38.0  2021     11    2021-11   \n",
              "\n",
              "        day_of_week   day_name  quarter  weekofyear  day  \n",
              "0                 0     Monday        3          36    2  \n",
              "1                 1    Tuesday        3          36    3  \n",
              "2                 2  Wednesday        3          36    4  \n",
              "3                 3   Thursday        3          36    5  \n",
              "4                 4     Friday        3          36    6  \n",
              "...             ...        ...      ...         ...  ...  \n",
              "242395            1    Tuesday        4          47   23  \n",
              "242396            2  Wednesday        4          47   24  \n",
              "242397            3   Thursday        4          47   25  \n",
              "242398            4     Friday        4          47   26  \n",
              "242399            5   Saturday        4          47   27  \n",
              "\n",
              "[242400 rows x 11 columns]"
            ],
            "text/html": [
              "\n",
              "  <div id=\"df-29aa7482-426e-4b96-a78b-33a3d5682bc5\">\n",
              "    <div class=\"colab-df-container\">\n",
              "      <div>\n",
              "<style scoped>\n",
              "    .dataframe tbody tr th:only-of-type {\n",
              "        vertical-align: middle;\n",
              "    }\n",
              "\n",
              "    .dataframe tbody tr th {\n",
              "        vertical-align: top;\n",
              "    }\n",
              "\n",
              "    .dataframe thead th {\n",
              "        text-align: right;\n",
              "    }\n",
              "</style>\n",
              "<table border=\"1\" class=\"dataframe\">\n",
              "  <thead>\n",
              "    <tr style=\"text-align: right;\">\n",
              "      <th></th>\n",
              "      <th>productsGroup_key</th>\n",
              "      <th>date_key</th>\n",
              "      <th>quantitySales</th>\n",
              "      <th>year</th>\n",
              "      <th>month</th>\n",
              "      <th>month_year</th>\n",
              "      <th>day_of_week</th>\n",
              "      <th>day_name</th>\n",
              "      <th>quarter</th>\n",
              "      <th>weekofyear</th>\n",
              "      <th>day</th>\n",
              "    </tr>\n",
              "  </thead>\n",
              "  <tbody>\n",
              "    <tr>\n",
              "      <th>0</th>\n",
              "      <td>1</td>\n",
              "      <td>2019-09-02</td>\n",
              "      <td>26784.0</td>\n",
              "      <td>2019</td>\n",
              "      <td>9</td>\n",
              "      <td>2019-09</td>\n",
              "      <td>0</td>\n",
              "      <td>Monday</td>\n",
              "      <td>3</td>\n",
              "      <td>36</td>\n",
              "      <td>2</td>\n",
              "    </tr>\n",
              "    <tr>\n",
              "      <th>1</th>\n",
              "      <td>1</td>\n",
              "      <td>2019-09-03</td>\n",
              "      <td>7432.0</td>\n",
              "      <td>2019</td>\n",
              "      <td>9</td>\n",
              "      <td>2019-09</td>\n",
              "      <td>1</td>\n",
              "      <td>Tuesday</td>\n",
              "      <td>3</td>\n",
              "      <td>36</td>\n",
              "      <td>3</td>\n",
              "    </tr>\n",
              "    <tr>\n",
              "      <th>2</th>\n",
              "      <td>1</td>\n",
              "      <td>2019-09-04</td>\n",
              "      <td>1424.0</td>\n",
              "      <td>2019</td>\n",
              "      <td>9</td>\n",
              "      <td>2019-09</td>\n",
              "      <td>2</td>\n",
              "      <td>Wednesday</td>\n",
              "      <td>3</td>\n",
              "      <td>36</td>\n",
              "      <td>4</td>\n",
              "    </tr>\n",
              "    <tr>\n",
              "      <th>3</th>\n",
              "      <td>1</td>\n",
              "      <td>2019-09-05</td>\n",
              "      <td>608.0</td>\n",
              "      <td>2019</td>\n",
              "      <td>9</td>\n",
              "      <td>2019-09</td>\n",
              "      <td>3</td>\n",
              "      <td>Thursday</td>\n",
              "      <td>3</td>\n",
              "      <td>36</td>\n",
              "      <td>5</td>\n",
              "    </tr>\n",
              "    <tr>\n",
              "      <th>4</th>\n",
              "      <td>1</td>\n",
              "      <td>2019-09-06</td>\n",
              "      <td>776.0</td>\n",
              "      <td>2019</td>\n",
              "      <td>9</td>\n",
              "      <td>2019-09</td>\n",
              "      <td>4</td>\n",
              "      <td>Friday</td>\n",
              "      <td>3</td>\n",
              "      <td>36</td>\n",
              "      <td>6</td>\n",
              "    </tr>\n",
              "    <tr>\n",
              "      <th>...</th>\n",
              "      <td>...</td>\n",
              "      <td>...</td>\n",
              "      <td>...</td>\n",
              "      <td>...</td>\n",
              "      <td>...</td>\n",
              "      <td>...</td>\n",
              "      <td>...</td>\n",
              "      <td>...</td>\n",
              "      <td>...</td>\n",
              "      <td>...</td>\n",
              "      <td>...</td>\n",
              "    </tr>\n",
              "    <tr>\n",
              "      <th>242395</th>\n",
              "      <td>297</td>\n",
              "      <td>2021-11-23</td>\n",
              "      <td>18.0</td>\n",
              "      <td>2021</td>\n",
              "      <td>11</td>\n",
              "      <td>2021-11</td>\n",
              "      <td>1</td>\n",
              "      <td>Tuesday</td>\n",
              "      <td>4</td>\n",
              "      <td>47</td>\n",
              "      <td>23</td>\n",
              "    </tr>\n",
              "    <tr>\n",
              "      <th>242396</th>\n",
              "      <td>297</td>\n",
              "      <td>2021-11-24</td>\n",
              "      <td>16.0</td>\n",
              "      <td>2021</td>\n",
              "      <td>11</td>\n",
              "      <td>2021-11</td>\n",
              "      <td>2</td>\n",
              "      <td>Wednesday</td>\n",
              "      <td>4</td>\n",
              "      <td>47</td>\n",
              "      <td>24</td>\n",
              "    </tr>\n",
              "    <tr>\n",
              "      <th>242397</th>\n",
              "      <td>297</td>\n",
              "      <td>2021-11-25</td>\n",
              "      <td>16.0</td>\n",
              "      <td>2021</td>\n",
              "      <td>11</td>\n",
              "      <td>2021-11</td>\n",
              "      <td>3</td>\n",
              "      <td>Thursday</td>\n",
              "      <td>4</td>\n",
              "      <td>47</td>\n",
              "      <td>25</td>\n",
              "    </tr>\n",
              "    <tr>\n",
              "      <th>242398</th>\n",
              "      <td>297</td>\n",
              "      <td>2021-11-26</td>\n",
              "      <td>16.0</td>\n",
              "      <td>2021</td>\n",
              "      <td>11</td>\n",
              "      <td>2021-11</td>\n",
              "      <td>4</td>\n",
              "      <td>Friday</td>\n",
              "      <td>4</td>\n",
              "      <td>47</td>\n",
              "      <td>26</td>\n",
              "    </tr>\n",
              "    <tr>\n",
              "      <th>242399</th>\n",
              "      <td>297</td>\n",
              "      <td>2021-11-27</td>\n",
              "      <td>38.0</td>\n",
              "      <td>2021</td>\n",
              "      <td>11</td>\n",
              "      <td>2021-11</td>\n",
              "      <td>5</td>\n",
              "      <td>Saturday</td>\n",
              "      <td>4</td>\n",
              "      <td>47</td>\n",
              "      <td>27</td>\n",
              "    </tr>\n",
              "  </tbody>\n",
              "</table>\n",
              "<p>242400 rows × 11 columns</p>\n",
              "</div>\n",
              "      <button class=\"colab-df-convert\" onclick=\"convertToInteractive('df-29aa7482-426e-4b96-a78b-33a3d5682bc5')\"\n",
              "              title=\"Convert this dataframe to an interactive table.\"\n",
              "              style=\"display:none;\">\n",
              "        \n",
              "  <svg xmlns=\"http://www.w3.org/2000/svg\" height=\"24px\"viewBox=\"0 0 24 24\"\n",
              "       width=\"24px\">\n",
              "    <path d=\"M0 0h24v24H0V0z\" fill=\"none\"/>\n",
              "    <path d=\"M18.56 5.44l.94 2.06.94-2.06 2.06-.94-2.06-.94-.94-2.06-.94 2.06-2.06.94zm-11 1L8.5 8.5l.94-2.06 2.06-.94-2.06-.94L8.5 2.5l-.94 2.06-2.06.94zm10 10l.94 2.06.94-2.06 2.06-.94-2.06-.94-.94-2.06-.94 2.06-2.06.94z\"/><path d=\"M17.41 7.96l-1.37-1.37c-.4-.4-.92-.59-1.43-.59-.52 0-1.04.2-1.43.59L10.3 9.45l-7.72 7.72c-.78.78-.78 2.05 0 2.83L4 21.41c.39.39.9.59 1.41.59.51 0 1.02-.2 1.41-.59l7.78-7.78 2.81-2.81c.8-.78.8-2.07 0-2.86zM5.41 20L4 18.59l7.72-7.72 1.47 1.35L5.41 20z\"/>\n",
              "  </svg>\n",
              "      </button>\n",
              "      \n",
              "  <style>\n",
              "    .colab-df-container {\n",
              "      display:flex;\n",
              "      flex-wrap:wrap;\n",
              "      gap: 12px;\n",
              "    }\n",
              "\n",
              "    .colab-df-convert {\n",
              "      background-color: #E8F0FE;\n",
              "      border: none;\n",
              "      border-radius: 50%;\n",
              "      cursor: pointer;\n",
              "      display: none;\n",
              "      fill: #1967D2;\n",
              "      height: 32px;\n",
              "      padding: 0 0 0 0;\n",
              "      width: 32px;\n",
              "    }\n",
              "\n",
              "    .colab-df-convert:hover {\n",
              "      background-color: #E2EBFA;\n",
              "      box-shadow: 0px 1px 2px rgba(60, 64, 67, 0.3), 0px 1px 3px 1px rgba(60, 64, 67, 0.15);\n",
              "      fill: #174EA6;\n",
              "    }\n",
              "\n",
              "    [theme=dark] .colab-df-convert {\n",
              "      background-color: #3B4455;\n",
              "      fill: #D2E3FC;\n",
              "    }\n",
              "\n",
              "    [theme=dark] .colab-df-convert:hover {\n",
              "      background-color: #434B5C;\n",
              "      box-shadow: 0px 1px 3px 1px rgba(0, 0, 0, 0.15);\n",
              "      filter: drop-shadow(0px 1px 2px rgba(0, 0, 0, 0.3));\n",
              "      fill: #FFFFFF;\n",
              "    }\n",
              "  </style>\n",
              "\n",
              "      <script>\n",
              "        const buttonEl =\n",
              "          document.querySelector('#df-29aa7482-426e-4b96-a78b-33a3d5682bc5 button.colab-df-convert');\n",
              "        buttonEl.style.display =\n",
              "          google.colab.kernel.accessAllowed ? 'block' : 'none';\n",
              "\n",
              "        async function convertToInteractive(key) {\n",
              "          const element = document.querySelector('#df-29aa7482-426e-4b96-a78b-33a3d5682bc5');\n",
              "          const dataTable =\n",
              "            await google.colab.kernel.invokeFunction('convertToInteractive',\n",
              "                                                     [key], {});\n",
              "          if (!dataTable) return;\n",
              "\n",
              "          const docLinkHtml = 'Like what you see? Visit the ' +\n",
              "            '<a target=\"_blank\" href=https://colab.research.google.com/notebooks/data_table.ipynb>data table notebook</a>'\n",
              "            + ' to learn more about interactive tables.';\n",
              "          element.innerHTML = '';\n",
              "          dataTable['output_type'] = 'display_data';\n",
              "          await google.colab.output.renderOutput(dataTable, element);\n",
              "          const docLink = document.createElement('div');\n",
              "          docLink.innerHTML = docLinkHtml;\n",
              "          element.appendChild(docLink);\n",
              "        }\n",
              "      </script>\n",
              "    </div>\n",
              "  </div>\n",
              "  "
            ]
          },
          "metadata": {},
          "execution_count": 12
        }
      ]
    },
    {
      "cell_type": "code",
      "source": [
        "df1=df.set_index(\"date_key\")"
      ],
      "metadata": {
        "id": "vln-gdpCkE8x"
      },
      "execution_count": 22,
      "outputs": []
    },
    {
      "cell_type": "markdown",
      "source": [
        "We now wish to remove the outliers of our data in order to have accurate prediction"
      ],
      "metadata": {
        "id": "2SAtm4ZKPtzn"
      }
    },
    {
      "cell_type": "code",
      "source": [
        "q1 = np.percentile(df.quantitySales, 25)\n",
        "q2 = np.percentile(df.quantitySales, 50)\n",
        "q3 = np.percentile(df.quantitySales, 75)\n",
        "\n",
        "iqr = q3 - q1\n",
        "\n",
        "# outlier boundaries\n",
        "lower_bound = q1 - 1.5 * iqr\n",
        "upper_bound = q3 + 1.5 * iqr\n",
        "\n",
        "outliers = df[(df[\"quantitySales\"] < lower_bound) | (df[\"quantitySales\"] > upper_bound)]\n",
        "print(outliers.head())\n",
        "df = df.drop(outliers.index)\n",
        "len(outliers)"
      ],
      "metadata": {
        "id": "XYgppWeXQrXQ",
        "colab": {
          "base_uri": "https://localhost:8080/"
        },
        "outputId": "e1882061-b777-4499-c371-75894d01be35"
      },
      "execution_count": 14,
      "outputs": [
        {
          "output_type": "stream",
          "name": "stdout",
          "text": [
            "    productsGroup_key   date_key  quantitySales  year  month month_year  \\\n",
            "0                   1 2019-09-02        26784.0  2019      9    2019-09   \n",
            "14                  1 2019-09-16        42040.0  2019      9    2019-09   \n",
            "25                  1 2019-09-27        15048.0  2019      9    2019-09   \n",
            "39                  1 2019-10-11        10528.0  2019     10    2019-10   \n",
            "42                  1 2019-10-14        15656.0  2019     10    2019-10   \n",
            "\n",
            "    day_of_week day_name  quarter  weekofyear  day  \n",
            "0             0   Monday        3          36    2  \n",
            "14            0   Monday        3          38   16  \n",
            "25            4   Friday        3          39   27  \n",
            "39            4   Friday        4          41   11  \n",
            "42            0   Monday        4          42   14  \n"
          ]
        },
        {
          "output_type": "execute_result",
          "data": {
            "text/plain": [
              "29560"
            ]
          },
          "metadata": {},
          "execution_count": 14
        }
      ]
    },
    {
      "cell_type": "code",
      "source": [
        "X=df[[\"productsGroup_key\",\"quantitySales\",\"year\",\"month\",\"day_of_week\",\"day\",\"quarter\",\"weekofyear\",\"date_key\"]]\n",
        "X_pred=df_pred[[\"productsGroup_key\",\"quantitySales\",\"year\",\"month\",\"day_of_week\",\"day\",\"quarter\",\"weekofyear\",\"date_key\"]]\n",
        "#X=df1[[\"productsGroup_key\",\"quantitySales\",\"year\",\"month\",\"day_of_week\",\"day\"]]"
      ],
      "metadata": {
        "id": "IWcvdDxIDBoF"
      },
      "execution_count": 23,
      "outputs": []
    },
    {
      "cell_type": "code",
      "source": [
        "df_pred"
      ],
      "metadata": {
        "colab": {
          "base_uri": "https://localhost:8080/",
          "height": 424
        },
        "id": "5mbpnuBpwpgI",
        "outputId": "4217c57a-498c-4369-88a2-4703ec4c8cdb"
      },
      "execution_count": 24,
      "outputs": [
        {
          "output_type": "execute_result",
          "data": {
            "text/plain": [
              "      productsGroup_key   date_key  quantitySales  year  month month_year  \\\n",
              "0                     1 2021-11-28              0  2021     11    2021-11   \n",
              "1                     1 2021-11-29              0  2021     11    2021-11   \n",
              "2                     1 2021-11-30              0  2021     11    2021-11   \n",
              "3                     1 2021-12-01              0  2021     12    2021-12   \n",
              "4                     1 2021-12-02              0  2021     12    2021-12   \n",
              "...                 ...        ...            ...   ...    ...        ...   \n",
              "8311                297 2021-12-21              0  2021     12    2021-12   \n",
              "8312                297 2021-12-22              0  2021     12    2021-12   \n",
              "8313                297 2021-12-23              0  2021     12    2021-12   \n",
              "8314                297 2021-12-24              0  2021     12    2021-12   \n",
              "8315                297 2021-12-25              0  2021     12    2021-12   \n",
              "\n",
              "      day_of_week   day_name  quarter  weekofyear  day  \n",
              "0               6     Sunday        4          47   28  \n",
              "1               0     Monday        4          48   29  \n",
              "2               1    Tuesday        4          48   30  \n",
              "3               2  Wednesday        4          48    1  \n",
              "4               3   Thursday        4          48    2  \n",
              "...           ...        ...      ...         ...  ...  \n",
              "8311            1    Tuesday        4          51   21  \n",
              "8312            2  Wednesday        4          51   22  \n",
              "8313            3   Thursday        4          51   23  \n",
              "8314            4     Friday        4          51   24  \n",
              "8315            5   Saturday        4          51   25  \n",
              "\n",
              "[8316 rows x 11 columns]"
            ],
            "text/html": [
              "\n",
              "  <div id=\"df-96c703cc-47a1-41e1-b53d-b29eea2d7efa\">\n",
              "    <div class=\"colab-df-container\">\n",
              "      <div>\n",
              "<style scoped>\n",
              "    .dataframe tbody tr th:only-of-type {\n",
              "        vertical-align: middle;\n",
              "    }\n",
              "\n",
              "    .dataframe tbody tr th {\n",
              "        vertical-align: top;\n",
              "    }\n",
              "\n",
              "    .dataframe thead th {\n",
              "        text-align: right;\n",
              "    }\n",
              "</style>\n",
              "<table border=\"1\" class=\"dataframe\">\n",
              "  <thead>\n",
              "    <tr style=\"text-align: right;\">\n",
              "      <th></th>\n",
              "      <th>productsGroup_key</th>\n",
              "      <th>date_key</th>\n",
              "      <th>quantitySales</th>\n",
              "      <th>year</th>\n",
              "      <th>month</th>\n",
              "      <th>month_year</th>\n",
              "      <th>day_of_week</th>\n",
              "      <th>day_name</th>\n",
              "      <th>quarter</th>\n",
              "      <th>weekofyear</th>\n",
              "      <th>day</th>\n",
              "    </tr>\n",
              "  </thead>\n",
              "  <tbody>\n",
              "    <tr>\n",
              "      <th>0</th>\n",
              "      <td>1</td>\n",
              "      <td>2021-11-28</td>\n",
              "      <td>0</td>\n",
              "      <td>2021</td>\n",
              "      <td>11</td>\n",
              "      <td>2021-11</td>\n",
              "      <td>6</td>\n",
              "      <td>Sunday</td>\n",
              "      <td>4</td>\n",
              "      <td>47</td>\n",
              "      <td>28</td>\n",
              "    </tr>\n",
              "    <tr>\n",
              "      <th>1</th>\n",
              "      <td>1</td>\n",
              "      <td>2021-11-29</td>\n",
              "      <td>0</td>\n",
              "      <td>2021</td>\n",
              "      <td>11</td>\n",
              "      <td>2021-11</td>\n",
              "      <td>0</td>\n",
              "      <td>Monday</td>\n",
              "      <td>4</td>\n",
              "      <td>48</td>\n",
              "      <td>29</td>\n",
              "    </tr>\n",
              "    <tr>\n",
              "      <th>2</th>\n",
              "      <td>1</td>\n",
              "      <td>2021-11-30</td>\n",
              "      <td>0</td>\n",
              "      <td>2021</td>\n",
              "      <td>11</td>\n",
              "      <td>2021-11</td>\n",
              "      <td>1</td>\n",
              "      <td>Tuesday</td>\n",
              "      <td>4</td>\n",
              "      <td>48</td>\n",
              "      <td>30</td>\n",
              "    </tr>\n",
              "    <tr>\n",
              "      <th>3</th>\n",
              "      <td>1</td>\n",
              "      <td>2021-12-01</td>\n",
              "      <td>0</td>\n",
              "      <td>2021</td>\n",
              "      <td>12</td>\n",
              "      <td>2021-12</td>\n",
              "      <td>2</td>\n",
              "      <td>Wednesday</td>\n",
              "      <td>4</td>\n",
              "      <td>48</td>\n",
              "      <td>1</td>\n",
              "    </tr>\n",
              "    <tr>\n",
              "      <th>4</th>\n",
              "      <td>1</td>\n",
              "      <td>2021-12-02</td>\n",
              "      <td>0</td>\n",
              "      <td>2021</td>\n",
              "      <td>12</td>\n",
              "      <td>2021-12</td>\n",
              "      <td>3</td>\n",
              "      <td>Thursday</td>\n",
              "      <td>4</td>\n",
              "      <td>48</td>\n",
              "      <td>2</td>\n",
              "    </tr>\n",
              "    <tr>\n",
              "      <th>...</th>\n",
              "      <td>...</td>\n",
              "      <td>...</td>\n",
              "      <td>...</td>\n",
              "      <td>...</td>\n",
              "      <td>...</td>\n",
              "      <td>...</td>\n",
              "      <td>...</td>\n",
              "      <td>...</td>\n",
              "      <td>...</td>\n",
              "      <td>...</td>\n",
              "      <td>...</td>\n",
              "    </tr>\n",
              "    <tr>\n",
              "      <th>8311</th>\n",
              "      <td>297</td>\n",
              "      <td>2021-12-21</td>\n",
              "      <td>0</td>\n",
              "      <td>2021</td>\n",
              "      <td>12</td>\n",
              "      <td>2021-12</td>\n",
              "      <td>1</td>\n",
              "      <td>Tuesday</td>\n",
              "      <td>4</td>\n",
              "      <td>51</td>\n",
              "      <td>21</td>\n",
              "    </tr>\n",
              "    <tr>\n",
              "      <th>8312</th>\n",
              "      <td>297</td>\n",
              "      <td>2021-12-22</td>\n",
              "      <td>0</td>\n",
              "      <td>2021</td>\n",
              "      <td>12</td>\n",
              "      <td>2021-12</td>\n",
              "      <td>2</td>\n",
              "      <td>Wednesday</td>\n",
              "      <td>4</td>\n",
              "      <td>51</td>\n",
              "      <td>22</td>\n",
              "    </tr>\n",
              "    <tr>\n",
              "      <th>8313</th>\n",
              "      <td>297</td>\n",
              "      <td>2021-12-23</td>\n",
              "      <td>0</td>\n",
              "      <td>2021</td>\n",
              "      <td>12</td>\n",
              "      <td>2021-12</td>\n",
              "      <td>3</td>\n",
              "      <td>Thursday</td>\n",
              "      <td>4</td>\n",
              "      <td>51</td>\n",
              "      <td>23</td>\n",
              "    </tr>\n",
              "    <tr>\n",
              "      <th>8314</th>\n",
              "      <td>297</td>\n",
              "      <td>2021-12-24</td>\n",
              "      <td>0</td>\n",
              "      <td>2021</td>\n",
              "      <td>12</td>\n",
              "      <td>2021-12</td>\n",
              "      <td>4</td>\n",
              "      <td>Friday</td>\n",
              "      <td>4</td>\n",
              "      <td>51</td>\n",
              "      <td>24</td>\n",
              "    </tr>\n",
              "    <tr>\n",
              "      <th>8315</th>\n",
              "      <td>297</td>\n",
              "      <td>2021-12-25</td>\n",
              "      <td>0</td>\n",
              "      <td>2021</td>\n",
              "      <td>12</td>\n",
              "      <td>2021-12</td>\n",
              "      <td>5</td>\n",
              "      <td>Saturday</td>\n",
              "      <td>4</td>\n",
              "      <td>51</td>\n",
              "      <td>25</td>\n",
              "    </tr>\n",
              "  </tbody>\n",
              "</table>\n",
              "<p>8316 rows × 11 columns</p>\n",
              "</div>\n",
              "      <button class=\"colab-df-convert\" onclick=\"convertToInteractive('df-96c703cc-47a1-41e1-b53d-b29eea2d7efa')\"\n",
              "              title=\"Convert this dataframe to an interactive table.\"\n",
              "              style=\"display:none;\">\n",
              "        \n",
              "  <svg xmlns=\"http://www.w3.org/2000/svg\" height=\"24px\"viewBox=\"0 0 24 24\"\n",
              "       width=\"24px\">\n",
              "    <path d=\"M0 0h24v24H0V0z\" fill=\"none\"/>\n",
              "    <path d=\"M18.56 5.44l.94 2.06.94-2.06 2.06-.94-2.06-.94-.94-2.06-.94 2.06-2.06.94zm-11 1L8.5 8.5l.94-2.06 2.06-.94-2.06-.94L8.5 2.5l-.94 2.06-2.06.94zm10 10l.94 2.06.94-2.06 2.06-.94-2.06-.94-.94-2.06-.94 2.06-2.06.94z\"/><path d=\"M17.41 7.96l-1.37-1.37c-.4-.4-.92-.59-1.43-.59-.52 0-1.04.2-1.43.59L10.3 9.45l-7.72 7.72c-.78.78-.78 2.05 0 2.83L4 21.41c.39.39.9.59 1.41.59.51 0 1.02-.2 1.41-.59l7.78-7.78 2.81-2.81c.8-.78.8-2.07 0-2.86zM5.41 20L4 18.59l7.72-7.72 1.47 1.35L5.41 20z\"/>\n",
              "  </svg>\n",
              "      </button>\n",
              "      \n",
              "  <style>\n",
              "    .colab-df-container {\n",
              "      display:flex;\n",
              "      flex-wrap:wrap;\n",
              "      gap: 12px;\n",
              "    }\n",
              "\n",
              "    .colab-df-convert {\n",
              "      background-color: #E8F0FE;\n",
              "      border: none;\n",
              "      border-radius: 50%;\n",
              "      cursor: pointer;\n",
              "      display: none;\n",
              "      fill: #1967D2;\n",
              "      height: 32px;\n",
              "      padding: 0 0 0 0;\n",
              "      width: 32px;\n",
              "    }\n",
              "\n",
              "    .colab-df-convert:hover {\n",
              "      background-color: #E2EBFA;\n",
              "      box-shadow: 0px 1px 2px rgba(60, 64, 67, 0.3), 0px 1px 3px 1px rgba(60, 64, 67, 0.15);\n",
              "      fill: #174EA6;\n",
              "    }\n",
              "\n",
              "    [theme=dark] .colab-df-convert {\n",
              "      background-color: #3B4455;\n",
              "      fill: #D2E3FC;\n",
              "    }\n",
              "\n",
              "    [theme=dark] .colab-df-convert:hover {\n",
              "      background-color: #434B5C;\n",
              "      box-shadow: 0px 1px 3px 1px rgba(0, 0, 0, 0.15);\n",
              "      filter: drop-shadow(0px 1px 2px rgba(0, 0, 0, 0.3));\n",
              "      fill: #FFFFFF;\n",
              "    }\n",
              "  </style>\n",
              "\n",
              "      <script>\n",
              "        const buttonEl =\n",
              "          document.querySelector('#df-96c703cc-47a1-41e1-b53d-b29eea2d7efa button.colab-df-convert');\n",
              "        buttonEl.style.display =\n",
              "          google.colab.kernel.accessAllowed ? 'block' : 'none';\n",
              "\n",
              "        async function convertToInteractive(key) {\n",
              "          const element = document.querySelector('#df-96c703cc-47a1-41e1-b53d-b29eea2d7efa');\n",
              "          const dataTable =\n",
              "            await google.colab.kernel.invokeFunction('convertToInteractive',\n",
              "                                                     [key], {});\n",
              "          if (!dataTable) return;\n",
              "\n",
              "          const docLinkHtml = 'Like what you see? Visit the ' +\n",
              "            '<a target=\"_blank\" href=https://colab.research.google.com/notebooks/data_table.ipynb>data table notebook</a>'\n",
              "            + ' to learn more about interactive tables.';\n",
              "          element.innerHTML = '';\n",
              "          dataTable['output_type'] = 'display_data';\n",
              "          await google.colab.output.renderOutput(dataTable, element);\n",
              "          const docLink = document.createElement('div');\n",
              "          docLink.innerHTML = docLinkHtml;\n",
              "          element.appendChild(docLink);\n",
              "        }\n",
              "      </script>\n",
              "    </div>\n",
              "  </div>\n",
              "  "
            ]
          },
          "metadata": {},
          "execution_count": 24
        }
      ]
    },
    {
      "cell_type": "markdown",
      "source": [
        "### Data analysis"
      ],
      "metadata": {
        "id": "7H3tBCcXjiLr"
      }
    },
    {
      "cell_type": "code",
      "source": [
        "X.describe()"
      ],
      "metadata": {
        "colab": {
          "base_uri": "https://localhost:8080/",
          "height": 300
        },
        "id": "m5dwqZa1WfUB",
        "outputId": "75c68429-0c05-4fa7-e5a8-409787413068"
      },
      "execution_count": 14,
      "outputs": [
        {
          "output_type": "execute_result",
          "data": {
            "text/plain": [
              "       productsGroup_key  quantitySales           year          month  \\\n",
              "count      242400.000000   2.424000e+05  242400.000000  242400.000000   \n",
              "mean          148.684088   4.038232e+03    2020.256877       6.890516   \n",
              "std            85.696190   1.015878e+04       0.698231       3.437769   \n",
              "min             1.000000   1.000000e+01    2019.000000       1.000000   \n",
              "25%            75.000000   3.740000e+02    2020.000000       4.000000   \n",
              "50%           149.000000   1.230000e+03    2020.000000       7.000000   \n",
              "75%           223.000000   3.410000e+03    2021.000000      10.000000   \n",
              "max           297.000000   1.395774e+06    2021.000000      12.000000   \n",
              "\n",
              "         day_of_week            day        quarter     weekofyear  \n",
              "count  242400.000000  242400.000000  242400.000000  242400.000000  \n",
              "mean        2.999542      15.685309       2.631506      28.252215  \n",
              "std         1.999795       8.776865       1.124618      15.060981  \n",
              "min         0.000000       1.000000       1.000000       1.000000  \n",
              "25%         1.000000       8.000000       2.000000      15.000000  \n",
              "50%         3.000000      16.000000       3.000000      30.000000  \n",
              "75%         5.000000      23.000000       4.000000      41.000000  \n",
              "max         6.000000      31.000000       4.000000      53.000000  "
            ],
            "text/html": [
              "\n",
              "  <div id=\"df-075e9a4a-8650-4f4a-8b4c-aeb0ddc7c4e5\">\n",
              "    <div class=\"colab-df-container\">\n",
              "      <div>\n",
              "<style scoped>\n",
              "    .dataframe tbody tr th:only-of-type {\n",
              "        vertical-align: middle;\n",
              "    }\n",
              "\n",
              "    .dataframe tbody tr th {\n",
              "        vertical-align: top;\n",
              "    }\n",
              "\n",
              "    .dataframe thead th {\n",
              "        text-align: right;\n",
              "    }\n",
              "</style>\n",
              "<table border=\"1\" class=\"dataframe\">\n",
              "  <thead>\n",
              "    <tr style=\"text-align: right;\">\n",
              "      <th></th>\n",
              "      <th>productsGroup_key</th>\n",
              "      <th>quantitySales</th>\n",
              "      <th>year</th>\n",
              "      <th>month</th>\n",
              "      <th>day_of_week</th>\n",
              "      <th>day</th>\n",
              "      <th>quarter</th>\n",
              "      <th>weekofyear</th>\n",
              "    </tr>\n",
              "  </thead>\n",
              "  <tbody>\n",
              "    <tr>\n",
              "      <th>count</th>\n",
              "      <td>242400.000000</td>\n",
              "      <td>2.424000e+05</td>\n",
              "      <td>242400.000000</td>\n",
              "      <td>242400.000000</td>\n",
              "      <td>242400.000000</td>\n",
              "      <td>242400.000000</td>\n",
              "      <td>242400.000000</td>\n",
              "      <td>242400.000000</td>\n",
              "    </tr>\n",
              "    <tr>\n",
              "      <th>mean</th>\n",
              "      <td>148.684088</td>\n",
              "      <td>4.038232e+03</td>\n",
              "      <td>2020.256877</td>\n",
              "      <td>6.890516</td>\n",
              "      <td>2.999542</td>\n",
              "      <td>15.685309</td>\n",
              "      <td>2.631506</td>\n",
              "      <td>28.252215</td>\n",
              "    </tr>\n",
              "    <tr>\n",
              "      <th>std</th>\n",
              "      <td>85.696190</td>\n",
              "      <td>1.015878e+04</td>\n",
              "      <td>0.698231</td>\n",
              "      <td>3.437769</td>\n",
              "      <td>1.999795</td>\n",
              "      <td>8.776865</td>\n",
              "      <td>1.124618</td>\n",
              "      <td>15.060981</td>\n",
              "    </tr>\n",
              "    <tr>\n",
              "      <th>min</th>\n",
              "      <td>1.000000</td>\n",
              "      <td>1.000000e+01</td>\n",
              "      <td>2019.000000</td>\n",
              "      <td>1.000000</td>\n",
              "      <td>0.000000</td>\n",
              "      <td>1.000000</td>\n",
              "      <td>1.000000</td>\n",
              "      <td>1.000000</td>\n",
              "    </tr>\n",
              "    <tr>\n",
              "      <th>25%</th>\n",
              "      <td>75.000000</td>\n",
              "      <td>3.740000e+02</td>\n",
              "      <td>2020.000000</td>\n",
              "      <td>4.000000</td>\n",
              "      <td>1.000000</td>\n",
              "      <td>8.000000</td>\n",
              "      <td>2.000000</td>\n",
              "      <td>15.000000</td>\n",
              "    </tr>\n",
              "    <tr>\n",
              "      <th>50%</th>\n",
              "      <td>149.000000</td>\n",
              "      <td>1.230000e+03</td>\n",
              "      <td>2020.000000</td>\n",
              "      <td>7.000000</td>\n",
              "      <td>3.000000</td>\n",
              "      <td>16.000000</td>\n",
              "      <td>3.000000</td>\n",
              "      <td>30.000000</td>\n",
              "    </tr>\n",
              "    <tr>\n",
              "      <th>75%</th>\n",
              "      <td>223.000000</td>\n",
              "      <td>3.410000e+03</td>\n",
              "      <td>2021.000000</td>\n",
              "      <td>10.000000</td>\n",
              "      <td>5.000000</td>\n",
              "      <td>23.000000</td>\n",
              "      <td>4.000000</td>\n",
              "      <td>41.000000</td>\n",
              "    </tr>\n",
              "    <tr>\n",
              "      <th>max</th>\n",
              "      <td>297.000000</td>\n",
              "      <td>1.395774e+06</td>\n",
              "      <td>2021.000000</td>\n",
              "      <td>12.000000</td>\n",
              "      <td>6.000000</td>\n",
              "      <td>31.000000</td>\n",
              "      <td>4.000000</td>\n",
              "      <td>53.000000</td>\n",
              "    </tr>\n",
              "  </tbody>\n",
              "</table>\n",
              "</div>\n",
              "      <button class=\"colab-df-convert\" onclick=\"convertToInteractive('df-075e9a4a-8650-4f4a-8b4c-aeb0ddc7c4e5')\"\n",
              "              title=\"Convert this dataframe to an interactive table.\"\n",
              "              style=\"display:none;\">\n",
              "        \n",
              "  <svg xmlns=\"http://www.w3.org/2000/svg\" height=\"24px\"viewBox=\"0 0 24 24\"\n",
              "       width=\"24px\">\n",
              "    <path d=\"M0 0h24v24H0V0z\" fill=\"none\"/>\n",
              "    <path d=\"M18.56 5.44l.94 2.06.94-2.06 2.06-.94-2.06-.94-.94-2.06-.94 2.06-2.06.94zm-11 1L8.5 8.5l.94-2.06 2.06-.94-2.06-.94L8.5 2.5l-.94 2.06-2.06.94zm10 10l.94 2.06.94-2.06 2.06-.94-2.06-.94-.94-2.06-.94 2.06-2.06.94z\"/><path d=\"M17.41 7.96l-1.37-1.37c-.4-.4-.92-.59-1.43-.59-.52 0-1.04.2-1.43.59L10.3 9.45l-7.72 7.72c-.78.78-.78 2.05 0 2.83L4 21.41c.39.39.9.59 1.41.59.51 0 1.02-.2 1.41-.59l7.78-7.78 2.81-2.81c.8-.78.8-2.07 0-2.86zM5.41 20L4 18.59l7.72-7.72 1.47 1.35L5.41 20z\"/>\n",
              "  </svg>\n",
              "      </button>\n",
              "      \n",
              "  <style>\n",
              "    .colab-df-container {\n",
              "      display:flex;\n",
              "      flex-wrap:wrap;\n",
              "      gap: 12px;\n",
              "    }\n",
              "\n",
              "    .colab-df-convert {\n",
              "      background-color: #E8F0FE;\n",
              "      border: none;\n",
              "      border-radius: 50%;\n",
              "      cursor: pointer;\n",
              "      display: none;\n",
              "      fill: #1967D2;\n",
              "      height: 32px;\n",
              "      padding: 0 0 0 0;\n",
              "      width: 32px;\n",
              "    }\n",
              "\n",
              "    .colab-df-convert:hover {\n",
              "      background-color: #E2EBFA;\n",
              "      box-shadow: 0px 1px 2px rgba(60, 64, 67, 0.3), 0px 1px 3px 1px rgba(60, 64, 67, 0.15);\n",
              "      fill: #174EA6;\n",
              "    }\n",
              "\n",
              "    [theme=dark] .colab-df-convert {\n",
              "      background-color: #3B4455;\n",
              "      fill: #D2E3FC;\n",
              "    }\n",
              "\n",
              "    [theme=dark] .colab-df-convert:hover {\n",
              "      background-color: #434B5C;\n",
              "      box-shadow: 0px 1px 3px 1px rgba(0, 0, 0, 0.15);\n",
              "      filter: drop-shadow(0px 1px 2px rgba(0, 0, 0, 0.3));\n",
              "      fill: #FFFFFF;\n",
              "    }\n",
              "  </style>\n",
              "\n",
              "      <script>\n",
              "        const buttonEl =\n",
              "          document.querySelector('#df-075e9a4a-8650-4f4a-8b4c-aeb0ddc7c4e5 button.colab-df-convert');\n",
              "        buttonEl.style.display =\n",
              "          google.colab.kernel.accessAllowed ? 'block' : 'none';\n",
              "\n",
              "        async function convertToInteractive(key) {\n",
              "          const element = document.querySelector('#df-075e9a4a-8650-4f4a-8b4c-aeb0ddc7c4e5');\n",
              "          const dataTable =\n",
              "            await google.colab.kernel.invokeFunction('convertToInteractive',\n",
              "                                                     [key], {});\n",
              "          if (!dataTable) return;\n",
              "\n",
              "          const docLinkHtml = 'Like what you see? Visit the ' +\n",
              "            '<a target=\"_blank\" href=https://colab.research.google.com/notebooks/data_table.ipynb>data table notebook</a>'\n",
              "            + ' to learn more about interactive tables.';\n",
              "          element.innerHTML = '';\n",
              "          dataTable['output_type'] = 'display_data';\n",
              "          await google.colab.output.renderOutput(dataTable, element);\n",
              "          const docLink = document.createElement('div');\n",
              "          docLink.innerHTML = docLinkHtml;\n",
              "          element.appendChild(docLink);\n",
              "        }\n",
              "      </script>\n",
              "    </div>\n",
              "  </div>\n",
              "  "
            ]
          },
          "metadata": {},
          "execution_count": 14
        }
      ]
    },
    {
      "cell_type": "markdown",
      "source": [
        "From the descriptive statistics about productsGroup_key we can see that the data is balanced and that the sales are collected at the same intervals."
      ],
      "metadata": {
        "id": "hG7ZHtZ_jmNF"
      }
    },
    {
      "cell_type": "code",
      "source": [
        "fig, ax = plt.subplots(figsize=(16, 11))\n",
        "\n",
        "ax.plot(df1.quantitySales)\n",
        "\n",
        "ax.set_xlabel('Time')\n",
        "ax.set_ylabel('sales (daily window)')\n",
        "fig.autofmt_xdate()\n",
        "plt.tight_layout()"
      ],
      "metadata": {
        "colab": {
          "base_uri": "https://localhost:8080/",
          "height": 713
        },
        "id": "xgKYMYEKkzVn",
        "outputId": "9b1b4d41-c6df-4fb4-e044-06cb4ae27055"
      },
      "execution_count": null,
      "outputs": [
        {
          "output_type": "display_data",
          "data": {
            "text/plain": [
              "<Figure size 1600x1100 with 1 Axes>"
            ],
            "image/png": "[encoded data removed]"
          },
          "metadata": {}
        }
      ]
    },
    {
      "cell_type": "markdown",
      "source": [
        "### Data Standarisation"
      ],
      "metadata": {
        "id": "hTHTiJQFS9sp"
      }
    },
    {
      "cell_type": "code",
      "source": [
        "from sklearn import preprocessing\n",
        "import numpy as np"
      ],
      "metadata": {
        "id": "ge5dZ33R9BFO"
      },
      "execution_count": 25,
      "outputs": []
    },
    {
      "cell_type": "code",
      "source": [
        "X=X.set_index(\"date_key\")\n",
        "y=X.pop(\"quantitySales\")\n",
        "X_pred=X_pred.set_index(\"date_key\")\n"
      ],
      "metadata": {
        "id": "XJs9_q-PB3mN"
      },
      "execution_count": 26,
      "outputs": []
    },
    {
      "cell_type": "code",
      "source": [
        "X_pred"
      ],
      "metadata": {
        "colab": {
          "base_uri": "https://localhost:8080/",
          "height": 455
        },
        "id": "GGPFyB0Rwjhb",
        "outputId": "f79b23cb-2447-46ca-9b54-5cbefd8accef"
      },
      "execution_count": 17,
      "outputs": [
        {
          "output_type": "execute_result",
          "data": {
            "text/plain": [
              "            productsGroup_key  quantitySales  year  month  day_of_week  day  \\\n",
              "date_key                                                                      \n",
              "2021-11-28                  1              0  2021     11            6   28   \n",
              "2021-11-29                  1              0  2021     11            0   29   \n",
              "2021-11-30                  1              0  2021     11            1   30   \n",
              "2021-12-01                  1              0  2021     12            2    1   \n",
              "2021-12-02                  1              0  2021     12            3    2   \n",
              "...                       ...            ...   ...    ...          ...  ...   \n",
              "2021-12-21                297              0  2021     12            1   21   \n",
              "2021-12-22                297              0  2021     12            2   22   \n",
              "2021-12-23                297              0  2021     12            3   23   \n",
              "2021-12-24                297              0  2021     12            4   24   \n",
              "2021-12-25                297              0  2021     12            5   25   \n",
              "\n",
              "            quarter  weekofyear  \n",
              "date_key                         \n",
              "2021-11-28        4          47  \n",
              "2021-11-29        4          48  \n",
              "2021-11-30        4          48  \n",
              "2021-12-01        4          48  \n",
              "2021-12-02        4          48  \n",
              "...             ...         ...  \n",
              "2021-12-21        4          51  \n",
              "2021-12-22        4          51  \n",
              "2021-12-23        4          51  \n",
              "2021-12-24        4          51  \n",
              "2021-12-25        4          51  \n",
              "\n",
              "[8316 rows x 8 columns]"
            ],
            "text/html": [
              "\n",
              "  <div id=\"df-ede4e856-2c51-46dd-91a6-a8a05c5fbbee\">\n",
              "    <div class=\"colab-df-container\">\n",
              "      <div>\n",
              "<style scoped>\n",
              "    .dataframe tbody tr th:only-of-type {\n",
              "        vertical-align: middle;\n",
              "    }\n",
              "\n",
              "    .dataframe tbody tr th {\n",
              "        vertical-align: top;\n",
              "    }\n",
              "\n",
              "    .dataframe thead th {\n",
              "        text-align: right;\n",
              "    }\n",
              "</style>\n",
              "<table border=\"1\" class=\"dataframe\">\n",
              "  <thead>\n",
              "    <tr style=\"text-align: right;\">\n",
              "      <th></th>\n",
              "      <th>productsGroup_key</th>\n",
              "      <th>quantitySales</th>\n",
              "      <th>year</th>\n",
              "      <th>month</th>\n",
              "      <th>day_of_week</th>\n",
              "      <th>day</th>\n",
              "      <th>quarter</th>\n",
              "      <th>weekofyear</th>\n",
              "    </tr>\n",
              "    <tr>\n",
              "      <th>date_key</th>\n",
              "      <th></th>\n",
              "      <th></th>\n",
              "      <th></th>\n",
              "      <th></th>\n",
              "      <th></th>\n",
              "      <th></th>\n",
              "      <th></th>\n",
              "      <th></th>\n",
              "    </tr>\n",
              "  </thead>\n",
              "  <tbody>\n",
              "    <tr>\n",
              "      <th>2021-11-28</th>\n",
              "      <td>1</td>\n",
              "      <td>0</td>\n",
              "      <td>2021</td>\n",
              "      <td>11</td>\n",
              "      <td>6</td>\n",
              "      <td>28</td>\n",
              "      <td>4</td>\n",
              "      <td>47</td>\n",
              "    </tr>\n",
              "    <tr>\n",
              "      <th>2021-11-29</th>\n",
              "      <td>1</td>\n",
              "      <td>0</td>\n",
              "      <td>2021</td>\n",
              "      <td>11</td>\n",
              "      <td>0</td>\n",
              "      <td>29</td>\n",
              "      <td>4</td>\n",
              "      <td>48</td>\n",
              "    </tr>\n",
              "    <tr>\n",
              "      <th>2021-11-30</th>\n",
              "      <td>1</td>\n",
              "      <td>0</td>\n",
              "      <td>2021</td>\n",
              "      <td>11</td>\n",
              "      <td>1</td>\n",
              "      <td>30</td>\n",
              "      <td>4</td>\n",
              "      <td>48</td>\n",
              "    </tr>\n",
              "    <tr>\n",
              "      <th>2021-12-01</th>\n",
              "      <td>1</td>\n",
              "      <td>0</td>\n",
              "      <td>2021</td>\n",
              "      <td>12</td>\n",
              "      <td>2</td>\n",
              "      <td>1</td>\n",
              "      <td>4</td>\n",
              "      <td>48</td>\n",
              "    </tr>\n",
              "    <tr>\n",
              "      <th>2021-12-02</th>\n",
              "      <td>1</td>\n",
              "      <td>0</td>\n",
              "      <td>2021</td>\n",
              "      <td>12</td>\n",
              "      <td>3</td>\n",
              "      <td>2</td>\n",
              "      <td>4</td>\n",
              "      <td>48</td>\n",
              "    </tr>\n",
              "    <tr>\n",
              "      <th>...</th>\n",
              "      <td>...</td>\n",
              "      <td>...</td>\n",
              "      <td>...</td>\n",
              "      <td>...</td>\n",
              "      <td>...</td>\n",
              "      <td>...</td>\n",
              "      <td>...</td>\n",
              "      <td>...</td>\n",
              "    </tr>\n",
              "    <tr>\n",
              "      <th>2021-12-21</th>\n",
              "      <td>297</td>\n",
              "      <td>0</td>\n",
              "      <td>2021</td>\n",
              "      <td>12</td>\n",
              "      <td>1</td>\n",
              "      <td>21</td>\n",
              "      <td>4</td>\n",
              "      <td>51</td>\n",
              "    </tr>\n",
              "    <tr>\n",
              "      <th>2021-12-22</th>\n",
              "      <td>297</td>\n",
              "      <td>0</td>\n",
              "      <td>2021</td>\n",
              "      <td>12</td>\n",
              "      <td>2</td>\n",
              "      <td>22</td>\n",
              "      <td>4</td>\n",
              "      <td>51</td>\n",
              "    </tr>\n",
              "    <tr>\n",
              "      <th>2021-12-23</th>\n",
              "      <td>297</td>\n",
              "      <td>0</td>\n",
              "      <td>2021</td>\n",
              "      <td>12</td>\n",
              "      <td>3</td>\n",
              "      <td>23</td>\n",
              "      <td>4</td>\n",
              "      <td>51</td>\n",
              "    </tr>\n",
              "    <tr>\n",
              "      <th>2021-12-24</th>\n",
              "      <td>297</td>\n",
              "      <td>0</td>\n",
              "      <td>2021</td>\n",
              "      <td>12</td>\n",
              "      <td>4</td>\n",
              "      <td>24</td>\n",
              "      <td>4</td>\n",
              "      <td>51</td>\n",
              "    </tr>\n",
              "    <tr>\n",
              "      <th>2021-12-25</th>\n",
              "      <td>297</td>\n",
              "      <td>0</td>\n",
              "      <td>2021</td>\n",
              "      <td>12</td>\n",
              "      <td>5</td>\n",
              "      <td>25</td>\n",
              "      <td>4</td>\n",
              "      <td>51</td>\n",
              "    </tr>\n",
              "  </tbody>\n",
              "</table>\n",
              "<p>8316 rows × 8 columns</p>\n",
              "</div>\n",
              "      <button class=\"colab-df-convert\" onclick=\"convertToInteractive('df-ede4e856-2c51-46dd-91a6-a8a05c5fbbee')\"\n",
              "              title=\"Convert this dataframe to an interactive table.\"\n",
              "              style=\"display:none;\">\n",
              "        \n",
              "  <svg xmlns=\"http://www.w3.org/2000/svg\" height=\"24px\"viewBox=\"0 0 24 24\"\n",
              "       width=\"24px\">\n",
              "    <path d=\"M0 0h24v24H0V0z\" fill=\"none\"/>\n",
              "    <path d=\"M18.56 5.44l.94 2.06.94-2.06 2.06-.94-2.06-.94-.94-2.06-.94 2.06-2.06.94zm-11 1L8.5 8.5l.94-2.06 2.06-.94-2.06-.94L8.5 2.5l-.94 2.06-2.06.94zm10 10l.94 2.06.94-2.06 2.06-.94-2.06-.94-.94-2.06-.94 2.06-2.06.94z\"/><path d=\"M17.41 7.96l-1.37-1.37c-.4-.4-.92-.59-1.43-.59-.52 0-1.04.2-1.43.59L10.3 9.45l-7.72 7.72c-.78.78-.78 2.05 0 2.83L4 21.41c.39.39.9.59 1.41.59.51 0 1.02-.2 1.41-.59l7.78-7.78 2.81-2.81c.8-.78.8-2.07 0-2.86zM5.41 20L4 18.59l7.72-7.72 1.47 1.35L5.41 20z\"/>\n",
              "  </svg>\n",
              "      </button>\n",
              "      \n",
              "  <style>\n",
              "    .colab-df-container {\n",
              "      display:flex;\n",
              "      flex-wrap:wrap;\n",
              "      gap: 12px;\n",
              "    }\n",
              "\n",
              "    .colab-df-convert {\n",
              "      background-color: #E8F0FE;\n",
              "      border: none;\n",
              "      border-radius: 50%;\n",
              "      cursor: pointer;\n",
              "      display: none;\n",
              "      fill: #1967D2;\n",
              "      height: 32px;\n",
              "      padding: 0 0 0 0;\n",
              "      width: 32px;\n",
              "    }\n",
              "\n",
              "    .colab-df-convert:hover {\n",
              "      background-color: #E2EBFA;\n",
              "      box-shadow: 0px 1px 2px rgba(60, 64, 67, 0.3), 0px 1px 3px 1px rgba(60, 64, 67, 0.15);\n",
              "      fill: #174EA6;\n",
              "    }\n",
              "\n",
              "    [theme=dark] .colab-df-convert {\n",
              "      background-color: #3B4455;\n",
              "      fill: #D2E3FC;\n",
              "    }\n",
              "\n",
              "    [theme=dark] .colab-df-convert:hover {\n",
              "      background-color: #434B5C;\n",
              "      box-shadow: 0px 1px 3px 1px rgba(0, 0, 0, 0.15);\n",
              "      filter: drop-shadow(0px 1px 2px rgba(0, 0, 0, 0.3));\n",
              "      fill: #FFFFFF;\n",
              "    }\n",
              "  </style>\n",
              "\n",
              "      <script>\n",
              "        const buttonEl =\n",
              "          document.querySelector('#df-ede4e856-2c51-46dd-91a6-a8a05c5fbbee button.colab-df-convert');\n",
              "        buttonEl.style.display =\n",
              "          google.colab.kernel.accessAllowed ? 'block' : 'none';\n",
              "\n",
              "        async function convertToInteractive(key) {\n",
              "          const element = document.querySelector('#df-ede4e856-2c51-46dd-91a6-a8a05c5fbbee');\n",
              "          const dataTable =\n",
              "            await google.colab.kernel.invokeFunction('convertToInteractive',\n",
              "                                                     [key], {});\n",
              "          if (!dataTable) return;\n",
              "\n",
              "          const docLinkHtml = 'Like what you see? Visit the ' +\n",
              "            '<a target=\"_blank\" href=https://colab.research.google.com/notebooks/data_table.ipynb>data table notebook</a>'\n",
              "            + ' to learn more about interactive tables.';\n",
              "          element.innerHTML = '';\n",
              "          dataTable['output_type'] = 'display_data';\n",
              "          await google.colab.output.renderOutput(dataTable, element);\n",
              "          const docLink = document.createElement('div');\n",
              "          docLink.innerHTML = docLinkHtml;\n",
              "          element.appendChild(docLink);\n",
              "        }\n",
              "      </script>\n",
              "    </div>\n",
              "  </div>\n",
              "  "
            ]
          },
          "metadata": {},
          "execution_count": 17
        }
      ]
    },
    {
      "cell_type": "code",
      "source": [
        "\n",
        "y_pred=X_pred.pop(\"quantitySales\")"
      ],
      "metadata": {
        "id": "3tM6iDkNwYI7"
      },
      "execution_count": 27,
      "outputs": []
    },
    {
      "cell_type": "code",
      "source": [
        "X"
      ],
      "metadata": {
        "colab": {
          "base_uri": "https://localhost:8080/",
          "height": 455
        },
        "id": "azWDb3SDxFxa",
        "outputId": "3075469e-be61-4eca-95be-c4d0155877b3"
      },
      "execution_count": 19,
      "outputs": [
        {
          "output_type": "execute_result",
          "data": {
            "text/plain": [
              "            productsGroup_key  year  month  day_of_week  day  quarter  \\\n",
              "date_key                                                                \n",
              "2019-09-02                  1  2019      9            0    2        3   \n",
              "2019-09-03                  1  2019      9            1    3        3   \n",
              "2019-09-04                  1  2019      9            2    4        3   \n",
              "2019-09-05                  1  2019      9            3    5        3   \n",
              "2019-09-06                  1  2019      9            4    6        3   \n",
              "...                       ...   ...    ...          ...  ...      ...   \n",
              "2021-11-23                297  2021     11            1   23        4   \n",
              "2021-11-24                297  2021     11            2   24        4   \n",
              "2021-11-25                297  2021     11            3   25        4   \n",
              "2021-11-26                297  2021     11            4   26        4   \n",
              "2021-11-27                297  2021     11            5   27        4   \n",
              "\n",
              "            weekofyear  \n",
              "date_key                \n",
              "2019-09-02          36  \n",
              "2019-09-03          36  \n",
              "2019-09-04          36  \n",
              "2019-09-05          36  \n",
              "2019-09-06          36  \n",
              "...                ...  \n",
              "2021-11-23          47  \n",
              "2021-11-24          47  \n",
              "2021-11-25          47  \n",
              "2021-11-26          47  \n",
              "2021-11-27          47  \n",
              "\n",
              "[242400 rows x 7 columns]"
            ],
            "text/html": [
              "\n",
              "  <div id=\"df-1289c084-22ee-42e9-8b92-5ae869bcef1c\">\n",
              "    <div class=\"colab-df-container\">\n",
              "      <div>\n",
              "<style scoped>\n",
              "    .dataframe tbody tr th:only-of-type {\n",
              "        vertical-align: middle;\n",
              "    }\n",
              "\n",
              "    .dataframe tbody tr th {\n",
              "        vertical-align: top;\n",
              "    }\n",
              "\n",
              "    .dataframe thead th {\n",
              "        text-align: right;\n",
              "    }\n",
              "</style>\n",
              "<table border=\"1\" class=\"dataframe\">\n",
              "  <thead>\n",
              "    <tr style=\"text-align: right;\">\n",
              "      <th></th>\n",
              "      <th>productsGroup_key</th>\n",
              "      <th>year</th>\n",
              "      <th>month</th>\n",
              "      <th>day_of_week</th>\n",
              "      <th>day</th>\n",
              "      <th>quarter</th>\n",
              "      <th>weekofyear</th>\n",
              "    </tr>\n",
              "    <tr>\n",
              "      <th>date_key</th>\n",
              "      <th></th>\n",
              "      <th></th>\n",
              "      <th></th>\n",
              "      <th></th>\n",
              "      <th></th>\n",
              "      <th></th>\n",
              "      <th></th>\n",
              "    </tr>\n",
              "  </thead>\n",
              "  <tbody>\n",
              "    <tr>\n",
              "      <th>2019-09-02</th>\n",
              "      <td>1</td>\n",
              "      <td>2019</td>\n",
              "      <td>9</td>\n",
              "      <td>0</td>\n",
              "      <td>2</td>\n",
              "      <td>3</td>\n",
              "      <td>36</td>\n",
              "    </tr>\n",
              "    <tr>\n",
              "      <th>2019-09-03</th>\n",
              "      <td>1</td>\n",
              "      <td>2019</td>\n",
              "      <td>9</td>\n",
              "      <td>1</td>\n",
              "      <td>3</td>\n",
              "      <td>3</td>\n",
              "      <td>36</td>\n",
              "    </tr>\n",
              "    <tr>\n",
              "      <th>2019-09-04</th>\n",
              "      <td>1</td>\n",
              "      <td>2019</td>\n",
              "      <td>9</td>\n",
              "      <td>2</td>\n",
              "      <td>4</td>\n",
              "      <td>3</td>\n",
              "      <td>36</td>\n",
              "    </tr>\n",
              "    <tr>\n",
              "      <th>2019-09-05</th>\n",
              "      <td>1</td>\n",
              "      <td>2019</td>\n",
              "      <td>9</td>\n",
              "      <td>3</td>\n",
              "      <td>5</td>\n",
              "      <td>3</td>\n",
              "      <td>36</td>\n",
              "    </tr>\n",
              "    <tr>\n",
              "      <th>2019-09-06</th>\n",
              "      <td>1</td>\n",
              "      <td>2019</td>\n",
              "      <td>9</td>\n",
              "      <td>4</td>\n",
              "      <td>6</td>\n",
              "      <td>3</td>\n",
              "      <td>36</td>\n",
              "    </tr>\n",
              "    <tr>\n",
              "      <th>...</th>\n",
              "      <td>...</td>\n",
              "      <td>...</td>\n",
              "      <td>...</td>\n",
              "      <td>...</td>\n",
              "      <td>...</td>\n",
              "      <td>...</td>\n",
              "      <td>...</td>\n",
              "    </tr>\n",
              "    <tr>\n",
              "      <th>2021-11-23</th>\n",
              "      <td>297</td>\n",
              "      <td>2021</td>\n",
              "      <td>11</td>\n",
              "      <td>1</td>\n",
              "      <td>23</td>\n",
              "      <td>4</td>\n",
              "      <td>47</td>\n",
              "    </tr>\n",
              "    <tr>\n",
              "      <th>2021-11-24</th>\n",
              "      <td>297</td>\n",
              "      <td>2021</td>\n",
              "      <td>11</td>\n",
              "      <td>2</td>\n",
              "      <td>24</td>\n",
              "      <td>4</td>\n",
              "      <td>47</td>\n",
              "    </tr>\n",
              "    <tr>\n",
              "      <th>2021-11-25</th>\n",
              "      <td>297</td>\n",
              "      <td>2021</td>\n",
              "      <td>11</td>\n",
              "      <td>3</td>\n",
              "      <td>25</td>\n",
              "      <td>4</td>\n",
              "      <td>47</td>\n",
              "    </tr>\n",
              "    <tr>\n",
              "      <th>2021-11-26</th>\n",
              "      <td>297</td>\n",
              "      <td>2021</td>\n",
              "      <td>11</td>\n",
              "      <td>4</td>\n",
              "      <td>26</td>\n",
              "      <td>4</td>\n",
              "      <td>47</td>\n",
              "    </tr>\n",
              "    <tr>\n",
              "      <th>2021-11-27</th>\n",
              "      <td>297</td>\n",
              "      <td>2021</td>\n",
              "      <td>11</td>\n",
              "      <td>5</td>\n",
              "      <td>27</td>\n",
              "      <td>4</td>\n",
              "      <td>47</td>\n",
              "    </tr>\n",
              "  </tbody>\n",
              "</table>\n",
              "<p>242400 rows × 7 columns</p>\n",
              "</div>\n",
              "      <button class=\"colab-df-convert\" onclick=\"convertToInteractive('df-1289c084-22ee-42e9-8b92-5ae869bcef1c')\"\n",
              "              title=\"Convert this dataframe to an interactive table.\"\n",
              "              style=\"display:none;\">\n",
              "        \n",
              "  <svg xmlns=\"http://www.w3.org/2000/svg\" height=\"24px\"viewBox=\"0 0 24 24\"\n",
              "       width=\"24px\">\n",
              "    <path d=\"M0 0h24v24H0V0z\" fill=\"none\"/>\n",
              "    <path d=\"M18.56 5.44l.94 2.06.94-2.06 2.06-.94-2.06-.94-.94-2.06-.94 2.06-2.06.94zm-11 1L8.5 8.5l.94-2.06 2.06-.94-2.06-.94L8.5 2.5l-.94 2.06-2.06.94zm10 10l.94 2.06.94-2.06 2.06-.94-2.06-.94-.94-2.06-.94 2.06-2.06.94z\"/><path d=\"M17.41 7.96l-1.37-1.37c-.4-.4-.92-.59-1.43-.59-.52 0-1.04.2-1.43.59L10.3 9.45l-7.72 7.72c-.78.78-.78 2.05 0 2.83L4 21.41c.39.39.9.59 1.41.59.51 0 1.02-.2 1.41-.59l7.78-7.78 2.81-2.81c.8-.78.8-2.07 0-2.86zM5.41 20L4 18.59l7.72-7.72 1.47 1.35L5.41 20z\"/>\n",
              "  </svg>\n",
              "      </button>\n",
              "      \n",
              "  <style>\n",
              "    .colab-df-container {\n",
              "      display:flex;\n",
              "      flex-wrap:wrap;\n",
              "      gap: 12px;\n",
              "    }\n",
              "\n",
              "    .colab-df-convert {\n",
              "      background-color: #E8F0FE;\n",
              "      border: none;\n",
              "      border-radius: 50%;\n",
              "      cursor: pointer;\n",
              "      display: none;\n",
              "      fill: #1967D2;\n",
              "      height: 32px;\n",
              "      padding: 0 0 0 0;\n",
              "      width: 32px;\n",
              "    }\n",
              "\n",
              "    .colab-df-convert:hover {\n",
              "      background-color: #E2EBFA;\n",
              "      box-shadow: 0px 1px 2px rgba(60, 64, 67, 0.3), 0px 1px 3px 1px rgba(60, 64, 67, 0.15);\n",
              "      fill: #174EA6;\n",
              "    }\n",
              "\n",
              "    [theme=dark] .colab-df-convert {\n",
              "      background-color: #3B4455;\n",
              "      fill: #D2E3FC;\n",
              "    }\n",
              "\n",
              "    [theme=dark] .colab-df-convert:hover {\n",
              "      background-color: #434B5C;\n",
              "      box-shadow: 0px 1px 3px 1px rgba(0, 0, 0, 0.15);\n",
              "      filter: drop-shadow(0px 1px 2px rgba(0, 0, 0, 0.3));\n",
              "      fill: #FFFFFF;\n",
              "    }\n",
              "  </style>\n",
              "\n",
              "      <script>\n",
              "        const buttonEl =\n",
              "          document.querySelector('#df-1289c084-22ee-42e9-8b92-5ae869bcef1c button.colab-df-convert');\n",
              "        buttonEl.style.display =\n",
              "          google.colab.kernel.accessAllowed ? 'block' : 'none';\n",
              "\n",
              "        async function convertToInteractive(key) {\n",
              "          const element = document.querySelector('#df-1289c084-22ee-42e9-8b92-5ae869bcef1c');\n",
              "          const dataTable =\n",
              "            await google.colab.kernel.invokeFunction('convertToInteractive',\n",
              "                                                     [key], {});\n",
              "          if (!dataTable) return;\n",
              "\n",
              "          const docLinkHtml = 'Like what you see? Visit the ' +\n",
              "            '<a target=\"_blank\" href=https://colab.research.google.com/notebooks/data_table.ipynb>data table notebook</a>'\n",
              "            + ' to learn more about interactive tables.';\n",
              "          element.innerHTML = '';\n",
              "          dataTable['output_type'] = 'display_data';\n",
              "          await google.colab.output.renderOutput(dataTable, element);\n",
              "          const docLink = document.createElement('div');\n",
              "          docLink.innerHTML = docLinkHtml;\n",
              "          element.appendChild(docLink);\n",
              "        }\n",
              "      </script>\n",
              "    </div>\n",
              "  </div>\n",
              "  "
            ]
          },
          "metadata": {},
          "execution_count": 19
        }
      ]
    },
    {
      "cell_type": "code",
      "source": [],
      "metadata": {
        "id": "ZKQB_SFLyRPs"
      },
      "execution_count": null,
      "outputs": []
    },
    {
      "cell_type": "code",
      "source": [
        "# Fit the scaler\n",
        "scaler = preprocessing.StandardScaler().fit(X)\n",
        "#y_scaler = preprocessing.StandardScaler().fit(y.values)"
      ],
      "metadata": {
        "id": "cVlz1Wa3C8D9"
      },
      "execution_count": 28,
      "outputs": []
    },
    {
      "cell_type": "code",
      "source": [
        "y_scaler = preprocessing.StandardScaler().fit(np.array(y).reshape(-1, 1))\n",
        "\n",
        "y_scaled=y_scaler.transform(np.array(y).reshape(-1, 1))"
      ],
      "metadata": {
        "id": "6VCy99XRFua6"
      },
      "execution_count": 29,
      "outputs": []
    },
    {
      "cell_type": "code",
      "source": [
        "print(scaler.mean_)\n",
        "print(scaler.scale_)\n",
        "\n",
        "# Transform the data\n",
        "X_scaled = scaler.transform(X)\n",
        "X_scaled_pred = scaler.transform(X_pred)\n",
        "X_scaled\n"
      ],
      "metadata": {
        "colab": {
          "base_uri": "https://localhost:8080/"
        },
        "id": "sh1JnZAYDdkn",
        "outputId": "9781dba2-7ddd-4a36-f310-d7c3824408d7"
      },
      "execution_count": 30,
      "outputs": [
        {
          "output_type": "stream",
          "name": "stdout",
          "text": [
            "[ 148.68408828 2020.25687706    6.89051568    2.99954208   15.68530941\n",
            "    2.63150578   28.25221535]\n",
            "[85.6960135   0.69822983  3.43776193  1.99979057  8.77684662  1.1246158\n",
            " 15.06094951]\n"
          ]
        },
        {
          "output_type": "execute_result",
          "data": {
            "text/plain": [
              "array([[-1.72334841, -1.80009075,  0.61362141, ..., -1.55925129,\n",
              "         0.32766232,  0.5144287 ],\n",
              "       [-1.72334841, -1.80009075,  0.61362141, ..., -1.44531515,\n",
              "         0.32766232,  0.5144287 ],\n",
              "       [-1.72334841, -1.80009075,  0.61362141, ..., -1.33137901,\n",
              "         0.32766232,  0.5144287 ],\n",
              "       ...,\n",
              "       [ 1.73072125,  1.0642956 ,  1.19539526, ...,  1.06127986,\n",
              "         1.21685489,  1.24479434],\n",
              "       [ 1.73072125,  1.0642956 ,  1.19539526, ...,  1.175216  ,\n",
              "         1.21685489,  1.24479434],\n",
              "       [ 1.73072125,  1.0642956 ,  1.19539526, ...,  1.28915214,\n",
              "         1.21685489,  1.24479434]])"
            ]
          },
          "metadata": {},
          "execution_count": 30
        }
      ]
    },
    {
      "cell_type": "code",
      "source": [
        "X_df=pd.DataFrame(X_scaled,columns=[\"productsGroup_key\",\"year\",\"month\",\"day_of_week\",\"day\",\"quarter\",\"weekofyear\"])\n",
        "X_df[\"date_key\"]=df[\"date_key\"]\n",
        "X_df=X_df.set_index(\"date_key\")\n",
        "X_df[\"quantitySales\"]=y_scaled"
      ],
      "metadata": {
        "id": "njJv8SOPEWZt"
      },
      "execution_count": 31,
      "outputs": []
    },
    {
      "cell_type": "code",
      "source": [
        "X_df_pred=pd.DataFrame(X_scaled_pred,columns=[\"productsGroup_key\",\"year\",\"month\",\"day_of_week\",\"day\",\"quarter\",\"weekofyear\"])\n",
        "\n",
        "X_df_pred[\"date_key\"]=df_pred[\"date_key\"]\n",
        "X_df_pred=X_df_pred.set_index(\"date_key\")\n",
        "X_df_pred[\"quantitySales\"]=0"
      ],
      "metadata": {
        "id": "mOBbX-tzJwDP"
      },
      "execution_count": 32,
      "outputs": []
    },
    {
      "cell_type": "code",
      "source": [],
      "metadata": {
        "id": "fMFr9hlcoG0z"
      },
      "execution_count": null,
      "outputs": []
    },
    {
      "cell_type": "markdown",
      "source": [
        "### Split"
      ],
      "metadata": {
        "id": "0O5oNErvuhLr"
      }
    },
    {
      "cell_type": "code",
      "source": [
        "X_train=X_df[:'2021-06-01']\n",
        "X_test=X_df['2021-06-01':]\n",
        "test = X_df['2021-06-01':]"
      ],
      "metadata": {
        "id": "7hHWfNRzIBQH"
      },
      "execution_count": 33,
      "outputs": []
    },
    {
      "cell_type": "code",
      "source": [
        "y_train=X_train.pop(\"quantitySales\")\n",
        "y_test=X_test.pop(\"quantitySales\")"
      ],
      "metadata": {
        "id": "_Iu4WO3bIP4h"
      },
      "execution_count": 34,
      "outputs": []
    },
    {
      "cell_type": "code",
      "source": [
        "\n",
        "y_pred=X_df_pred.pop(\"quantitySales\")"
      ],
      "metadata": {
        "id": "_jndNXuFldZ6"
      },
      "execution_count": 35,
      "outputs": []
    },
    {
      "cell_type": "markdown",
      "source": [
        "### Uncertainty distribution\n",
        "\n"
      ],
      "metadata": {
        "id": "T0i018CQ2-Mg"
      }
    },
    {
      "cell_type": "markdown",
      "source": [
        "##### using prophet"
      ],
      "metadata": {
        "id": "pBgtDDvgW5sy"
      }
    },
    {
      "cell_type": "code",
      "source": [
        "from prophet import Prophet"
      ],
      "metadata": {
        "id": "UdQrdIzPRJC5"
      },
      "execution_count": 28,
      "outputs": []
    },
    {
      "cell_type": "code",
      "source": [
        "X_train['y']=y_train\n",
        "X_test['y']=y_test"
      ],
      "metadata": {
        "id": "0H6Fjim_RL6t"
      },
      "execution_count": 29,
      "outputs": []
    },
    {
      "cell_type": "code",
      "source": [
        "X_train['y-shifted']=X_train[\"y\"].shift(1).fillna(0)\n",
        "X_test['y-shifted']=X_test[\"y\"].shift(1).fillna(0)"
      ],
      "metadata": {
        "id": "GkWGJIgDTGxy"
      },
      "execution_count": 30,
      "outputs": []
    },
    {
      "cell_type": "code",
      "source": [
        "X_train"
      ],
      "metadata": {
        "colab": {
          "base_uri": "https://localhost:8080/",
          "height": 455
        },
        "id": "2N7m3UnaUDA5",
        "outputId": "7c99503e-bce3-49dc-ab6d-cdecaa03c277"
      },
      "execution_count": null,
      "outputs": [
        {
          "output_type": "execute_result",
          "data": {
            "text/plain": [
              "            productsGroup_key      year     month  day_of_week       day  \\\n",
              "date_key                                                                   \n",
              "2019-09-02          -1.723348 -1.800091  0.613621    -1.499928 -1.559251   \n",
              "2019-09-03          -1.723348 -1.800091  0.613621    -0.999876 -1.445315   \n",
              "2019-09-04          -1.723348 -1.800091  0.613621    -0.499823 -1.331379   \n",
              "2019-09-05          -1.723348 -1.800091  0.613621     0.000229 -1.217443   \n",
              "2019-09-06          -1.723348 -1.800091  0.613621     0.500281 -1.103507   \n",
              "...                       ...       ...       ...          ...       ...   \n",
              "2021-05-28           1.730721  1.064296 -0.549926     0.500281  1.403088   \n",
              "2021-05-29           1.730721  1.064296 -0.549926     1.000334  1.517024   \n",
              "2021-05-30           1.730721  1.064296 -0.549926     1.500386  1.630961   \n",
              "2021-05-31           1.730721  1.064296 -0.549926    -1.499928  1.744897   \n",
              "2021-06-01           1.730721  1.064296 -0.259039    -0.999876 -1.673187   \n",
              "\n",
              "             quarter  weekofyear         y  y-shifted  \n",
              "date_key                                               \n",
              "2019-09-02  0.327662    0.514429  2.239030   0.000000  \n",
              "2019-09-03  0.327662    0.514429  0.334073   2.239030  \n",
              "2019-09-04  0.327662    0.514429 -0.257338   0.334073  \n",
              "2019-09-05  0.327662    0.514429 -0.337663  -0.257338  \n",
              "2019-09-06  0.327662    0.514429 -0.321125  -0.337663  \n",
              "...              ...         ...       ...        ...  \n",
              "2021-05-28 -0.561530   -0.481524 -0.355381  -0.395347  \n",
              "2021-05-29 -0.561530   -0.481524 -0.395740  -0.355381  \n",
              "2021-05-30 -0.561530   -0.481524 -0.395937  -0.395740  \n",
              "2021-05-31 -0.561530   -0.415128 -0.395347  -0.395937  \n",
              "2021-06-01 -0.561530   -0.415128 -0.394559  -0.395347  \n",
              "\n",
              "[189237 rows x 9 columns]"
            ],
            "text/html": [
              "\n",
              "  <div id=\"df-fe2176a8-184e-443f-8133-f57498952bfa\">\n",
              "    <div class=\"colab-df-container\">\n",
              "      <div>\n",
              "<style scoped>\n",
              "    .dataframe tbody tr th:only-of-type {\n",
              "        vertical-align: middle;\n",
              "    }\n",
              "\n",
              "    .dataframe tbody tr th {\n",
              "        vertical-align: top;\n",
              "    }\n",
              "\n",
              "    .dataframe thead th {\n",
              "        text-align: right;\n",
              "    }\n",
              "</style>\n",
              "<table border=\"1\" class=\"dataframe\">\n",
              "  <thead>\n",
              "    <tr style=\"text-align: right;\">\n",
              "      <th></th>\n",
              "      <th>productsGroup_key</th>\n",
              "      <th>year</th>\n",
              "      <th>month</th>\n",
              "      <th>day_of_week</th>\n",
              "      <th>day</th>\n",
              "      <th>quarter</th>\n",
              "      <th>weekofyear</th>\n",
              "      <th>y</th>\n",
              "      <th>y-shifted</th>\n",
              "    </tr>\n",
              "    <tr>\n",
              "      <th>date_key</th>\n",
              "      <th></th>\n",
              "      <th></th>\n",
              "      <th></th>\n",
              "      <th></th>\n",
              "      <th></th>\n",
              "      <th></th>\n",
              "      <th></th>\n",
              "      <th></th>\n",
              "      <th></th>\n",
              "    </tr>\n",
              "  </thead>\n",
              "  <tbody>\n",
              "    <tr>\n",
              "      <th>2019-09-02</th>\n",
              "      <td>-1.723348</td>\n",
              "      <td>-1.800091</td>\n",
              "      <td>0.613621</td>\n",
              "      <td>-1.499928</td>\n",
              "      <td>-1.559251</td>\n",
              "      <td>0.327662</td>\n",
              "      <td>0.514429</td>\n",
              "      <td>2.239030</td>\n",
              "      <td>0.000000</td>\n",
              "    </tr>\n",
              "    <tr>\n",
              "      <th>2019-09-03</th>\n",
              "      <td>-1.723348</td>\n",
              "      <td>-1.800091</td>\n",
              "      <td>0.613621</td>\n",
              "      <td>-0.999876</td>\n",
              "      <td>-1.445315</td>\n",
              "      <td>0.327662</td>\n",
              "      <td>0.514429</td>\n",
              "      <td>0.334073</td>\n",
              "      <td>2.239030</td>\n",
              "    </tr>\n",
              "    <tr>\n",
              "      <th>2019-09-04</th>\n",
              "      <td>-1.723348</td>\n",
              "      <td>-1.800091</td>\n",
              "      <td>0.613621</td>\n",
              "      <td>-0.499823</td>\n",
              "      <td>-1.331379</td>\n",
              "      <td>0.327662</td>\n",
              "      <td>0.514429</td>\n",
              "      <td>-0.257338</td>\n",
              "      <td>0.334073</td>\n",
              "    </tr>\n",
              "    <tr>\n",
              "      <th>2019-09-05</th>\n",
              "      <td>-1.723348</td>\n",
              "      <td>-1.800091</td>\n",
              "      <td>0.613621</td>\n",
              "      <td>0.000229</td>\n",
              "      <td>-1.217443</td>\n",
              "      <td>0.327662</td>\n",
              "      <td>0.514429</td>\n",
              "      <td>-0.337663</td>\n",
              "      <td>-0.257338</td>\n",
              "    </tr>\n",
              "    <tr>\n",
              "      <th>2019-09-06</th>\n",
              "      <td>-1.723348</td>\n",
              "      <td>-1.800091</td>\n",
              "      <td>0.613621</td>\n",
              "      <td>0.500281</td>\n",
              "      <td>-1.103507</td>\n",
              "      <td>0.327662</td>\n",
              "      <td>0.514429</td>\n",
              "      <td>-0.321125</td>\n",
              "      <td>-0.337663</td>\n",
              "    </tr>\n",
              "    <tr>\n",
              "      <th>...</th>\n",
              "      <td>...</td>\n",
              "      <td>...</td>\n",
              "      <td>...</td>\n",
              "      <td>...</td>\n",
              "      <td>...</td>\n",
              "      <td>...</td>\n",
              "      <td>...</td>\n",
              "      <td>...</td>\n",
              "      <td>...</td>\n",
              "    </tr>\n",
              "    <tr>\n",
              "      <th>2021-05-28</th>\n",
              "      <td>1.730721</td>\n",
              "      <td>1.064296</td>\n",
              "      <td>-0.549926</td>\n",
              "      <td>0.500281</td>\n",
              "      <td>1.403088</td>\n",
              "      <td>-0.561530</td>\n",
              "      <td>-0.481524</td>\n",
              "      <td>-0.355381</td>\n",
              "      <td>-0.395347</td>\n",
              "    </tr>\n",
              "    <tr>\n",
              "      <th>2021-05-29</th>\n",
              "      <td>1.730721</td>\n",
              "      <td>1.064296</td>\n",
              "      <td>-0.549926</td>\n",
              "      <td>1.000334</td>\n",
              "      <td>1.517024</td>\n",
              "      <td>-0.561530</td>\n",
              "      <td>-0.481524</td>\n",
              "      <td>-0.395740</td>\n",
              "      <td>-0.355381</td>\n",
              "    </tr>\n",
              "    <tr>\n",
              "      <th>2021-05-30</th>\n",
              "      <td>1.730721</td>\n",
              "      <td>1.064296</td>\n",
              "      <td>-0.549926</td>\n",
              "      <td>1.500386</td>\n",
              "      <td>1.630961</td>\n",
              "      <td>-0.561530</td>\n",
              "      <td>-0.481524</td>\n",
              "      <td>-0.395937</td>\n",
              "      <td>-0.395740</td>\n",
              "    </tr>\n",
              "    <tr>\n",
              "      <th>2021-05-31</th>\n",
              "      <td>1.730721</td>\n",
              "      <td>1.064296</td>\n",
              "      <td>-0.549926</td>\n",
              "      <td>-1.499928</td>\n",
              "      <td>1.744897</td>\n",
              "      <td>-0.561530</td>\n",
              "      <td>-0.415128</td>\n",
              "      <td>-0.395347</td>\n",
              "      <td>-0.395937</td>\n",
              "    </tr>\n",
              "    <tr>\n",
              "      <th>2021-06-01</th>\n",
              "      <td>1.730721</td>\n",
              "      <td>1.064296</td>\n",
              "      <td>-0.259039</td>\n",
              "      <td>-0.999876</td>\n",
              "      <td>-1.673187</td>\n",
              "      <td>-0.561530</td>\n",
              "      <td>-0.415128</td>\n",
              "      <td>-0.394559</td>\n",
              "      <td>-0.395347</td>\n",
              "    </tr>\n",
              "  </tbody>\n",
              "</table>\n",
              "<p>189237 rows × 9 columns</p>\n",
              "</div>\n",
              "      <button class=\"colab-df-convert\" onclick=\"convertToInteractive('df-fe2176a8-184e-443f-8133-f57498952bfa')\"\n",
              "              title=\"Convert this dataframe to an interactive table.\"\n",
              "              style=\"display:none;\">\n",
              "        \n",
              "  <svg xmlns=\"http://www.w3.org/2000/svg\" height=\"24px\"viewBox=\"0 0 24 24\"\n",
              "       width=\"24px\">\n",
              "    <path d=\"M0 0h24v24H0V0z\" fill=\"none\"/>\n",
              "    <path d=\"M18.56 5.44l.94 2.06.94-2.06 2.06-.94-2.06-.94-.94-2.06-.94 2.06-2.06.94zm-11 1L8.5 8.5l.94-2.06 2.06-.94-2.06-.94L8.5 2.5l-.94 2.06-2.06.94zm10 10l.94 2.06.94-2.06 2.06-.94-2.06-.94-.94-2.06-.94 2.06-2.06.94z\"/><path d=\"M17.41 7.96l-1.37-1.37c-.4-.4-.92-.59-1.43-.59-.52 0-1.04.2-1.43.59L10.3 9.45l-7.72 7.72c-.78.78-.78 2.05 0 2.83L4 21.41c.39.39.9.59 1.41.59.51 0 1.02-.2 1.41-.59l7.78-7.78 2.81-2.81c.8-.78.8-2.07 0-2.86zM5.41 20L4 18.59l7.72-7.72 1.47 1.35L5.41 20z\"/>\n",
              "  </svg>\n",
              "      </button>\n",
              "      \n",
              "  <style>\n",
              "    .colab-df-container {\n",
              "      display:flex;\n",
              "      flex-wrap:wrap;\n",
              "      gap: 12px;\n",
              "    }\n",
              "\n",
              "    .colab-df-convert {\n",
              "      background-color: #E8F0FE;\n",
              "      border: none;\n",
              "      border-radius: 50%;\n",
              "      cursor: pointer;\n",
              "      display: none;\n",
              "      fill: #1967D2;\n",
              "      height: 32px;\n",
              "      padding: 0 0 0 0;\n",
              "      width: 32px;\n",
              "    }\n",
              "\n",
              "    .colab-df-convert:hover {\n",
              "      background-color: #E2EBFA;\n",
              "      box-shadow: 0px 1px 2px rgba(60, 64, 67, 0.3), 0px 1px 3px 1px rgba(60, 64, 67, 0.15);\n",
              "      fill: #174EA6;\n",
              "    }\n",
              "\n",
              "    [theme=dark] .colab-df-convert {\n",
              "      background-color: #3B4455;\n",
              "      fill: #D2E3FC;\n",
              "    }\n",
              "\n",
              "    [theme=dark] .colab-df-convert:hover {\n",
              "      background-color: #434B5C;\n",
              "      box-shadow: 0px 1px 3px 1px rgba(0, 0, 0, 0.15);\n",
              "      filter: drop-shadow(0px 1px 2px rgba(0, 0, 0, 0.3));\n",
              "      fill: #FFFFFF;\n",
              "    }\n",
              "  </style>\n",
              "\n",
              "      <script>\n",
              "        const buttonEl =\n",
              "          document.querySelector('#df-fe2176a8-184e-443f-8133-f57498952bfa button.colab-df-convert');\n",
              "        buttonEl.style.display =\n",
              "          google.colab.kernel.accessAllowed ? 'block' : 'none';\n",
              "\n",
              "        async function convertToInteractive(key) {\n",
              "          const element = document.querySelector('#df-fe2176a8-184e-443f-8133-f57498952bfa');\n",
              "          const dataTable =\n",
              "            await google.colab.kernel.invokeFunction('convertToInteractive',\n",
              "                                                     [key], {});\n",
              "          if (!dataTable) return;\n",
              "\n",
              "          const docLinkHtml = 'Like what you see? Visit the ' +\n",
              "            '<a target=\"_blank\" href=https://colab.research.google.com/notebooks/data_table.ipynb>data table notebook</a>'\n",
              "            + ' to learn more about interactive tables.';\n",
              "          element.innerHTML = '';\n",
              "          dataTable['output_type'] = 'display_data';\n",
              "          await google.colab.output.renderOutput(dataTable, element);\n",
              "          const docLink = document.createElement('div');\n",
              "          docLink.innerHTML = docLinkHtml;\n",
              "          element.appendChild(docLink);\n",
              "        }\n",
              "      </script>\n",
              "    </div>\n",
              "  </div>\n",
              "  "
            ]
          },
          "metadata": {},
          "execution_count": 32
        }
      ]
    },
    {
      "cell_type": "code",
      "source": [
        "X_train=X_train.reset_index()\n",
        "X_test=X_test.reset_index()"
      ],
      "metadata": {
        "id": "y9tuGwiIUBJU"
      },
      "execution_count": 31,
      "outputs": []
    },
    {
      "cell_type": "code",
      "source": [
        "X_train = X_train.rename(columns={'date_key': 'ds'})\n",
        "X_test = X_test.rename(columns={'date_key': 'ds'})"
      ],
      "metadata": {
        "id": "rVmcaojiUPqR"
      },
      "execution_count": 32,
      "outputs": []
    },
    {
      "cell_type": "code",
      "source": [
        "final_model = Prophet(\n",
        "                      changepoint_prior_scale= 0.01,\n",
        "                      seasonality_prior_scale = 0.01,\n",
        "                      n_changepoints = 30,\n",
        "                      seasonality_mode = 'multiplicative',\n",
        "                      weekly_seasonality=True,\n",
        "                      daily_seasonality = False,\n",
        "                      yearly_seasonality = False,\n",
        "                      interval_width=0.95,mcmc_samples=300)\n",
        "final_model.add_regressor('productsGroup_key', standardize=False)\n",
        "final_model.add_regressor(\"y-shifted\", standardize=False)\n",
        "final_model.add_regressor('day_of_week', standardize=False)\n",
        "final_model.add_regressor('quarter', standardize=False)\n",
        "final_model.add_regressor('weekofyear', standardize=False)\n",
        "final_model.fit(X_train)"
      ],
      "metadata": {
        "colab": {
          "base_uri": "https://localhost:8080/",
          "height": 1000,
          "referenced_widgets": [
            "ef79bd3e2d9a47c194f0556fbd176d6e",
            "046f95cd739b43ae8da155406c5f3f76",
            "3db79567e3554c7593be5280659c9ee8",
            "264674953cd043539c10dba12b70a01f",
            "6ceb5e7e93fa445fb4916184e2f5e9a3",
            "82f771a627c6422ab245a26b3af68669",
            "7efa54d30aab4cd7b3160556b1419c90",
            "27c32208d43a47e6995179d6f8e23266",
            "1f0ebb95503b4f27a5e9352ce0280891",
            "0b73908567e64c408faeef94edb380a3",
            "a5da8f899b5e49a7accc53b7a27b67a6",
            "f0f4e747f5a64616b58547c1e27268bf",
            "dc4d5bfca7494682b9bfc3c4b0643ec1",
            "64b6504a73ba43ec96eb2ab73d17a983",
            "f6806c966f9f4b9ca275c346e4f30ae8",
            "7718652c2f514310a0ad88e9fb33dd34",
            "7a718c9ac0954ab3b7cf9df40b1c5970",
            "81441c726f4044fc9d84da7e09e5209c",
            "48d54de07ec54cfc96819d7073e85bb3",
            "d282382caf2b4763806f9e4a23daa4bd",
            "863f4870f7484e15ac2657b6936e986d",
            "af7c1ae99c384bafa0fec4963fc1c520",
            "474b9441d33442bdb54d9fff5c65a85f",
            "0d79bc9ea06d4479841b853b44941178",
            "7de5801acdda448889a7d8e3b9556469",
            "8e54994f87ea4f40bec352f31b7b9f96",
            "5bd6acf9b7b3494dabb4e6a0a74f8fd8",
            "b56ac6246cc445d3aa12175bff29d6fd",
            "49ce57e6777a4c498dc096d030c02efa",
            "418d9384dff945b48b14631ac1db73c2",
            "fa579a9837994b4c845507b44aa503cc",
            "bf35b7cf12864c899bd0e413f5fd47d9",
            "e42d8a16f7804354a2c87e150ee40f2a",
            "7ef7243de75e4bbda9e4f7232e82c9b7",
            "fe48618f852845dba6e87bd191d7e4e1",
            "6e2663e727ee4a03a142855102373845",
            "b911ec15a36541aeab2cc742d953baec",
            "d6d2c370e1174ec09d962698221e66f1",
            "df26a0cfa8764f5fb371a1ebd6f6eab6",
            "82988141f8d1410ca013012d6a520e86",
            "ee1dc8aed59344bf915bac0ec82c7079",
            "aa67ac98c378419f94b8823b7cb5082d",
            "1d6ff8c09d60452480b4813a3b5cef42",
            "0b99cf0175d5430383a77ad1e966c9a1"
          ]
        },
        "id": "Gy6OkVpD3E3v",
        "outputId": "2f9b9606-b955-4203-aed2-53c0bdf53504"
      },
      "execution_count": null,
      "outputs": [
        {
          "output_type": "stream",
          "name": "stderr",
          "text": [
            "DEBUG:cmdstanpy:input tempfile: /tmp/tmpd2j8ldvu/6lhbq5uu.json\n",
            "DEBUG:cmdstanpy:input tempfile: /tmp/tmpd2j8ldvu/wewdlg1l.json\n",
            "DEBUG:cmdstanpy:cmd: /usr/local/lib/python3.9/dist-packages/prophet/stan_model/prophet_model.bin info\n",
            "cwd: None\n",
            "DEBUG:cmdstanpy:Command ['/usr/local/lib/python3.9/dist-packages/prophet/stan_model/prophet_model.bin', 'info']\n",
            "\terror during processing Machine is not on the network\n",
            "08:09:10 - cmdstanpy - INFO - CmdStan installation /usr/local/lib/python3.9/dist-packages/prophet/stan_model/cmdstan-2.26.1 missing makefile, cannot get version.\n",
            "INFO:cmdstanpy:CmdStan installation /usr/local/lib/python3.9/dist-packages/prophet/stan_model/cmdstan-2.26.1 missing makefile, cannot get version.\n",
            "08:09:10 - cmdstanpy - INFO - Cannot determine whether version is before 2.28.\n",
            "INFO:cmdstanpy:Cannot determine whether version is before 2.28.\n",
            "08:09:10 - cmdstanpy - INFO - CmdStan start processing\n",
            "INFO:cmdstanpy:CmdStan start processing\n"
          ]
        },
        {
          "output_type": "display_data",
          "data": {
            "text/plain": [
              "chain 1 |          | 00:00 Status"
            ],
            "application/vnd.jupyter.widget-view+json": {
              "version_major": 2,
              "version_minor": 0,
              "model_id": "ef79bd3e2d9a47c194f0556fbd176d6e"
            }
          },
          "metadata": {}
        },
        {
          "output_type": "display_data",
          "data": {
            "text/plain": [
              "chain 2 |          | 00:00 Status"
            ],
            "application/vnd.jupyter.widget-view+json": {
              "version_major": 2,
              "version_minor": 0,
              "model_id": "f0f4e747f5a64616b58547c1e27268bf"
            }
          },
          "metadata": {}
        },
        {
          "output_type": "display_data",
          "data": {
            "text/plain": [
              "chain 3 |          | 00:00 Status"
            ],
            "application/vnd.jupyter.widget-view+json": {
              "version_major": 2,
              "version_minor": 0,
              "model_id": "474b9441d33442bdb54d9fff5c65a85f"
            }
          },
          "metadata": {}
        },
        {
          "output_type": "display_data",
          "data": {
            "text/plain": [
              "chain 4 |          | 00:00 Status"
            ],
            "application/vnd.jupyter.widget-view+json": {
              "version_major": 2,
              "version_minor": 0,
              "model_id": "7ef7243de75e4bbda9e4f7232e82c9b7"
            }
          },
          "metadata": {}
        },
        {
          "output_type": "stream",
          "name": "stderr",
          "text": [
            "DEBUG:cmdstanpy:idx 0\n",
            "DEBUG:cmdstanpy:running CmdStan, num_threads: 1\n",
            "DEBUG:cmdstanpy:idx 1\n",
            "DEBUG:cmdstanpy:running CmdStan, num_threads: 1\n",
            "DEBUG:cmdstanpy:CmdStan args: ['/usr/local/lib/python3.9/dist-packages/prophet/stan_model/prophet_model.bin', 'id=2', 'random', 'seed=67143', 'data', 'file=/tmp/tmpd2j8ldvu/6lhbq5uu.json', 'init=/tmp/tmpd2j8ldvu/wewdlg1l.json', 'output', 'file=/tmp/tmpd2j8ldvu/prophet_modele9j4n797/prophet_model-20230403080910_2.csv', 'method=sample', 'num_samples=50', 'num_warmup=50', 'algorithm=hmc', 'adapt', 'engaged=1']\n",
            "DEBUG:cmdstanpy:CmdStan args: ['/usr/local/lib/python3.9/dist-packages/prophet/stan_model/prophet_model.bin', 'id=1', 'random', 'seed=67143', 'data', 'file=/tmp/tmpd2j8ldvu/6lhbq5uu.json', 'init=/tmp/tmpd2j8ldvu/wewdlg1l.json', 'output', 'file=/tmp/tmpd2j8ldvu/prophet_modele9j4n797/prophet_model-20230403080910_1.csv', 'method=sample', 'num_samples=50', 'num_warmup=50', 'algorithm=hmc', 'adapt', 'engaged=1']\n",
            "DEBUG:cmdstanpy:idx 2\n",
            "DEBUG:cmdstanpy:running CmdStan, num_threads: 1\n",
            "DEBUG:cmdstanpy:CmdStan args: ['/usr/local/lib/python3.9/dist-packages/prophet/stan_model/prophet_model.bin', 'id=3', 'random', 'seed=67143', 'data', 'file=/tmp/tmpd2j8ldvu/6lhbq5uu.json', 'init=/tmp/tmpd2j8ldvu/wewdlg1l.json', 'output', 'file=/tmp/tmpd2j8ldvu/prophet_modele9j4n797/prophet_model-20230403080910_3.csv', 'method=sample', 'num_samples=50', 'num_warmup=50', 'algorithm=hmc', 'adapt', 'engaged=1']\n",
            "DEBUG:cmdstanpy:idx 3\n",
            "DEBUG:cmdstanpy:running CmdStan, num_threads: 1\n",
            "DEBUG:cmdstanpy:CmdStan args: ['/usr/local/lib/python3.9/dist-packages/prophet/stan_model/prophet_model.bin', 'id=4', 'random', 'seed=67143', 'data', 'file=/tmp/tmpd2j8ldvu/6lhbq5uu.json', 'init=/tmp/tmpd2j8ldvu/wewdlg1l.json', 'output', 'file=/tmp/tmpd2j8ldvu/prophet_modele9j4n797/prophet_model-20230403080910_4.csv', 'method=sample', 'num_samples=50', 'num_warmup=50', 'algorithm=hmc', 'adapt', 'engaged=1']\n"
          ]
        },
        {
          "output_type": "stream",
          "name": "stdout",
          "text": [
            "                                                                                                                                                                                                                                                                                                                                "
          ]
        },
        {
          "output_type": "stream",
          "name": "stderr",
          "text": [
            "08:12:52 - cmdstanpy - INFO - CmdStan done processing.\n",
            "INFO:cmdstanpy:CmdStan done processing.\n",
            "DEBUG:cmdstanpy:runset\n",
            "RunSet: chains=4, chain_ids=[1, 2, 3, 4], num_processes=4\n",
            " cmd (chain 1):\n",
            "\t['/usr/local/lib/python3.9/dist-packages/prophet/stan_model/prophet_model.bin', 'id=1', 'random', 'seed=67143', 'data', 'file=/tmp/tmpd2j8ldvu/6lhbq5uu.json', 'init=/tmp/tmpd2j8ldvu/wewdlg1l.json', 'output', 'file=/tmp/tmpd2j8ldvu/prophet_modele9j4n797/prophet_model-20230403080910_1.csv', 'method=sample', 'num_samples=50', 'num_warmup=50', 'algorithm=hmc', 'adapt', 'engaged=1']\n",
            " retcodes=[0, 0, 0, 0]\n",
            " per-chain output files (showing chain 1 only):\n",
            " csv_file:\n",
            "\t/tmp/tmpd2j8ldvu/prophet_modele9j4n797/prophet_model-20230403080910_1.csv\n",
            " console_msgs (if any):\n",
            "\t/tmp/tmpd2j8ldvu/prophet_modele9j4n797/prophet_model-20230403080910_0-stdout.txt\n",
            "DEBUG:cmdstanpy:Chain 1 console:\n",
            "method = sample (Default)\n",
            "  sample\n",
            "    num_samples = 50\n",
            "    num_warmup = 50\n",
            "    save_warmup = 0 (Default)\n",
            "    thin = 1 (Default)\n",
            "    adapt\n",
            "      engaged = 1 (Default)\n",
            "      gamma = 0.050000000000000003 (Default)\n",
            "      delta = 0.80000000000000004 (Default)\n",
            "      kappa = 0.75 (Default)\n",
            "      t0 = 10 (Default)\n",
            "      init_buffer = 75 (Default)\n",
            "      term_buffer = 50 (Default)\n",
            "      window = 25 (Default)\n",
            "    algorithm = hmc (Default)\n",
            "      hmc\n",
            "        engine = nuts (Default)\n",
            "          nuts\n",
            "            max_depth = 10 (Default)\n",
            "        metric = diag_e (Default)\n",
            "        metric_file =  (Default)\n",
            "        stepsize = 1 (Default)\n",
            "        stepsize_jitter = 0 (Default)\n",
            "id = 1\n",
            "data\n",
            "  file = /tmp/tmpd2j8ldvu/6lhbq5uu.json\n",
            "init = /tmp/tmpd2j8ldvu/wewdlg1l.json\n",
            "random\n",
            "  seed = 67143\n",
            "output\n",
            "  file = /tmp/tmpd2j8ldvu/prophet_modele9j4n797/prophet_model-20230403080910_1.csv\n",
            "  diagnostic_file =  (Default)\n",
            "  refresh = 100 (Default)\n",
            "  sig_figs = -1 (Default)\n",
            "  profile_file = profile.csv (Default)\n",
            "\n",
            "\n",
            "Gradient evaluation took 0.519826 seconds\n",
            "1000 transitions using 10 leapfrog steps per transition would take 5198.26 seconds.\n",
            "Adjust your expectations accordingly!\n",
            "\n",
            "\n",
            "WARNING: There aren't enough warmup iterations to fit the\n",
            "         three stages of adaptation as currently configured.\n",
            "         Reducing each adaptation stage to 15%/75%/10% of\n",
            "         the given number of warmup iterations:\n",
            "           init_buffer = 7\n",
            "           adapt_window = 38\n",
            "           term_buffer = 5\n",
            "\n",
            "Informational Message: The current Metropolis proposal is about to be rejected because of the following issue:\n",
            "Exception: normal_id_glm_lpdf: Scale vector is 0, but must be positive finite! (in '/project/python/stan/prophet.stan', line 137, column 2 to line 142, column 4)\n",
            "If this warning occurs sporadically, such as for highly constrained variable types like covariance matrices, then the sampler is fine,\n",
            "but if this warning occurs often then your model may be either severely ill-conditioned or misspecified.\n",
            "\n",
            "Informational Message: The current Metropolis proposal is about to be rejected because of the following issue:\n",
            "Exception: normal_id_glm_lpdf: Scale vector is 0, but must be positive finite! (in '/project/python/stan/prophet.stan', line 137, column 2 to line 142, column 4)\n",
            "If this warning occurs sporadically, such as for highly constrained variable types like covariance matrices, then the sampler is fine,\n",
            "but if this warning occurs often then your model may be either severely ill-conditioned or misspecified.\n",
            "\n",
            "Informational Message: The current Metropolis proposal is about to be rejected because of the following issue:\n",
            "Exception: normal_id_glm_lpdf: Scale vector is 0, but must be positive finite! (in '/project/python/stan/prophet.stan', line 137, column 2 to line 142, column 4)\n",
            "If this warning occurs sporadically, such as for highly constrained variable types like covariance matrices, then the sampler is fine,\n",
            "but if this warning occurs often then your model may be either severely ill-conditioned or misspecified.\n",
            "\n",
            "Informational Message: The current Metropolis proposal is about to be rejected because of the following issue:\n",
            "Exception: normal_id_glm_lpdf: Scale vector is 0, but must be positive finite! (in '/project/python/stan/prophet.stan', line 137, column 2 to line 142, column 4)\n",
            "If this warning occurs sporadically, such as for highly constrained variable types like covariance matrices, then the sampler is fine,\n",
            "but if this warning occurs often then your model may be either severely ill-conditioned or misspecified.\n",
            "\n",
            "Informational Message: The current Metropolis proposal is about to be rejected because of the following issue:\n",
            "Exception: normal_id_glm_lpdf: Scale vector is 0, but must be positive finite! (in '/project/python/stan/prophet.stan', line 137, column 2 to line 142, column 4)\n",
            "If this warning occurs sporadically, such as for highly constrained variable types like covariance matrices, then the sampler is fine,\n",
            "but if this warning occurs often then your model may be either severely ill-conditioned or misspecified.\n",
            "\n",
            "Informational Message: The current Metropolis proposal is about to be rejected because of the following issue:\n",
            "Exception: normal_id_glm_lpdf: Matrix of independent variables is inf, but must be finite! (in '/project/python/stan/prophet.stan', line 137, column 2 to line 142, column 4)\n",
            "If this warning occurs sporadically, such as for highly constrained variable types like covariance matrices, then the sampler is fine,\n",
            "but if this warning occurs often then your model may be either severely ill-conditioned or misspecified.\n",
            "\n",
            "Iteration:  1 / 100 [  1%]  (Warmup)\n",
            "Informational Message: The current Metropolis proposal is about to be rejected because of the following issue:\n",
            "Exception: normal_id_glm_lpdf: Scale vector is 0, but must be positive finite! (in '/project/python/stan/prophet.stan', line 137, column 2 to line 142, column 4)\n",
            "If this warning occurs sporadically, such as for highly constrained variable types like covariance matrices, then the sampler is fine,\n",
            "but if this warning occurs often then your model may be either severely ill-conditioned or misspecified.\n",
            "\n",
            "Informational Message: The current Metropolis proposal is about to be rejected because of the following issue:\n",
            "Exception: normal_id_glm_lpdf: Scale vector is 0, but must be positive finite! (in '/project/python/stan/prophet.stan', line 137, column 2 to line 142, column 4)\n",
            "If this warning occurs sporadically, such as for highly constrained variable types like covariance matrices, then the sampler is fine,\n",
            "but if this warning occurs often then your model may be either severely ill-conditioned or misspecified.\n",
            "\n",
            "Informational Message: The current Metropolis proposal is about to be rejected because of the following issue:\n",
            "Exception: normal_id_glm_lpdf: Scale vector is 0, but must be positive finite! (in '/project/python/stan/prophet.stan', line 137, column 2 to line 142, column 4)\n",
            "If this warning occurs sporadically, such as for highly constrained variable types like covariance matrices, then the sampler is fine,\n",
            "but if this warning occurs often then your model may be either severely ill-conditioned or misspecified.\n",
            "\n",
            "Iteration: 51 / 100 [ 51%]  (Sampling)\n",
            "Iteration: 100 / 100 [100%]  (Sampling)\n",
            "\n",
            " Elapsed Time: 50.747 seconds (Warm-up)\n",
            "               49.997 seconds (Sampling)\n",
            "               100.744 seconds (Total)\n",
            "\n",
            "\n",
            "08:12:52 - cmdstanpy - WARNING - Non-fatal error during sampling:\n",
            "Exception: normal_id_glm_lpdf: Scale vector is 0, but must be positive finite! (in '/project/python/stan/prophet.stan', line 137, column 2 to line 142, column 4)\n",
            "\tException: normal_id_glm_lpdf: Scale vector is 0, but must be positive finite! (in '/project/python/stan/prophet.stan', line 137, column 2 to line 142, column 4)\n",
            "\tException: normal_id_glm_lpdf: Scale vector is 0, but must be positive finite! (in '/project/python/stan/prophet.stan', line 137, column 2 to line 142, column 4)\n",
            "\tException: normal_id_glm_lpdf: Scale vector is 0, but must be positive finite! (in '/project/python/stan/prophet.stan', line 137, column 2 to line 142, column 4)\n",
            "\tException: normal_id_glm_lpdf: Scale vector is 0, but must be positive finite! (in '/project/python/stan/prophet.stan', line 137, column 2 to line 142, column 4)\n",
            "\tException: normal_id_glm_lpdf: Matrix of independent variables is inf, but must be finite! (in '/project/python/stan/prophet.stan', line 137, column 2 to line 142, column 4)\n",
            "\tException: normal_id_glm_lpdf: Scale vector is 0, but must be positive finite! (in '/project/python/stan/prophet.stan', line 137, column 2 to line 142, column 4)\n",
            "\tException: normal_id_glm_lpdf: Scale vector is 0, but must be positive finite! (in '/project/python/stan/prophet.stan', line 137, column 2 to line 142, column 4)\n",
            "\tException: normal_id_glm_lpdf: Scale vector is 0, but must be positive finite! (in '/project/python/stan/prophet.stan', line 137, column 2 to line 142, column 4)\n",
            "Exception: normal_id_glm_lpdf: Scale vector is 0, but must be positive finite! (in '/project/python/stan/prophet.stan', line 137, column 2 to line 142, column 4)\n",
            "\tException: normal_id_glm_lpdf: Scale vector is 0, but must be positive finite! (in '/project/python/stan/prophet.stan', line 137, column 2 to line 142, column 4)\n",
            "\tException: normal_id_glm_lpdf: Scale vector is 0, but must be positive finite! (in '/project/python/stan/prophet.stan', line 137, column 2 to line 142, column 4)\n",
            "\tException: normal_id_glm_lpdf: Scale vector is 0, but must be positive finite! (in '/project/python/stan/prophet.stan', line 137, column 2 to line 142, column 4)\n",
            "\tException: normal_id_glm_lpdf: Scale vector is 0, but must be positive finite! (in '/project/python/stan/prophet.stan', line 137, column 2 to line 142, column 4)\n",
            "\tException: normal_id_glm_lpdf: Matrix of independent variables is inf, but must be finite! (in '/project/python/stan/prophet.stan', line 137, column 2 to line 142, column 4)\n",
            "\tException: normal_id_glm_lpdf: Scale vector is 0, but must be positive finite! (in '/project/python/stan/prophet.stan', line 137, column 2 to line 142, column 4)\n",
            "\tException: normal_id_glm_lpdf: Scale vector is 0, but must be positive finite! (in '/project/python/stan/prophet.stan', line 137, column 2 to line 142, column 4)\n",
            "Exception: normal_id_glm_lpdf: Scale vector is 0, but must be positive finite! (in '/project/python/stan/prophet.stan', line 137, column 2 to line 142, column 4)\n",
            "\tException: normal_id_glm_lpdf: Scale vector is 0, but must be positive finite! (in '/project/python/stan/prophet.stan', line 137, column 2 to line 142, column 4)\n",
            "\tException: normal_id_glm_lpdf: Scale vector is 0, but must be positive finite! (in '/project/python/stan/prophet.stan', line 137, column 2 to line 142, column 4)\n",
            "\tException: normal_id_glm_lpdf: Scale vector is 0, but must be positive finite! (in '/project/python/stan/prophet.stan', line 137, column 2 to line 142, column 4)\n",
            "\tException: normal_id_glm_lpdf: Scale vector is 0, but must be positive finite! (in '/project/python/stan/prophet.stan', line 137, column 2 to line 142, column 4)\n",
            "\tException: normal_id_glm_lpdf: Matrix of independent variables is inf, but must be finite! (in '/project/python/stan/prophet.stan', line 137, column 2 to line 142, column 4)\n",
            "\tException: normal_id_glm_lpdf: Scale vector is 0, but must be positive finite! (in '/project/python/stan/prophet.stan', line 137, column 2 to line 142, column 4)\n",
            "\tException: normal_id_glm_lpdf: Scale vector is 0, but must be positive finite! (in '/project/python/stan/prophet.stan', line 137, column 2 to line 142, column 4)\n",
            "Exception: normal_id_glm_lpdf: Scale vector is 0, but must be positive finite! (in '/project/python/stan/prophet.stan', line 137, column 2 to line 142, column 4)\n",
            "\tException: normal_id_glm_lpdf: Scale vector is 0, but must be positive finite! (in '/project/python/stan/prophet.stan', line 137, column 2 to line 142, column 4)\n",
            "\tException: normal_id_glm_lpdf: Scale vector is 0, but must be positive finite! (in '/project/python/stan/prophet.stan', line 137, column 2 to line 142, column 4)\n",
            "\tException: normal_id_glm_lpdf: Scale vector is 0, but must be positive finite! (in '/project/python/stan/prophet.stan', line 137, column 2 to line 142, column 4)\n",
            "\tException: normal_id_glm_lpdf: Scale vector is 0, but must be positive finite! (in '/project/python/stan/prophet.stan', line 137, column 2 to line 142, column 4)\n",
            "\tException: normal_id_glm_lpdf: Matrix of independent variables is inf, but must be finite! (in '/project/python/stan/prophet.stan', line 137, column 2 to line 142, column 4)\n",
            "\tException: normal_id_glm_lpdf: Scale vector is 0, but must be positive finite! (in '/project/python/stan/prophet.stan', line 137, column 2 to line 142, column 4)\n",
            "\tException: normal_id_glm_lpdf: Scale vector is 0, but must be positive finite! (in '/project/python/stan/prophet.stan', line 137, column 2 to line 142, column 4)\n",
            "\tException: normal_id_glm_lpdf: Scale vector is 0, but must be positive finite! (in '/project/python/stan/prophet.stan', line 137, column 2 to line 142, column 4)\n",
            "Consider re-running with show_console=True if the above output is unclear!\n",
            "WARNING:cmdstanpy:Non-fatal error during sampling:\n",
            "Exception: normal_id_glm_lpdf: Scale vector is 0, but must be positive finite! (in '/project/python/stan/prophet.stan', line 137, column 2 to line 142, column 4)\n",
            "\tException: normal_id_glm_lpdf: Scale vector is 0, but must be positive finite! (in '/project/python/stan/prophet.stan', line 137, column 2 to line 142, column 4)\n",
            "\tException: normal_id_glm_lpdf: Scale vector is 0, but must be positive finite! (in '/project/python/stan/prophet.stan', line 137, column 2 to line 142, column 4)\n",
            "\tException: normal_id_glm_lpdf: Scale vector is 0, but must be positive finite! (in '/project/python/stan/prophet.stan', line 137, column 2 to line 142, column 4)\n",
            "\tException: normal_id_glm_lpdf: Scale vector is 0, but must be positive finite! (in '/project/python/stan/prophet.stan', line 137, column 2 to line 142, column 4)\n",
            "\tException: normal_id_glm_lpdf: Matrix of independent variables is inf, but must be finite! (in '/project/python/stan/prophet.stan', line 137, column 2 to line 142, column 4)\n",
            "\tException: normal_id_glm_lpdf: Scale vector is 0, but must be positive finite! (in '/project/python/stan/prophet.stan', line 137, column 2 to line 142, column 4)\n",
            "\tException: normal_id_glm_lpdf: Scale vector is 0, but must be positive finite! (in '/project/python/stan/prophet.stan', line 137, column 2 to line 142, column 4)\n",
            "\tException: normal_id_glm_lpdf: Scale vector is 0, but must be positive finite! (in '/project/python/stan/prophet.stan', line 137, column 2 to line 142, column 4)\n",
            "Exception: normal_id_glm_lpdf: Scale vector is 0, but must be positive finite! (in '/project/python/stan/prophet.stan', line 137, column 2 to line 142, column 4)\n",
            "\tException: normal_id_glm_lpdf: Scale vector is 0, but must be positive finite! (in '/project/python/stan/prophet.stan', line 137, column 2 to line 142, column 4)\n",
            "\tException: normal_id_glm_lpdf: Scale vector is 0, but must be positive finite! (in '/project/python/stan/prophet.stan', line 137, column 2 to line 142, column 4)\n",
            "\tException: normal_id_glm_lpdf: Scale vector is 0, but must be positive finite! (in '/project/python/stan/prophet.stan', line 137, column 2 to line 142, column 4)\n",
            "\tException: normal_id_glm_lpdf: Scale vector is 0, but must be positive finite! (in '/project/python/stan/prophet.stan', line 137, column 2 to line 142, column 4)\n",
            "\tException: normal_id_glm_lpdf: Matrix of independent variables is inf, but must be finite! (in '/project/python/stan/prophet.stan', line 137, column 2 to line 142, column 4)\n",
            "\tException: normal_id_glm_lpdf: Scale vector is 0, but must be positive finite! (in '/project/python/stan/prophet.stan', line 137, column 2 to line 142, column 4)\n",
            "\tException: normal_id_glm_lpdf: Scale vector is 0, but must be positive finite! (in '/project/python/stan/prophet.stan', line 137, column 2 to line 142, column 4)\n",
            "Exception: normal_id_glm_lpdf: Scale vector is 0, but must be positive finite! (in '/project/python/stan/prophet.stan', line 137, column 2 to line 142, column 4)\n",
            "\tException: normal_id_glm_lpdf: Scale vector is 0, but must be positive finite! (in '/project/python/stan/prophet.stan', line 137, column 2 to line 142, column 4)\n",
            "\tException: normal_id_glm_lpdf: Scale vector is 0, but must be positive finite! (in '/project/python/stan/prophet.stan', line 137, column 2 to line 142, column 4)\n",
            "\tException: normal_id_glm_lpdf: Scale vector is 0, but must be positive finite! (in '/project/python/stan/prophet.stan', line 137, column 2 to line 142, column 4)\n",
            "\tException: normal_id_glm_lpdf: Scale vector is 0, but must be positive finite! (in '/project/python/stan/prophet.stan', line 137, column 2 to line 142, column 4)\n",
            "\tException: normal_id_glm_lpdf: Matrix of independent variables is inf, but must be finite! (in '/project/python/stan/prophet.stan', line 137, column 2 to line 142, column 4)\n",
            "\tException: normal_id_glm_lpdf: Scale vector is 0, but must be positive finite! (in '/project/python/stan/prophet.stan', line 137, column 2 to line 142, column 4)\n",
            "\tException: normal_id_glm_lpdf: Scale vector is 0, but must be positive finite! (in '/project/python/stan/prophet.stan', line 137, column 2 to line 142, column 4)\n",
            "Exception: normal_id_glm_lpdf: Scale vector is 0, but must be positive finite! (in '/project/python/stan/prophet.stan', line 137, column 2 to line 142, column 4)\n",
            "\tException: normal_id_glm_lpdf: Scale vector is 0, but must be positive finite! (in '/project/python/stan/prophet.stan', line 137, column 2 to line 142, column 4)\n",
            "\tException: normal_id_glm_lpdf: Scale vector is 0, but must be positive finite! (in '/project/python/stan/prophet.stan', line 137, column 2 to line 142, column 4)\n",
            "\tException: normal_id_glm_lpdf: Scale vector is 0, but must be positive finite! (in '/project/python/stan/prophet.stan', line 137, column 2 to line 142, column 4)\n",
            "\tException: normal_id_glm_lpdf: Scale vector is 0, but must be positive finite! (in '/project/python/stan/prophet.stan', line 137, column 2 to line 142, column 4)\n",
            "\tException: normal_id_glm_lpdf: Matrix of independent variables is inf, but must be finite! (in '/project/python/stan/prophet.stan', line 137, column 2 to line 142, column 4)\n",
            "\tException: normal_id_glm_lpdf: Scale vector is 0, but must be positive finite! (in '/project/python/stan/prophet.stan', line 137, column 2 to line 142, column 4)\n",
            "\tException: normal_id_glm_lpdf: Scale vector is 0, but must be positive finite! (in '/project/python/stan/prophet.stan', line 137, column 2 to line 142, column 4)\n",
            "\tException: normal_id_glm_lpdf: Scale vector is 0, but must be positive finite! (in '/project/python/stan/prophet.stan', line 137, column 2 to line 142, column 4)\n",
            "Consider re-running with show_console=True if the above output is unclear!\n"
          ]
        },
        {
          "output_type": "stream",
          "name": "stdout",
          "text": [
            "\n"
          ]
        },
        {
          "output_type": "stream",
          "name": "stderr",
          "text": [
            "08:12:57 - cmdstanpy - WARNING - Some chains may have failed to converge.\n",
            "\tChain 1 had 8 divergent transitions (16.0%)\n",
            "\tChain 2 had 9 divergent transitions (18.0%)\n",
            "\tChain 3 had 13 divergent transitions (26.0%)\n",
            "\tChain 4 had 12 divergent transitions (24.0%)\n",
            "\tUse function \"diagnose()\" to see further information.\n",
            "WARNING:cmdstanpy:Some chains may have failed to converge.\n",
            "\tChain 1 had 8 divergent transitions (16.0%)\n",
            "\tChain 2 had 9 divergent transitions (18.0%)\n",
            "\tChain 3 had 13 divergent transitions (26.0%)\n",
            "\tChain 4 had 12 divergent transitions (24.0%)\n",
            "\tUse function \"diagnose()\" to see further information.\n"
          ]
        },
        {
          "output_type": "execute_result",
          "data": {
            "text/plain": [
              "<prophet.forecaster.Prophet at 0x7f6018b2f790>"
            ]
          },
          "metadata": {},
          "execution_count": 35
        }
      ]
    },
    {
      "cell_type": "markdown",
      "source": [
        "It seems that there s a problem with outliers or anomalies in the data that stopping the model to converge. further investigations should be performed and more tuning should be done in order to have a good model."
      ],
      "metadata": {
        "id": "BYWmVSk-wUOy"
      }
    },
    {
      "cell_type": "markdown",
      "source": [
        "### Bayesian model for uncertainty distribution"
      ],
      "metadata": {
        "id": "tqMcuN_uy3Li"
      }
    },
    {
      "cell_type": "markdown",
      "source": [
        "#### installation"
      ],
      "metadata": {
        "id": "-YtA7giAgzjC"
      }
    },
    {
      "cell_type": "code",
      "source": [
        "!pip install pymc3"
      ],
      "metadata": {
        "colab": {
          "base_uri": "https://localhost:8080/"
        },
        "id": "UmoqrjNowTk-",
        "outputId": "b0e7e326-3cce-4863-92d8-a5e3f2e7bed6"
      },
      "execution_count": null,
      "outputs": [
        {
          "output_type": "stream",
          "name": "stdout",
          "text": [
            "Looking in indexes: https://pypi.org/simple, https://us-python.pkg.dev/colab-wheels/public/simple/\n",
            "Collecting pymc3\n",
            "  Downloading pymc3-3.11.5-py3-none-any.whl (872 kB)\n",
            "\u001b[2K     \u001b[90m━━━━━━━━━━━━━━━━━━━━━━━━━━━━━━━━━━━━━━\u001b[0m \u001b[32m872.2/872.2 KB\u001b[0m \u001b[31m43.1 MB/s\u001b[0m eta \u001b[36m0:00:00\u001b[0m\n",
            "\u001b[?25hRequirement already satisfied: fastprogress>=0.2.0 in /usr/local/lib/python3.9/dist-packages (from pymc3) (1.0.3)\n",
            "Requirement already satisfied: pandas>=0.24.0 in /usr/local/lib/python3.9/dist-packages (from pymc3) (1.4.4)\n",
            "Requirement already satisfied: arviz>=0.11.0 in /usr/local/lib/python3.9/dist-packages (from pymc3) (0.15.1)\n",
            "Requirement already satisfied: patsy>=0.5.1 in /usr/local/lib/python3.9/dist-packages (from pymc3) (0.5.3)\n",
            "Collecting dill\n",
            "  Downloading dill-0.3.6-py3-none-any.whl (110 kB)\n",
            "\u001b[2K     \u001b[90m━━━━━━━━━━━━━━━━━━━━━━━━━━━━━━━━━━━━━━\u001b[0m \u001b[32m110.5/110.5 KB\u001b[0m \u001b[31m13.4 MB/s\u001b[0m eta \u001b[36m0:00:00\u001b[0m\n",
            "\u001b[?25hCollecting scipy<1.8.0,>=1.7.3\n",
            "  Downloading scipy-1.7.3-cp39-cp39-manylinux_2_17_x86_64.manylinux2014_x86_64.whl (39.8 MB)\n",
            "\u001b[2K     \u001b[90m━━━━━━━━━━━━━━━━━━━━━━━━━━━━━━━━━━━━━━━━\u001b[0m \u001b[32m39.8/39.8 MB\u001b[0m \u001b[31m18.0 MB/s\u001b[0m eta \u001b[36m0:00:00\u001b[0m\n",
            "\u001b[?25hCollecting numpy<1.22.2,>=1.15.0\n",
            "  Downloading numpy-1.22.1-cp39-cp39-manylinux_2_17_x86_64.manylinux2014_x86_64.whl (16.8 MB)\n",
            "\u001b[2K     \u001b[90m━━━━━━━━━━━━━━━━━━━━━━━━━━━━━━━━━━━━━━━━\u001b[0m \u001b[32m16.8/16.8 MB\u001b[0m \u001b[31m71.2 MB/s\u001b[0m eta \u001b[36m0:00:00\u001b[0m\n",
            "\u001b[?25hRequirement already satisfied: typing-extensions>=3.7.4 in /usr/local/lib/python3.9/dist-packages (from pymc3) (4.5.0)\n",
            "Collecting theano-pymc==1.1.2\n",
            "  Downloading Theano-PyMC-1.1.2.tar.gz (1.8 MB)\n",
            "\u001b[2K     \u001b[90m━━━━━━━━━━━━━━━━━━━━━━━━━━━━━━━━━━━━━━━━\u001b[0m \u001b[32m1.8/1.8 MB\u001b[0m \u001b[31m64.6 MB/s\u001b[0m eta \u001b[36m0:00:00\u001b[0m\n",
            "\u001b[?25h  Preparing metadata (setup.py) ... \u001b[?25l\u001b[?25hdone\n",
            "Collecting deprecat\n",
            "  Downloading deprecat-2.1.1-py2.py3-none-any.whl (9.8 kB)\n",
            "Collecting semver>=2.13.0\n",
            "  Downloading semver-2.13.0-py2.py3-none-any.whl (12 kB)\n",
            "Requirement already satisfied: cachetools>=4.2.1 in /usr/local/lib/python3.9/dist-packages (from pymc3) (5.3.0)\n",
            "Requirement already satisfied: filelock in /usr/local/lib/python3.9/dist-packages (from theano-pymc==1.1.2->pymc3) (3.10.7)\n",
            "Requirement already satisfied: h5netcdf>=1.0.2 in /usr/local/lib/python3.9/dist-packages (from arviz>=0.11.0->pymc3) (1.1.0)\n",
            "Requirement already satisfied: xarray-einstats>=0.3 in /usr/local/lib/python3.9/dist-packages (from arviz>=0.11.0->pymc3) (0.5.1)\n",
            "Requirement already satisfied: matplotlib>=3.2 in /usr/local/lib/python3.9/dist-packages (from arviz>=0.11.0->pymc3) (3.7.1)\n",
            "Requirement already satisfied: xarray>=0.21.0 in /usr/local/lib/python3.9/dist-packages (from arviz>=0.11.0->pymc3) (2022.12.0)\n",
            "Requirement already satisfied: setuptools>=60.0.0 in /usr/local/lib/python3.9/dist-packages (from arviz>=0.11.0->pymc3) (67.6.1)\n",
            "Requirement already satisfied: packaging in /usr/local/lib/python3.9/dist-packages (from arviz>=0.11.0->pymc3) (23.0)\n",
            "Collecting arviz>=0.11.0\n",
            "  Downloading arviz-0.15.0-py3-none-any.whl (1.6 MB)\n",
            "\u001b[2K     \u001b[90m━━━━━━━━━━━━━━━━━━━━━━━━━━━━━━━━━━━━━━━━\u001b[0m \u001b[32m1.6/1.6 MB\u001b[0m \u001b[31m70.6 MB/s\u001b[0m eta \u001b[36m0:00:00\u001b[0m\n",
            "\u001b[?25h  Downloading arviz-0.14.0-py3-none-any.whl (1.7 MB)\n",
            "\u001b[2K     \u001b[90m━━━━━━━━━━━━━━━━━━━━━━━━━━━━━━━━━━━━━━━━\u001b[0m \u001b[32m1.7/1.7 MB\u001b[0m \u001b[31m79.3 MB/s\u001b[0m eta \u001b[36m0:00:00\u001b[0m\n",
            "\u001b[?25hCollecting netcdf4\n",
            "  Downloading netCDF4-1.6.3-cp39-cp39-manylinux_2_17_x86_64.manylinux2014_x86_64.whl (5.2 MB)\n",
            "\u001b[2K     \u001b[90m━━━━━━━━━━━━━━━━━━━━━━━━━━━━━━━━━━━━━━━━\u001b[0m \u001b[32m5.2/5.2 MB\u001b[0m \u001b[31m90.6 MB/s\u001b[0m eta \u001b[36m0:00:00\u001b[0m\n",
            "\u001b[?25hCollecting arviz>=0.11.0\n",
            "  Downloading arviz-0.13.0-py3-none-any.whl (1.7 MB)\n",
            "\u001b[2K     \u001b[90m━━━━━━━━━━━━━━━━━━━━━━━━━━━━━━━━━━━━━━━━\u001b[0m \u001b[32m1.7/1.7 MB\u001b[0m \u001b[31m73.1 MB/s\u001b[0m eta \u001b[36m0:00:00\u001b[0m\n",
            "\u001b[?25h  Downloading arviz-0.12.1-py3-none-any.whl (1.6 MB)\n",
            "\u001b[2K     \u001b[90m━━━━━━━━━━━━━━━━━━━━━━━━━━━━━━━━━━━━━━━━\u001b[0m \u001b[32m1.6/1.6 MB\u001b[0m \u001b[31m76.9 MB/s\u001b[0m eta \u001b[36m0:00:00\u001b[0m\n",
            "\u001b[?25hRequirement already satisfied: pytz>=2020.1 in /usr/local/lib/python3.9/dist-packages (from pandas>=0.24.0->pymc3) (2022.7.1)\n",
            "Requirement already satisfied: python-dateutil>=2.8.1 in /usr/local/lib/python3.9/dist-packages (from pandas>=0.24.0->pymc3) (2.8.2)\n",
            "Requirement already satisfied: six in /usr/local/lib/python3.9/dist-packages (from patsy>=0.5.1->pymc3) (1.16.0)\n",
            "Requirement already satisfied: wrapt<2,>=1.10 in /usr/local/lib/python3.9/dist-packages (from deprecat->pymc3) (1.14.1)\n",
            "Requirement already satisfied: fonttools>=4.22.0 in /usr/local/lib/python3.9/dist-packages (from matplotlib>=3.2->arviz>=0.11.0->pymc3) (4.39.3)\n",
            "Requirement already satisfied: contourpy>=1.0.1 in /usr/local/lib/python3.9/dist-packages (from matplotlib>=3.2->arviz>=0.11.0->pymc3) (1.0.7)\n",
            "Requirement already satisfied: pillow>=6.2.0 in /usr/local/lib/python3.9/dist-packages (from matplotlib>=3.2->arviz>=0.11.0->pymc3) (8.4.0)\n",
            "Requirement already satisfied: importlib-resources>=3.2.0 in /usr/local/lib/python3.9/dist-packages (from matplotlib>=3.2->arviz>=0.11.0->pymc3) (5.12.0)\n",
            "Requirement already satisfied: cycler>=0.10 in /usr/local/lib/python3.9/dist-packages (from matplotlib>=3.2->arviz>=0.11.0->pymc3) (0.11.0)\n",
            "Requirement already satisfied: pyparsing>=2.3.1 in /usr/local/lib/python3.9/dist-packages (from matplotlib>=3.2->arviz>=0.11.0->pymc3) (3.0.9)\n",
            "Requirement already satisfied: kiwisolver>=1.0.1 in /usr/local/lib/python3.9/dist-packages (from matplotlib>=3.2->arviz>=0.11.0->pymc3) (1.4.4)\n",
            "Collecting cftime\n",
            "  Downloading cftime-1.6.2-cp39-cp39-manylinux_2_17_x86_64.manylinux2014_x86_64.whl (1.3 MB)\n",
            "\u001b[2K     \u001b[90m━━━━━━━━━━━━━━━━━━━━━━━━━━━━━━━━━━━━━━━━\u001b[0m \u001b[32m1.3/1.3 MB\u001b[0m \u001b[31m73.6 MB/s\u001b[0m eta \u001b[36m0:00:00\u001b[0m\n",
            "\u001b[?25hRequirement already satisfied: zipp>=3.1.0 in /usr/local/lib/python3.9/dist-packages (from importlib-resources>=3.2.0->matplotlib>=3.2->arviz>=0.11.0->pymc3) (3.15.0)\n",
            "Building wheels for collected packages: theano-pymc\n",
            "  Building wheel for theano-pymc (setup.py) ... \u001b[?25l\u001b[?25hdone\n",
            "  Created wheel for theano-pymc: filename=Theano_PyMC-1.1.2-py3-none-any.whl size=1529964 sha256=bfeb6a20c9c17a3a9290aa079a980775c6476d14d59ce595663bd8b5806a2e5a\n",
            "  Stored in directory: /root/.cache/pip/wheels/04/22/4d/832878ba2fe9ea3543f0189b9288a78e4aa4e0afc851a6890c\n",
            "Successfully built theano-pymc\n",
            "Installing collected packages: semver, numpy, dill, deprecat, scipy, cftime, theano-pymc, netcdf4, arviz, pymc3\n",
            "  Attempting uninstall: numpy\n",
            "    Found existing installation: numpy 1.22.4\n",
            "    Uninstalling numpy-1.22.4:\n",
            "      Successfully uninstalled numpy-1.22.4\n",
            "  Attempting uninstall: scipy\n",
            "    Found existing installation: scipy 1.10.1\n",
            "    Uninstalling scipy-1.10.1:\n",
            "      Successfully uninstalled scipy-1.10.1\n",
            "  Attempting uninstall: arviz\n",
            "    Found existing installation: arviz 0.15.1\n",
            "    Uninstalling arviz-0.15.1:\n",
            "      Successfully uninstalled arviz-0.15.1\n",
            "\u001b[31mERROR: pip's dependency resolver does not currently take into account all the packages that are installed. This behaviour is the source of the following dependency conflicts.\n",
            "pymc 5.1.2 requires arviz>=0.13.0, but you have arviz 0.12.1 which is incompatible.\n",
            "librosa 0.10.0.post2 requires numpy!=1.22.0,!=1.22.1,!=1.22.2,>=1.20.3, but you have numpy 1.22.1 which is incompatible.\u001b[0m\u001b[31m\n",
            "\u001b[0mSuccessfully installed arviz-0.12.1 cftime-1.6.2 deprecat-2.1.1 dill-0.3.6 netcdf4-1.6.3 numpy-1.22.1 pymc3-3.11.5 scipy-1.7.3 semver-2.13.0 theano-pymc-1.1.2\n"
          ]
        }
      ]
    },
    {
      "cell_type": "code",
      "source": [
        "!pip install torchbnn"
      ],
      "metadata": {
        "colab": {
          "base_uri": "https://localhost:8080/"
        },
        "id": "k0ACUZBQoOdD",
        "outputId": "1da804d1-6eea-4a5a-a6d1-a7ffbadb0a14"
      },
      "execution_count": null,
      "outputs": [
        {
          "output_type": "stream",
          "name": "stdout",
          "text": [
            "Looking in indexes: https://pypi.org/simple, https://us-python.pkg.dev/colab-wheels/public/simple/\n",
            "Collecting torchbnn\n",
            "  Downloading torchbnn-1.2-py3-none-any.whl (12 kB)\n",
            "Installing collected packages: torchbnn\n",
            "Successfully installed torchbnn-1.2\n"
          ]
        }
      ]
    },
    {
      "cell_type": "code",
      "source": [
        "!pip install theano\n"
      ],
      "metadata": {
        "colab": {
          "base_uri": "https://localhost:8080/"
        },
        "id": "hem2_HxsVTlL",
        "outputId": "c571252d-99cb-46de-8fe8-810de758b2c1"
      },
      "execution_count": null,
      "outputs": [
        {
          "output_type": "stream",
          "name": "stdout",
          "text": [
            "Looking in indexes: https://pypi.org/simple, https://us-python.pkg.dev/colab-wheels/public/simple/\n",
            "Collecting theano\n",
            "  Downloading Theano-1.0.5.tar.gz (2.8 MB)\n",
            "\u001b[2K     \u001b[90m━━━━━━━━━━━━━━━━━━━━━━━━━━━━━━━━━━━━━━━━\u001b[0m \u001b[32m2.8/2.8 MB\u001b[0m \u001b[31m65.4 MB/s\u001b[0m eta \u001b[36m0:00:00\u001b[0m\n",
            "\u001b[?25h  Preparing metadata (setup.py) ... \u001b[?25l\u001b[?25hdone\n",
            "Requirement already satisfied: numpy>=1.9.1 in /usr/local/lib/python3.9/dist-packages (from theano) (1.22.1)\n",
            "Requirement already satisfied: scipy>=0.14 in /usr/local/lib/python3.9/dist-packages (from theano) (1.7.3)\n",
            "Requirement already satisfied: six>=1.9.0 in /usr/local/lib/python3.9/dist-packages (from theano) (1.16.0)\n",
            "Building wheels for collected packages: theano\n",
            "  Building wheel for theano (setup.py) ... \u001b[?25l\u001b[?25hdone\n",
            "  Created wheel for theano: filename=Theano-1.0.5-py3-none-any.whl size=2668109 sha256=b5faddf095d108f11fb867d7273dbc6a54de0c8b30260f5a11a1c5b7a19f2fef\n",
            "  Stored in directory: /root/.cache/pip/wheels/12/d8/36/e9b7c617ca8be398dcc48621c539d0cb1d41ff04e4367fc235\n",
            "Successfully built theano\n",
            "Installing collected packages: theano\n",
            "Successfully installed theano-1.0.5\n"
          ]
        }
      ]
    },
    {
      "cell_type": "code",
      "source": [
        "!export MKL_THREADING_LAYER=GNU\n",
        "!source ~/.zshrc"
      ],
      "metadata": {
        "colab": {
          "base_uri": "https://localhost:8080/"
        },
        "id": "5dt8KdoqVqJ6",
        "outputId": "022a0924-ff45-4c68-eb13-4b0b9d3766df"
      },
      "execution_count": null,
      "outputs": [
        {
          "output_type": "stream",
          "name": "stdout",
          "text": [
            "/bin/bash: /root/.zshrc: No such file or directory\n"
          ]
        }
      ]
    },
    {
      "cell_type": "code",
      "source": [
        "import os\n",
        "os.environ[\"MKL_THREADING_LAYER\"] = \"GNU\""
      ],
      "metadata": {
        "id": "_I0TaBrSYngl"
      },
      "execution_count": null,
      "outputs": []
    },
    {
      "cell_type": "code",
      "source": [
        "import pymc3 as pm \n",
        "\n",
        "lin_reg_model = pm.Model()\n",
        "\n",
        "model_input = theano.shared(X_train)\n",
        "\n",
        "model_output = theano.shared(y_train)\n",
        "\n",
        "with lin_reg_model:\n",
        "\n",
        "    alpha = pm.Normal('alpha', mu=0, sd=100, shape=(1))\n",
        "    beta = pm.Normal('beta', mu=0, sd=100, shape=(1))\n",
        "\n",
        "    s = pm.HalfNormal('s', tau=1)\n",
        "\n",
        "    mean = alpha + beta * model_input\n",
        "\n",
        "    y = pm.Normal('y', mu=mean , sd=s, observed=model_output)"
      ],
      "metadata": {
        "colab": {
          "base_uri": "https://localhost:8080/",
          "height": 389
        },
        "id": "DgGvHuxSUtN1",
        "outputId": "b6f2c337-b957-4fbb-8736-4e976f9482af"
      },
      "execution_count": null,
      "outputs": [
        {
          "output_type": "error",
          "ename": "AttributeError",
          "evalue": "ignored",
          "traceback": [
            "\u001b[0;31m---------------------------------------------------------------------------\u001b[0m",
            "\u001b[0;31mAttributeError\u001b[0m                            Traceback (most recent call last)",
            "\u001b[0;32m<ipython-input-32-c17b377497c5>\u001b[0m in \u001b[0;36m<cell line: 1>\u001b[0;34m()\u001b[0m\n\u001b[0;32m----> 1\u001b[0;31m \u001b[0;32mimport\u001b[0m \u001b[0mpymc3\u001b[0m \u001b[0;32mas\u001b[0m \u001b[0mpm\u001b[0m\u001b[0;34m\u001b[0m\u001b[0;34m\u001b[0m\u001b[0m\n\u001b[0m\u001b[1;32m      2\u001b[0m \u001b[0;34m\u001b[0m\u001b[0m\n\u001b[1;32m      3\u001b[0m \u001b[0mlin_reg_model\u001b[0m \u001b[0;34m=\u001b[0m \u001b[0mpm\u001b[0m\u001b[0;34m.\u001b[0m\u001b[0mModel\u001b[0m\u001b[0;34m(\u001b[0m\u001b[0;34m)\u001b[0m\u001b[0;34m\u001b[0m\u001b[0;34m\u001b[0m\u001b[0m\n\u001b[1;32m      4\u001b[0m \u001b[0;34m\u001b[0m\u001b[0m\n\u001b[1;32m      5\u001b[0m \u001b[0mmodel_input\u001b[0m \u001b[0;34m=\u001b[0m \u001b[0mtheano\u001b[0m\u001b[0;34m.\u001b[0m\u001b[0mshared\u001b[0m\u001b[0;34m(\u001b[0m\u001b[0mX_train\u001b[0m\u001b[0;34m)\u001b[0m\u001b[0;34m\u001b[0m\u001b[0;34m\u001b[0m\u001b[0m\n",
            "\u001b[0;32m/usr/local/lib/python3.9/dist-packages/pymc3/__init__.py\u001b[0m in \u001b[0;36m<module>\u001b[0;34m\u001b[0m\n\u001b[1;32m     43\u001b[0m     \u001b[0mnumpy\u001b[0m\u001b[0;34m.\u001b[0m\u001b[0mdistutils\u001b[0m\u001b[0;34m.\u001b[0m\u001b[0m__config__\u001b[0m\u001b[0;34m.\u001b[0m\u001b[0mblas_opt_info\u001b[0m \u001b[0;34m=\u001b[0m \u001b[0mblas_info\u001b[0m\u001b[0;34m\u001b[0m\u001b[0;34m\u001b[0m\u001b[0m\n\u001b[1;32m     44\u001b[0m \u001b[0;34m\u001b[0m\u001b[0m\n\u001b[0;32m---> 45\u001b[0;31m \u001b[0;32mimport\u001b[0m \u001b[0mtheano\u001b[0m\u001b[0;34m\u001b[0m\u001b[0;34m\u001b[0m\u001b[0m\n\u001b[0m\u001b[1;32m     46\u001b[0m \u001b[0;34m\u001b[0m\u001b[0m\n\u001b[1;32m     47\u001b[0m \u001b[0m_log\u001b[0m \u001b[0;34m=\u001b[0m \u001b[0mlogging\u001b[0m\u001b[0;34m.\u001b[0m\u001b[0mgetLogger\u001b[0m\u001b[0;34m(\u001b[0m\u001b[0;34m\"pymc3\"\u001b[0m\u001b[0;34m)\u001b[0m\u001b[0;34m\u001b[0m\u001b[0;34m\u001b[0m\u001b[0m\n",
            "\u001b[0;32m/usr/local/lib/python3.9/dist-packages/theano/__init__.py\u001b[0m in \u001b[0;36m<module>\u001b[0;34m\u001b[0m\n\u001b[1;32m    122\u001b[0m \u001b[0;32mfrom\u001b[0m \u001b[0mtheano\u001b[0m\u001b[0;34m.\u001b[0m\u001b[0mprinting\u001b[0m \u001b[0;32mimport\u001b[0m \u001b[0mpprint\u001b[0m\u001b[0;34m,\u001b[0m \u001b[0mpp\u001b[0m\u001b[0;34m\u001b[0m\u001b[0;34m\u001b[0m\u001b[0m\n\u001b[1;32m    123\u001b[0m \u001b[0;34m\u001b[0m\u001b[0m\n\u001b[0;32m--> 124\u001b[0;31m from theano.scan_module import (scan, map, reduce, foldl, foldr, clone,\n\u001b[0m\u001b[1;32m    125\u001b[0m                                 scan_checkpoints)\n\u001b[1;32m    126\u001b[0m \u001b[0;34m\u001b[0m\u001b[0m\n",
            "\u001b[0;32m/usr/local/lib/python3.9/dist-packages/theano/scan_module/__init__.py\u001b[0m in \u001b[0;36m<module>\u001b[0;34m\u001b[0m\n\u001b[1;32m     39\u001b[0m \u001b[0m__contact__\u001b[0m \u001b[0;34m=\u001b[0m \u001b[0;34m\"Razvan Pascanu <r.pascanu@gmail>\"\u001b[0m\u001b[0;34m\u001b[0m\u001b[0;34m\u001b[0m\u001b[0m\n\u001b[1;32m     40\u001b[0m \u001b[0;34m\u001b[0m\u001b[0m\n\u001b[0;32m---> 41\u001b[0;31m \u001b[0;32mfrom\u001b[0m \u001b[0mtheano\u001b[0m\u001b[0;34m.\u001b[0m\u001b[0mscan_module\u001b[0m \u001b[0;32mimport\u001b[0m \u001b[0mscan_opt\u001b[0m\u001b[0;34m\u001b[0m\u001b[0;34m\u001b[0m\u001b[0m\n\u001b[0m\u001b[1;32m     42\u001b[0m \u001b[0;32mfrom\u001b[0m \u001b[0mtheano\u001b[0m\u001b[0;34m.\u001b[0m\u001b[0mscan_module\u001b[0m\u001b[0;34m.\u001b[0m\u001b[0mscan\u001b[0m \u001b[0;32mimport\u001b[0m \u001b[0mscan\u001b[0m\u001b[0;34m\u001b[0m\u001b[0;34m\u001b[0m\u001b[0m\n\u001b[1;32m     43\u001b[0m \u001b[0;32mfrom\u001b[0m \u001b[0mtheano\u001b[0m\u001b[0;34m.\u001b[0m\u001b[0mscan_module\u001b[0m\u001b[0;34m.\u001b[0m\u001b[0mscan_checkpoints\u001b[0m \u001b[0;32mimport\u001b[0m \u001b[0mscan_checkpoints\u001b[0m\u001b[0;34m\u001b[0m\u001b[0;34m\u001b[0m\u001b[0m\n",
            "\u001b[0;32m/usr/local/lib/python3.9/dist-packages/theano/scan_module/scan_opt.py\u001b[0m in \u001b[0;36m<module>\u001b[0;34m\u001b[0m\n\u001b[1;32m     58\u001b[0m \u001b[0;34m\u001b[0m\u001b[0m\n\u001b[1;32m     59\u001b[0m \u001b[0;32mimport\u001b[0m \u001b[0mtheano\u001b[0m\u001b[0;34m\u001b[0m\u001b[0;34m\u001b[0m\u001b[0m\n\u001b[0;32m---> 60\u001b[0;31m \u001b[0;32mfrom\u001b[0m \u001b[0mtheano\u001b[0m \u001b[0;32mimport\u001b[0m \u001b[0mtensor\u001b[0m\u001b[0;34m,\u001b[0m \u001b[0mscalar\u001b[0m\u001b[0;34m\u001b[0m\u001b[0;34m\u001b[0m\u001b[0m\n\u001b[0m\u001b[1;32m     61\u001b[0m \u001b[0;32mfrom\u001b[0m \u001b[0mtheano\u001b[0m\u001b[0;34m.\u001b[0m\u001b[0mtensor\u001b[0m \u001b[0;32mimport\u001b[0m \u001b[0mopt\u001b[0m\u001b[0;34m,\u001b[0m \u001b[0mget_scalar_constant_value\u001b[0m\u001b[0;34m,\u001b[0m \u001b[0mAlloc\u001b[0m\u001b[0;34m,\u001b[0m \u001b[0mAllocEmpty\u001b[0m\u001b[0;34m\u001b[0m\u001b[0;34m\u001b[0m\u001b[0m\n\u001b[1;32m     62\u001b[0m \u001b[0;32mfrom\u001b[0m \u001b[0mtheano\u001b[0m \u001b[0;32mimport\u001b[0m \u001b[0mgof\u001b[0m\u001b[0;34m\u001b[0m\u001b[0;34m\u001b[0m\u001b[0m\n",
            "\u001b[0;32m/usr/local/lib/python3.9/dist-packages/theano/tensor/__init__.py\u001b[0m in \u001b[0;36m<module>\u001b[0;34m\u001b[0m\n\u001b[1;32m     36\u001b[0m \u001b[0;32mfrom\u001b[0m \u001b[0mtheano\u001b[0m\u001b[0;34m.\u001b[0m\u001b[0mtensor\u001b[0m\u001b[0;34m.\u001b[0m\u001b[0mio\u001b[0m \u001b[0;32mimport\u001b[0m \u001b[0;34m*\u001b[0m\u001b[0;34m\u001b[0m\u001b[0;34m\u001b[0m\u001b[0m\n\u001b[1;32m     37\u001b[0m \u001b[0;34m\u001b[0m\u001b[0m\n\u001b[0;32m---> 38\u001b[0;31m \u001b[0;32mfrom\u001b[0m \u001b[0mtheano\u001b[0m\u001b[0;34m.\u001b[0m\u001b[0mtensor\u001b[0m \u001b[0;32mimport\u001b[0m \u001b[0mnnet\u001b[0m  \u001b[0;31m# used for softmax, sigmoid, etc.\u001b[0m\u001b[0;34m\u001b[0m\u001b[0;34m\u001b[0m\u001b[0m\n\u001b[0m\u001b[1;32m     39\u001b[0m \u001b[0;34m\u001b[0m\u001b[0m\n\u001b[1;32m     40\u001b[0m \u001b[0;32mfrom\u001b[0m \u001b[0mtheano\u001b[0m\u001b[0;34m.\u001b[0m\u001b[0mgradient\u001b[0m \u001b[0;32mimport\u001b[0m \u001b[0mRop\u001b[0m\u001b[0;34m,\u001b[0m \u001b[0mLop\u001b[0m\u001b[0;34m,\u001b[0m \u001b[0mgrad\u001b[0m\u001b[0;34m,\u001b[0m \u001b[0mnumeric_grad\u001b[0m\u001b[0;34m,\u001b[0m \u001b[0mverify_grad\u001b[0m\u001b[0;34m,\u001b[0m\u001b[0;31m \u001b[0m\u001b[0;31m\\\u001b[0m\u001b[0;34m\u001b[0m\u001b[0;34m\u001b[0m\u001b[0m\n",
            "\u001b[0;32m/usr/local/lib/python3.9/dist-packages/theano/tensor/nnet/__init__.py\u001b[0m in \u001b[0;36m<module>\u001b[0;34m\u001b[0m\n\u001b[1;32m      1\u001b[0m \u001b[0;32mfrom\u001b[0m \u001b[0m__future__\u001b[0m \u001b[0;32mimport\u001b[0m \u001b[0mabsolute_import\u001b[0m\u001b[0;34m,\u001b[0m \u001b[0mprint_function\u001b[0m\u001b[0;34m,\u001b[0m \u001b[0mdivision\u001b[0m\u001b[0;34m\u001b[0m\u001b[0;34m\u001b[0m\u001b[0m\n\u001b[0;32m----> 2\u001b[0;31m from .nnet import (\n\u001b[0m\u001b[1;32m      3\u001b[0m     \u001b[0mCrossentropyCategorical1Hot\u001b[0m\u001b[0;34m,\u001b[0m \u001b[0mCrossentropyCategorical1HotGrad\u001b[0m\u001b[0;34m,\u001b[0m\u001b[0;34m\u001b[0m\u001b[0;34m\u001b[0m\u001b[0m\n\u001b[1;32m      4\u001b[0m     \u001b[0mCrossentropySoftmax1HotWithBiasDx\u001b[0m\u001b[0;34m,\u001b[0m \u001b[0mCrossentropySoftmaxArgmax1HotWithBias\u001b[0m\u001b[0;34m,\u001b[0m\u001b[0;34m\u001b[0m\u001b[0;34m\u001b[0m\u001b[0m\n\u001b[1;32m      5\u001b[0m     \u001b[0mLogSoftmax\u001b[0m\u001b[0;34m,\u001b[0m \u001b[0mPrepend_scalar_constant_to_each_row\u001b[0m\u001b[0;34m,\u001b[0m\u001b[0;34m\u001b[0m\u001b[0;34m\u001b[0m\u001b[0m\n",
            "\u001b[0;32m/usr/local/lib/python3.9/dist-packages/theano/tensor/nnet/nnet.py\u001b[0m in \u001b[0;36m<module>\u001b[0;34m\u001b[0m\n\u001b[1;32m     30\u001b[0m \u001b[0;32mfrom\u001b[0m \u001b[0mtheano\u001b[0m\u001b[0;34m.\u001b[0m\u001b[0mgof\u001b[0m \u001b[0;32mimport\u001b[0m \u001b[0mApply\u001b[0m\u001b[0;34m\u001b[0m\u001b[0;34m\u001b[0m\u001b[0m\n\u001b[1;32m     31\u001b[0m \u001b[0;34m\u001b[0m\u001b[0m\n\u001b[0;32m---> 32\u001b[0;31m \u001b[0;32mfrom\u001b[0m \u001b[0mtheano\u001b[0m\u001b[0;34m.\u001b[0m\u001b[0mtensor\u001b[0m\u001b[0;34m.\u001b[0m\u001b[0mnnet\u001b[0m\u001b[0;34m.\u001b[0m\u001b[0msigm\u001b[0m \u001b[0;32mimport\u001b[0m \u001b[0msigmoid\u001b[0m\u001b[0;34m,\u001b[0m \u001b[0msoftplus\u001b[0m\u001b[0;34m\u001b[0m\u001b[0;34m\u001b[0m\u001b[0m\n\u001b[0m\u001b[1;32m     33\u001b[0m \u001b[0;32mfrom\u001b[0m \u001b[0mtheano\u001b[0m\u001b[0;34m.\u001b[0m\u001b[0mgradient\u001b[0m \u001b[0;32mimport\u001b[0m \u001b[0mDisconnectedType\u001b[0m\u001b[0;34m\u001b[0m\u001b[0;34m\u001b[0m\u001b[0m\n\u001b[1;32m     34\u001b[0m \u001b[0;32mfrom\u001b[0m \u001b[0mtheano\u001b[0m\u001b[0;34m.\u001b[0m\u001b[0mgradient\u001b[0m \u001b[0;32mimport\u001b[0m \u001b[0mgrad_not_implemented\u001b[0m\u001b[0;34m\u001b[0m\u001b[0;34m\u001b[0m\u001b[0m\n",
            "\u001b[0;32m/usr/local/lib/python3.9/dist-packages/theano/tensor/nnet/sigm.py\u001b[0m in \u001b[0;36m<module>\u001b[0;34m\u001b[0m\n\u001b[1;32m    273\u001b[0m         \u001b[0mout\u001b[0m\u001b[0;34m.\u001b[0m\u001b[0mtag\u001b[0m\u001b[0;34m.\u001b[0m\u001b[0mvalues_eq_approx\u001b[0m \u001b[0;34m=\u001b[0m \u001b[0mvalues_eq_approx_remove_low_prec\u001b[0m\u001b[0;34m\u001b[0m\u001b[0;34m\u001b[0m\u001b[0m\n\u001b[1;32m    274\u001b[0m         \u001b[0;32mreturn\u001b[0m \u001b[0;34m[\u001b[0m\u001b[0mout\u001b[0m\u001b[0;34m]\u001b[0m\u001b[0;34m\u001b[0m\u001b[0;34m\u001b[0m\u001b[0m\n\u001b[0;32m--> 275\u001b[0;31m theano.compile.optdb['uncanonicalize'].register(\"local_ultra_fast_sigmoid\",\n\u001b[0m\u001b[1;32m    276\u001b[0m                                                 local_ultra_fast_sigmoid)\n\u001b[1;32m    277\u001b[0m \u001b[0;34m\u001b[0m\u001b[0m\n",
            "\u001b[0;31mAttributeError\u001b[0m: partially initialized module 'theano' has no attribute 'compile' (most likely due to a circular import)"
          ]
        }
      ]
    },
    {
      "cell_type": "markdown",
      "source": [
        "#### naive bayes (baseline prediction)"
      ],
      "metadata": {
        "id": "hcSLx9xGg5vR"
      }
    },
    {
      "cell_type": "code",
      "source": [
        "X_train"
      ],
      "metadata": {
        "id": "096VZ99Yk_Co"
      },
      "execution_count": null,
      "outputs": []
    },
    {
      "cell_type": "code",
      "source": [
        "from sklearn import linear_model\n",
        "reg = linear_model.BayesianRidge(compute_score=True, n_iter=30)\n",
        "reg.fit(X_train, y_train)"
      ],
      "metadata": {
        "colab": {
          "base_uri": "https://localhost:8080/",
          "height": 75
        },
        "id": "9gzFBifIfw5P",
        "outputId": "442912df-01fa-464c-a4d7-fa1e6f9b7fe2"
      },
      "execution_count": null,
      "outputs": [
        {
          "output_type": "execute_result",
          "data": {
            "text/plain": [
              "BayesianRidge(compute_score=True, n_iter=30)"
            ],
            "text/html": [
              "<style>#sk-container-id-2 {color: black;background-color: white;}#sk-container-id-2 pre{padding: 0;}#sk-container-id-2 div.sk-toggleable {background-color: white;}#sk-container-id-2 label.sk-toggleable__label {cursor: pointer;display: block;width: 100%;margin-bottom: 0;padding: 0.3em;box-sizing: border-box;text-align: center;}#sk-container-id-2 label.sk-toggleable__label-arrow:before {content: \"▸\";float: left;margin-right: 0.25em;color: #696969;}#sk-container-id-2 label.sk-toggleable__label-arrow:hover:before {color: black;}#sk-container-id-2 div.sk-estimator:hover label.sk-toggleable__label-arrow:before {color: black;}#sk-container-id-2 div.sk-toggleable__content {max-height: 0;max-width: 0;overflow: hidden;text-align: left;background-color: #f0f8ff;}#sk-container-id-2 div.sk-toggleable__content pre {margin: 0.2em;color: black;border-radius: 0.25em;background-color: #f0f8ff;}#sk-container-id-2 input.sk-toggleable__control:checked~div.sk-toggleable__content {max-height: 200px;max-width: 100%;overflow: auto;}#sk-container-id-2 input.sk-toggleable__control:checked~label.sk-toggleable__label-arrow:before {content: \"▾\";}#sk-container-id-2 div.sk-estimator input.sk-toggleable__control:checked~label.sk-toggleable__label {background-color: #d4ebff;}#sk-container-id-2 div.sk-label input.sk-toggleable__control:checked~label.sk-toggleable__label {background-color: #d4ebff;}#sk-container-id-2 input.sk-hidden--visually {border: 0;clip: rect(1px 1px 1px 1px);clip: rect(1px, 1px, 1px, 1px);height: 1px;margin: -1px;overflow: hidden;padding: 0;position: absolute;width: 1px;}#sk-container-id-2 div.sk-estimator {font-family: monospace;background-color: #f0f8ff;border: 1px dotted black;border-radius: 0.25em;box-sizing: border-box;margin-bottom: 0.5em;}#sk-container-id-2 div.sk-estimator:hover {background-color: #d4ebff;}#sk-container-id-2 div.sk-parallel-item::after {content: \"\";width: 100%;border-bottom: 1px solid gray;flex-grow: 1;}#sk-container-id-2 div.sk-label:hover label.sk-toggleable__label {background-color: #d4ebff;}#sk-container-id-2 div.sk-serial::before {content: \"\";position: absolute;border-left: 1px solid gray;box-sizing: border-box;top: 0;bottom: 0;left: 50%;z-index: 0;}#sk-container-id-2 div.sk-serial {display: flex;flex-direction: column;align-items: center;background-color: white;padding-right: 0.2em;padding-left: 0.2em;position: relative;}#sk-container-id-2 div.sk-item {position: relative;z-index: 1;}#sk-container-id-2 div.sk-parallel {display: flex;align-items: stretch;justify-content: center;background-color: white;position: relative;}#sk-container-id-2 div.sk-item::before, #sk-container-id-2 div.sk-parallel-item::before {content: \"\";position: absolute;border-left: 1px solid gray;box-sizing: border-box;top: 0;bottom: 0;left: 50%;z-index: -1;}#sk-container-id-2 div.sk-parallel-item {display: flex;flex-direction: column;z-index: 1;position: relative;background-color: white;}#sk-container-id-2 div.sk-parallel-item:first-child::after {align-self: flex-end;width: 50%;}#sk-container-id-2 div.sk-parallel-item:last-child::after {align-self: flex-start;width: 50%;}#sk-container-id-2 div.sk-parallel-item:only-child::after {width: 0;}#sk-container-id-2 div.sk-dashed-wrapped {border: 1px dashed gray;margin: 0 0.4em 0.5em 0.4em;box-sizing: border-box;padding-bottom: 0.4em;background-color: white;}#sk-container-id-2 div.sk-label label {font-family: monospace;font-weight: bold;display: inline-block;line-height: 1.2em;}#sk-container-id-2 div.sk-label-container {text-align: center;}#sk-container-id-2 div.sk-container {/* jupyter's `normalize.less` sets `[hidden] { display: none; }` but bootstrap.min.css set `[hidden] { display: none !important; }` so we also need the `!important` here to be able to override the default hidden behavior on the sphinx rendered scikit-learn.org. See: https://github.com/scikit-learn/scikit-learn/issues/21755 */display: inline-block !important;position: relative;}#sk-container-id-2 div.sk-text-repr-fallback {display: none;}</style><div id=\"sk-container-id-2\" class=\"sk-top-container\"><div class=\"sk-text-repr-fallback\"><pre>BayesianRidge(compute_score=True, n_iter=30)</pre><b>In a Jupyter environment, please rerun this cell to show the HTML representation or trust the notebook. <br />On GitHub, the HTML representation is unable to render, please try loading this page with nbviewer.org.</b></div><div class=\"sk-container\" hidden><div class=\"sk-item\"><div class=\"sk-estimator sk-toggleable\"><input class=\"sk-toggleable__control sk-hidden--visually\" id=\"sk-estimator-id-2\" type=\"checkbox\" checked><label for=\"sk-estimator-id-2\" class=\"sk-toggleable__label sk-toggleable__label-arrow\">BayesianRidge</label><div class=\"sk-toggleable__content\"><pre>BayesianRidge(compute_score=True, n_iter=30)</pre></div></div></div></div></div>"
            ]
          },
          "metadata": {},
          "execution_count": 154
        }
      ]
    },
    {
      "cell_type": "code",
      "source": [
        "y_pred=reg.predict(X_test)"
      ],
      "metadata": {
        "id": "t4AC33jKhG4h"
      },
      "execution_count": null,
      "outputs": []
    },
    {
      "cell_type": "code",
      "source": [
        "y_pred"
      ],
      "metadata": {
        "colab": {
          "base_uri": "https://localhost:8080/"
        },
        "id": "IyQSsH1ThN62",
        "outputId": "32fb2bcb-9579-4bca-83d6-3ad27162f7d4"
      },
      "execution_count": null,
      "outputs": [
        {
          "output_type": "execute_result",
          "data": {
            "text/plain": [
              "array([6503.83079272, 5581.58248077, 4659.33416883, ..., 3118.32706955,\n",
              "       2196.07875761, 1273.83044566])"
            ]
          },
          "metadata": {},
          "execution_count": 156
        }
      ]
    },
    {
      "cell_type": "code",
      "source": [
        "\n",
        "brr_scores = -np.array(reg.scores_)"
      ],
      "metadata": {
        "id": "pes-xUybkhOm"
      },
      "execution_count": null,
      "outputs": []
    },
    {
      "cell_type": "code",
      "source": [
        "import scipy.stats as stats\n",
        "\n",
        "# define the ranges\n",
        "ranges = [0.85, 0.9, 0.92, 0.95, 0.99]\n",
        "\n",
        "# calculate the mean and standard deviation of the predicted values\n",
        "y_mean, y_std = reg.predict(X_test, return_std=True)\n",
        "\n",
        "# calculate the probabilities for each range\n",
        "probs = [stats.norm.cdf((r - y_mean) / y_std) for r in ranges]\n"
      ],
      "metadata": {
        "id": "s2I5gV-vkr_2"
      },
      "execution_count": null,
      "outputs": []
    },
    {
      "cell_type": "code",
      "source": [
        "import scipy.stats as stats\n",
        "\n",
        "# calculate 95% confidence interval\n",
        "ci = stats.norm.interval(0.95, loc=y_pred, scale=y_std)\n"
      ],
      "metadata": {
        "id": "xIEqrvcmuAal"
      },
      "execution_count": null,
      "outputs": []
    },
    {
      "cell_type": "code",
      "source": [
        "ci"
      ],
      "metadata": {
        "colab": {
          "base_uri": "https://localhost:8080/"
        },
        "id": "-TUabxRzuC8H",
        "outputId": "a040dd8e-a54b-4d83-c1ec-06cda394a8f4"
      },
      "execution_count": null,
      "outputs": [
        {
          "output_type": "execute_result",
          "data": {
            "text/plain": [
              "(array([-1.67429083, -1.76506912, -1.85585007, ..., -2.00755874,\n",
              "        -2.09834481, -2.18913353]),\n",
              " array([2.15970419, 2.06891535, 1.97812915, ..., 1.82645293, 1.73567185,\n",
              "        1.64489343]))"
            ]
          },
          "metadata": {},
          "execution_count": 73
        }
      ]
    },
    {
      "cell_type": "code",
      "source": [
        "probs"
      ],
      "metadata": {
        "colab": {
          "base_uri": "https://localhost:8080/"
        },
        "id": "zqd4AsOgu3fX",
        "outputId": "490753d6-024f-4337-ee5c-9cc8a278f7d1"
      },
      "execution_count": null,
      "outputs": [
        {
          "output_type": "execute_result",
          "data": {
            "text/plain": [
              "[array([0.73266888, 0.76230142, 0.79003562, ..., 0.83188219, 0.85416068,\n",
              "        0.87436312]),\n",
              " array([0.74921627, 0.77781836, 0.80446146, ..., 0.84441025, 0.86554294,\n",
              "        0.88461569]),\n",
              " array([0.75568008, 0.78385948, 0.81005909, ..., 0.84924446, 0.86992038,\n",
              "        0.88854552]),\n",
              " array([0.76520496, 0.79274043, 0.81826861, ..., 0.85630635, 0.87629988,\n",
              "        0.89425915]),\n",
              " array([0.77757911, 0.80423981, 0.8288634 , ..., 0.86536972, 0.88446037,\n",
              "        0.9015437 ])]"
            ]
          },
          "metadata": {},
          "execution_count": 74
        }
      ]
    },
    {
      "cell_type": "code",
      "source": [
        "# Convert the variable proba to a pandas DataFrame\n",
        "df_proba = pd.DataFrame(probs).T\n"
      ],
      "metadata": {
        "id": "zJzaWHRfu71Y"
      },
      "execution_count": null,
      "outputs": []
    },
    {
      "cell_type": "markdown",
      "source": [
        "0.9, 0.92, 0.95, 0.99"
      ],
      "metadata": {
        "id": "yel08b-6tTZP"
      }
    },
    {
      "cell_type": "code",
      "source": [
        "df_proba=df_proba.rename(columns={0: \"q_0.85\", 1: \"q_0.9\",2:\"q_0.92\",3:\"q_0.95\",4:\"q_0.99\"})\n"
      ],
      "metadata": {
        "id": "KbzuxkHtmga2"
      },
      "execution_count": null,
      "outputs": []
    },
    {
      "cell_type": "code",
      "source": [
        "for i in [\"q_0.85\", \"q_0.9\", \"q_0.92\", \"q_0.95\", \"q_0.99\"]:\n",
        "  k=np.array(df_proba[i].values).reshape(-1, 1)\n",
        "  df_proba[i]=y_scaler.inverse_transform(k)"
      ],
      "metadata": {
        "id": "YCwF2sce3ktw"
      },
      "execution_count": null,
      "outputs": []
    },
    {
      "cell_type": "code",
      "source": [
        "df_proba[\"date_key\"]=df_pred[\"date_key\"]"
      ],
      "metadata": {
        "id": "2OTT8Usz3CKY"
      },
      "execution_count": null,
      "outputs": []
    },
    {
      "cell_type": "code",
      "source": [
        "results_naivebayes=df_pred[[\"productsGroup_key\",\"date_key\"]].join(df_proba,rsuffix=\"_\")\n",
        "results_naivebayes.pop(\"date_key_\")"
      ],
      "metadata": {
        "colab": {
          "base_uri": "https://localhost:8080/"
        },
        "id": "oklTHz5a61nk",
        "outputId": "c05fb792-3e6e-4011-a089-c60210c4f0ce"
      },
      "execution_count": null,
      "outputs": [
        {
          "output_type": "execute_result",
          "data": {
            "text/plain": [
              "0      2021-11-28\n",
              "1      2021-11-29\n",
              "2      2021-11-30\n",
              "3      2021-12-01\n",
              "4      2021-12-02\n",
              "          ...    \n",
              "8311   2021-12-21\n",
              "8312   2021-12-22\n",
              "8313   2021-12-23\n",
              "8314   2021-12-24\n",
              "8315   2021-12-25\n",
              "Name: date_key_, Length: 8316, dtype: datetime64[ns]"
            ]
          },
          "metadata": {},
          "execution_count": 192
        }
      ]
    },
    {
      "cell_type": "code",
      "source": [
        "results_naivebayes.to_csv('submission_uncertainty_distribution.csv', index=False)"
      ],
      "metadata": {
        "id": "8QHMI-qm7zwF"
      },
      "execution_count": null,
      "outputs": []
    },
    {
      "cell_type": "markdown",
      "source": [
        "#### Adding proba layer to our lstm"
      ],
      "metadata": {
        "id": "ZvEvn5TBHTig"
      }
    },
    {
      "cell_type": "code",
      "source": [
        "from keras.models import Sequential\n",
        "from keras.layers import LSTM\n",
        "from keras.layers import Dense\n",
        "from keras.layers import Dropout\n",
        "from keras import regularizers"
      ],
      "metadata": {
        "id": "xlFK7xIHH_u-"
      },
      "execution_count": null,
      "outputs": []
    },
    {
      "cell_type": "code",
      "source": [
        "\n",
        "def series_to_supervised(data, n_in=1, n_out=1, dropnan=True):\n",
        "    n_vars = 1 if type(data) is list else data.shape[1]\n",
        "    df = pd.DataFrame(data)\n",
        "    cols, names = list(), list()\n",
        "    # input sequence (t-n, ... t-1)\n",
        "    for i in range(n_in, 0, -1):\n",
        "        cols.append(df.shift(i))\n",
        "        names += [('var%d(t-%d)' % (j+1, i)) for j in range(n_vars)]\n",
        "    # forecast sequence (t, t+1, ... t+n)\n",
        "    for i in range(0, n_out):\n",
        "        cols.append(df.shift(-i))\n",
        "        if i == 0:\n",
        "            names += [('var%d(t)' % (j+1)) for j in range(n_vars)]\n",
        "        else:\n",
        "            names += [('var%d(t+%d)' % (j+1, i)) for j in range(n_vars)]\n",
        "    # put it all together\n",
        "    agg = pd.concat(cols, axis=1)\n",
        "    agg.columns = names\n",
        "    # drop rows with NaN values\n",
        "    if dropnan:\n",
        "        agg.dropna(inplace=True)\n",
        "    return agg\n",
        "\n",
        "train_ts = series_to_supervised(X_train, 7, 1)\n",
        "\n",
        "test_ts = series_to_supervised(X_test, 7, 1) "
      ],
      "metadata": {
        "id": "mn2_UHMgIIqe"
      },
      "execution_count": null,
      "outputs": []
    },
    {
      "cell_type": "code",
      "source": [
        "# split into input and outputs\n",
        "train_X, train_y = train_ts.values[:, :-1], train_ts.values[:, -1]\n",
        "test_X, test_y = test_ts.values[:, :-1], test_ts.values[:, -1]\n",
        "\n",
        "# reshape input to be 3D [samples, timesteps, features]\n",
        "train_X = train_X.reshape((train_X.shape[0], 1, train_X.shape[1]))\n",
        "test_X = test_X.reshape((test_X.shape[0], 1, test_X.shape[1]))\n",
        "print(train_X.shape, train_y.shape, test_X.shape, test_y.shape)"
      ],
      "metadata": {
        "colab": {
          "base_uri": "https://localhost:8080/"
        },
        "id": "asOx2h0FIJ19",
        "outputId": "3f6e5726-d103-46ce-c417-f4292e892d70"
      },
      "execution_count": null,
      "outputs": [
        {
          "output_type": "stream",
          "name": "stdout",
          "text": [
            "(180418, 1, 55) (180418,) (53453, 1, 55) (53453,)\n"
          ]
        }
      ]
    },
    {
      "cell_type": "code",
      "source": [
        " \n",
        "import tensorflow as tf\n",
        "import tensorflow_probability as tfp\n",
        "tfd = tfp.distributions"
      ],
      "metadata": {
        "id": "TajTOzplJw0A"
      },
      "execution_count": null,
      "outputs": []
    },
    {
      "cell_type": "code",
      "source": [
        "class RBFKernelFn(tf.keras.layers.Layer):\n",
        "  def __init__(self, **kwargs):\n",
        "    super(RBFKernelFn, self).__init__(**kwargs)\n",
        "    dtype = kwargs.get('dtype', None)\n",
        "\n",
        "    self._amplitude = self.add_variable(\n",
        "            initializer=tf.constant_initializer(0),\n",
        "            dtype=dtype,\n",
        "            name='amplitude')\n",
        "\n",
        "    self._length_scale = self.add_variable(\n",
        "            initializer=tf.constant_initializer(0),\n",
        "            dtype=dtype,\n",
        "            name='length_scale')\n",
        "\n",
        "  def call(self, x):\n",
        "    # Never called -- this is just a layer so it can hold variables\n",
        "    # in a way Keras understands.\n",
        "    return x\n",
        "\n",
        "  @property\n",
        "  def kernel(self):\n",
        "    return tfp.math.psd_kernels.ExponentiatedQuadratic(\n",
        "      amplitude=tf.nn.softplus(0.1 * self._amplitude),\n",
        "      length_scale=tf.nn.softplus(5. * self._length_scale)\n",
        "    )"
      ],
      "metadata": {
        "id": "y-dgsL6qK8Js"
      },
      "execution_count": null,
      "outputs": []
    },
    {
      "cell_type": "code",
      "source": [
        "loss = lambda y, rv_y: rv_y.variational_loss(\n",
        "    y, kl_weight=np.array(72, train_X.dtype) / train_X.shape[0])"
      ],
      "metadata": {
        "id": "bV9MZzJtLau3"
      },
      "execution_count": null,
      "outputs": []
    },
    {
      "cell_type": "code",
      "source": [
        "# design network\n",
        "model = Sequential()\n",
        "model.add(LSTM(50,return_sequences=True,  input_shape=(train_X.shape[1], train_X.shape[2])))\n",
        "\n",
        "model.add(Dense(25,activation='relu', activity_regularizer=regularizers.l2(1e-4)))\n",
        "model.add(Dropout(0.2))\n",
        "model.add(LSTM(50,return_sequences=False))\n",
        "model.add(Dense(1))\n",
        "model.add(tfp.layers.VariationalGaussianProcess( num_inducing_points=40,\n",
        "        kernel_provider=RBFKernelFn(),)) \n",
        "model.compile(optimizer=tf.optimizers.Adam(learning_rate=0.01), loss=loss) \n",
        "# fit network\n",
        "#epochs=1000\n",
        "history = model.fit(train_X, train_y, epochs=40, batch_size=72, validation_data=(test_X, test_y), verbose=True, shuffle=False)\n",
        "# plot history\n",
        "plt.plot(history.history['loss'], label='train')\n",
        "plt.plot(history.history['val_loss'], label='test')\n",
        "plt.legend()\n",
        "plt.show()"
      ],
      "metadata": {
        "colab": {
          "base_uri": "https://localhost:8080/",
          "height": 1000
        },
        "id": "RC2bAKhVu7j9",
        "outputId": "0dd6a1dc-c103-4330-92ad-5e71776fc1db"
      },
      "execution_count": null,
      "outputs": [
        {
          "output_type": "stream",
          "name": "stdout",
          "text": [
            "Epoch 1/40\n",
            "2506/2506 [==============================] - 50s 15ms/step - loss: nan - val_loss: nan\n",
            "Epoch 2/40\n",
            "2506/2506 [==============================] - 32s 13ms/step - loss: nan - val_loss: nan\n",
            "Epoch 3/40\n",
            "2506/2506 [==============================] - 36s 14ms/step - loss: nan - val_loss: nan\n",
            "Epoch 4/40\n",
            "2506/2506 [==============================] - 35s 14ms/step - loss: nan - val_loss: nan\n",
            "Epoch 5/40\n",
            "2506/2506 [==============================] - 35s 14ms/step - loss: nan - val_loss: nan\n",
            "Epoch 6/40\n",
            "2506/2506 [==============================] - 32s 13ms/step - loss: nan - val_loss: nan\n",
            "Epoch 7/40\n",
            "2506/2506 [==============================] - 37s 15ms/step - loss: nan - val_loss: nan\n",
            "Epoch 8/40\n",
            "2506/2506 [==============================] - 32s 13ms/step - loss: nan - val_loss: nan\n",
            "Epoch 9/40\n",
            "2506/2506 [==============================] - 32s 13ms/step - loss: nan - val_loss: nan\n",
            "Epoch 10/40\n",
            "2506/2506 [==============================] - 34s 14ms/step - loss: nan - val_loss: nan\n",
            "Epoch 11/40\n",
            "2506/2506 [==============================] - 33s 13ms/step - loss: nan - val_loss: nan\n",
            "Epoch 12/40\n",
            "2506/2506 [==============================] - 32s 13ms/step - loss: nan - val_loss: nan\n",
            "Epoch 13/40\n",
            "2506/2506 [==============================] - 32s 13ms/step - loss: nan - val_loss: nan\n",
            "Epoch 14/40\n",
            "2506/2506 [==============================] - 34s 13ms/step - loss: nan - val_loss: nan\n",
            "Epoch 15/40\n",
            "2506/2506 [==============================] - 32s 13ms/step - loss: nan - val_loss: nan\n",
            "Epoch 16/40\n",
            "2506/2506 [==============================] - 33s 13ms/step - loss: nan - val_loss: nan\n",
            "Epoch 17/40\n",
            "2506/2506 [==============================] - 33s 13ms/step - loss: nan - val_loss: nan\n",
            "Epoch 18/40\n",
            "2506/2506 [==============================] - 34s 14ms/step - loss: nan - val_loss: nan\n",
            "Epoch 19/40\n",
            "2506/2506 [==============================] - 32s 13ms/step - loss: nan - val_loss: nan\n",
            "Epoch 20/40\n",
            "2506/2506 [==============================] - 32s 13ms/step - loss: nan - val_loss: nan\n",
            "Epoch 21/40\n",
            "2506/2506 [==============================] - 35s 14ms/step - loss: nan - val_loss: nan\n",
            "Epoch 22/40\n",
            "2506/2506 [==============================] - 35s 14ms/step - loss: nan - val_loss: nan\n",
            "Epoch 23/40\n",
            "2506/2506 [==============================] - 32s 13ms/step - loss: nan - val_loss: nan\n",
            "Epoch 24/40\n",
            "2506/2506 [==============================] - 32s 13ms/step - loss: nan - val_loss: nan\n",
            "Epoch 25/40\n",
            "2506/2506 [==============================] - 35s 14ms/step - loss: nan - val_loss: nan\n",
            "Epoch 26/40\n",
            "2506/2506 [==============================] - 40s 16ms/step - loss: nan - val_loss: nan\n",
            "Epoch 27/40\n",
            "2506/2506 [==============================] - 32s 13ms/step - loss: nan - val_loss: nan\n",
            "Epoch 28/40\n",
            "2506/2506 [==============================] - 35s 14ms/step - loss: nan - val_loss: nan\n",
            "Epoch 29/40\n",
            "2506/2506 [==============================] - 33s 13ms/step - loss: nan - val_loss: nan\n",
            "Epoch 30/40\n",
            "2506/2506 [==============================] - 35s 14ms/step - loss: nan - val_loss: nan\n",
            "Epoch 31/40\n",
            "2506/2506 [==============================] - 32s 13ms/step - loss: nan - val_loss: nan\n",
            "Epoch 32/40\n",
            "2506/2506 [==============================] - 35s 14ms/step - loss: nan - val_loss: nan\n",
            "Epoch 33/40\n",
            "2506/2506 [==============================] - 36s 14ms/step - loss: nan - val_loss: nan\n",
            "Epoch 34/40\n",
            "2506/2506 [==============================] - 32s 13ms/step - loss: nan - val_loss: nan\n",
            "Epoch 35/40\n",
            "2506/2506 [==============================] - 32s 13ms/step - loss: nan - val_loss: nan\n",
            "Epoch 36/40\n",
            "2506/2506 [==============================] - 35s 14ms/step - loss: nan - val_loss: nan\n",
            "Epoch 37/40\n",
            "2506/2506 [==============================] - 33s 13ms/step - loss: nan - val_loss: nan\n",
            "Epoch 38/40\n",
            "2506/2506 [==============================] - 34s 13ms/step - loss: nan - val_loss: nan\n",
            "Epoch 39/40\n",
            "2506/2506 [==============================] - 36s 14ms/step - loss: nan - val_loss: nan\n",
            "Epoch 40/40\n",
            "2506/2506 [==============================] - 33s 13ms/step - loss: nan - val_loss: nan\n"
          ]
        },
        {
          "output_type": "display_data",
          "data": {
            "text/plain": [
              "<Figure size 640x480 with 1 Axes>"
            ],
            "image/png": "[encoded data removed]"
          },
          "metadata": {}
        }
      ]
    },
    {
      "cell_type": "code",
      "source": [
        "y_pred=model.predict(test_X)"
      ],
      "metadata": {
        "colab": {
          "base_uri": "https://localhost:8080/"
        },
        "id": "zlwbiaUFu7ge",
        "outputId": "03ee4d3c-20c1-4ff0-f89a-4ea63288ad07"
      },
      "execution_count": null,
      "outputs": [
        {
          "output_type": "stream",
          "name": "stdout",
          "text": [
            "1671/1671 [==============================] - 11s 3ms/step\n"
          ]
        }
      ]
    },
    {
      "cell_type": "code",
      "source": [
        "y_pred"
      ],
      "metadata": {
        "colab": {
          "base_uri": "https://localhost:8080/"
        },
        "id": "HgtkADFEu7dM",
        "outputId": "b8c52869-2fcd-4e4b-c085-08493f8fefd0"
      },
      "execution_count": null,
      "outputs": [
        {
          "output_type": "execute_result",
          "data": {
            "text/plain": [
              "array([[nan],\n",
              "       [nan],\n",
              "       [nan],\n",
              "       ...,\n",
              "       [nan],\n",
              "       [nan],\n",
              "       [nan]], dtype=float32)"
            ]
          },
          "metadata": {},
          "execution_count": 65
        }
      ]
    },
    {
      "cell_type": "code",
      "source": [],
      "metadata": {
        "id": "PStyEgEbZYqv"
      },
      "execution_count": null,
      "outputs": []
    },
    {
      "cell_type": "code",
      "source": [],
      "metadata": {
        "id": "38vWPvACZYny"
      },
      "execution_count": null,
      "outputs": []
    },
    {
      "cell_type": "code",
      "source": [],
      "metadata": {
        "id": "CJvTeRKIZYkf"
      },
      "execution_count": null,
      "outputs": []
    },
    {
      "cell_type": "markdown",
      "source": [
        "#### Vanilla ANN with bayesian layers"
      ],
      "metadata": {
        "id": "8n2r41bCaOf6"
      }
    },
    {
      "cell_type": "markdown",
      "source": [
        "##### First architecture"
      ],
      "metadata": {
        "id": "gft9ecg4TPoE"
      }
    },
    {
      "cell_type": "markdown",
      "source": [
        "First architecture had poor performance (loss)"
      ],
      "metadata": {
        "id": "JRXW4mmuTBNi"
      }
    },
    {
      "cell_type": "code",
      "source": [
        "\n",
        "def prior(kernel_size, bias_size, dtype=None):\n",
        "    n = kernel_size + bias_size\n",
        "    prior_model = keras.Sequential(\n",
        "        [\n",
        "            tfp.layers.DistributionLambda(\n",
        "                lambda t: tfp.distributions.MultivariateNormalDiag(\n",
        "                    loc=tf.zeros(n), scale_diag=tf.ones(n)\n",
        "                )\n",
        "            )\n",
        "        ]\n",
        "    )\n",
        "    return prior_model\n",
        "\n",
        " \n",
        "def posterior(kernel_size, bias_size, dtype=None):\n",
        "    n = kernel_size + bias_size\n",
        "    posterior_model = keras.Sequential(\n",
        "        [\n",
        "            tfp.layers.VariableLayer(\n",
        "                tfp.layers.MultivariateNormalTriL.params_size(n), dtype=dtype\n",
        "            ),\n",
        "            tfp.layers.MultivariateNormalTriL(n),\n",
        "        ]\n",
        "    )\n",
        "    return posterior_model"
      ],
      "metadata": {
        "id": "q8dCN9hgu7ah"
      },
      "execution_count": 36,
      "outputs": []
    },
    {
      "cell_type": "code",
      "source": [
        "def negative_loglikelihood(targets, estimated_distribution):\n",
        "    return -estimated_distribution.log_prob(targets)"
      ],
      "metadata": {
        "id": "qSPVuV0piLDx"
      },
      "execution_count": 37,
      "outputs": []
    },
    {
      "cell_type": "code",
      "source": [
        "import keras\n",
        "import tensorflow as tf\n",
        "import tensorflow_probability as tfp\n",
        "import pandas as pd\n",
        "import numpy as np\n",
        "\n",
        " \n",
        "# Convert the data to a TensorFlow dataset\n",
        "dataset = tf.data.Dataset.from_tensor_slices((\n",
        "    X_train[[\"productsGroup_key\", \"year\", \"month\", \"day_of_week\", \"day\", \"quarter\", \"weekofyear\"]].values, \n",
        "    y_train.values))\n",
        "\n",
        "# Define the number of features and the number of product groups\n",
        "num_features = 7  # productsGroup_key, year, month, day_of_week, day, quarter, weekofyear\n",
        " \n",
        "# Define the model using Keras functional API\n",
        "input_layer = tf.keras.Input(shape=(num_features,))\n",
        "\n",
        "hidden_layer = tfp.layers.DenseVariational(64,make_prior_fn=prior,\n",
        "            make_posterior_fn=posterior,\n",
        "            kl_weight=1 / X_train.shape[1], activation=\"softmax\")(input_layer)\n",
        "hidden_layer = tfp.layers.DenseVariational(64, make_prior_fn=prior,\n",
        "            make_posterior_fn=posterior,\n",
        "            kl_weight=1 / X_train.shape[1],activation=\"softmax\")(hidden_layer)\n",
        "\n",
        "distribution_params = tf.keras.layers.Dense(units=2)(hidden_layer)\n",
        "output_layer = tfp.layers.IndependentNormal(1)(distribution_params)\n",
        "#output_layer = tfp.layers.DenseFlipout(1)(hidden_layer)\n",
        "\n",
        "#output_layer = tf.keras.layers.Dense(1)(hidden_layer)\n",
        "model = tf.keras.Model(inputs=input_layer, outputs=output_layer)\n",
        "\n",
        "\n",
        "\n",
        "# Define the loss function as the negative log likelihood\n",
        "negloglik = lambda y, rv_y: -tf.reduce_mean(rv_y.log_prob(y))\n",
        "\n",
        "# Define the optimizer and compile the model\n",
        "optimizer = tf.keras.optimizers.Adam(learning_rate=0.001)\n",
        "model.compile(optimizer=optimizer, loss=\"negative_loglikelihood\")\n",
        "\n",
        "# Train the model\n",
        "history = model.fit(dataset.batch(128), epochs=2, verbose=1)\n"
      ],
      "metadata": {
        "id": "8BbCdQtJu7Xd"
      },
      "execution_count": null,
      "outputs": []
    },
    {
      "cell_type": "markdown",
      "source": [
        "##### Second Architecture (the selected model)"
      ],
      "metadata": {
        "id": "cBoo4HVCTWy-"
      }
    },
    {
      "cell_type": "code",
      "source": [
        "import keras\n",
        "def posterior(kernel_size, bias_size, dtype=None):\n",
        "    n = kernel_size + bias_size\n",
        "    posterior_model = keras.Sequential(\n",
        "        [\n",
        "            tfp.layers.VariableLayer(\n",
        "                tfp.layers.MultivariateNormalTriL.params_size(n), dtype=dtype\n",
        "            ),\n",
        "            tfp.layers.MultivariateNormalTriL(n),\n",
        "        ]\n",
        "    )\n",
        "    return posterior_model\n",
        "\n",
        "    \n",
        "import tensorflow as tf\n",
        "import tensorflow_probability as tfp\n",
        "import pandas as pd\n",
        "import numpy as np\n",
        "\n",
        " \n",
        "# Convert the data to a TensorFlow dataset\n",
        "dataset = tf.data.Dataset.from_tensor_slices((\n",
        "    X_train[[\"productsGroup_key\", \"year\", \"month\", \"day_of_week\", \"day\", \"quarter\", \"weekofyear\"]].values, \n",
        "    y_train.values))\n",
        "\n",
        "# Define the number of features and the number of product groups\n",
        "num_features = 7  # productsGroup_key, year, month, day_of_week, day, quarter, weekofyear\n",
        "num_groups = y_train.nunique()\n",
        "print(num_groups)\n",
        "# Define the model using Keras functional API\n",
        "input_layer = tf.keras.Input(shape=(num_features,))\n",
        "hidden_layer = tfp.layers.DenseFlipout(64, activation=\"relu\")(input_layer)\n",
        "hidden_layer = tfp.layers.DenseFlipout(64, activation=\"relu\")(hidden_layer)\n",
        "#output_layer = tfp.layers.DenseFlipout(1)(hidden_layer)\n",
        "distribution_params = keras.layers.Dense(units=2)(hidden_layer)\n",
        "output_layer = tfp.layers.IndependentNormal(1)(distribution_params)\n",
        "model = tf.keras.Model(inputs=input_layer, outputs=output_layer)\n",
        "\n",
        "# Define the loss function as the negative log likelihood\n",
        "negloglik = lambda y, rv_y: -rv_y.log_prob(y)\n",
        "\n",
        "# Define the prior over the weights\n",
        "prior = tfp.distributions.Normal(loc=0., scale=1.)\n",
        "\n",
        "# Define the posterior over the weights using the variational inference\n",
        "posteriors =  posterior\n",
        "\n",
        "# Define the loss function as the negative log likelihood\n",
        "negloglik = lambda y, rv_y: -tf.reduce_mean(rv_y.log_prob(y))\n",
        "\n",
        "# Define the optimizer and compile the model\n",
        "optimizer = tf.keras.optimizers.Adam(learning_rate=0.01)\n",
        "model.compile(optimizer=optimizer, loss=\"mse\")\n",
        "#model.compile(optimizer=optimizer, loss=negative_loglikelihood)\n",
        "\n",
        "# Train the model\n",
        "history = model.fit(dataset.batch(128), epochs=40, verbose=2)"
      ],
      "metadata": {
        "colab": {
          "base_uri": "https://localhost:8080/"
        },
        "id": "GcWkx7PDLker",
        "outputId": "c5629aba-82f9-43da-8205-1ba0b9945f25"
      },
      "execution_count": 39,
      "outputs": [
        {
          "output_type": "stream",
          "name": "stdout",
          "text": [
            "17168\n",
            "Epoch 1/40\n",
            "1479/1479 - 8s - loss: 1175.6938 - 8s/epoch - 6ms/step\n",
            "Epoch 2/40\n",
            "1479/1479 - 5s - loss: 1.1694 - 5s/epoch - 3ms/step\n",
            "Epoch 3/40\n",
            "1479/1479 - 5s - loss: 1.0582 - 5s/epoch - 3ms/step\n",
            "Epoch 4/40\n",
            "1479/1479 - 6s - loss: 1.0360 - 6s/epoch - 4ms/step\n",
            "Epoch 5/40\n",
            "1479/1479 - 6s - loss: 1.0119 - 6s/epoch - 4ms/step\n",
            "Epoch 6/40\n",
            "1479/1479 - 5s - loss: 1.0045 - 5s/epoch - 3ms/step\n",
            "Epoch 7/40\n",
            "1479/1479 - 6s - loss: 1.0075 - 6s/epoch - 4ms/step\n",
            "Epoch 8/40\n",
            "1479/1479 - 5s - loss: 1.0071 - 5s/epoch - 3ms/step\n",
            "Epoch 9/40\n",
            "1479/1479 - 7s - loss: 1.0035 - 7s/epoch - 4ms/step\n",
            "Epoch 10/40\n",
            "1479/1479 - 5s - loss: 1.0024 - 5s/epoch - 3ms/step\n",
            "Epoch 11/40\n",
            "1479/1479 - 6s - loss: 1.0020 - 6s/epoch - 4ms/step\n",
            "Epoch 12/40\n",
            "1479/1479 - 5s - loss: 1.0067 - 5s/epoch - 3ms/step\n",
            "Epoch 13/40\n",
            "1479/1479 - 6s - loss: 1.0039 - 6s/epoch - 4ms/step\n",
            "Epoch 14/40\n",
            "1479/1479 - 5s - loss: 1.0027 - 5s/epoch - 3ms/step\n",
            "Epoch 15/40\n",
            "1479/1479 - 6s - loss: 1.0006 - 6s/epoch - 4ms/step\n",
            "Epoch 16/40\n",
            "1479/1479 - 5s - loss: 1.0007 - 5s/epoch - 3ms/step\n",
            "Epoch 17/40\n",
            "1479/1479 - 5s - loss: 0.9999 - 5s/epoch - 3ms/step\n",
            "Epoch 18/40\n",
            "1479/1479 - 6s - loss: 1.0037 - 6s/epoch - 4ms/step\n",
            "Epoch 19/40\n",
            "1479/1479 - 5s - loss: 1.0012 - 5s/epoch - 3ms/step\n",
            "Epoch 20/40\n",
            "1479/1479 - 6s - loss: 0.9995 - 6s/epoch - 4ms/step\n",
            "Epoch 21/40\n",
            "1479/1479 - 5s - loss: 0.9993 - 5s/epoch - 3ms/step\n",
            "Epoch 22/40\n",
            "1479/1479 - 6s - loss: 1.0008 - 6s/epoch - 4ms/step\n",
            "Epoch 23/40\n",
            "1479/1479 - 5s - loss: 1.0000 - 5s/epoch - 3ms/step\n",
            "Epoch 24/40\n",
            "1479/1479 - 6s - loss: 0.9994 - 6s/epoch - 4ms/step\n",
            "Epoch 25/40\n",
            "1479/1479 - 5s - loss: 0.9995 - 5s/epoch - 3ms/step\n",
            "Epoch 26/40\n",
            "1479/1479 - 6s - loss: 0.9992 - 6s/epoch - 4ms/step\n",
            "Epoch 27/40\n",
            "1479/1479 - 5s - loss: 1.0001 - 5s/epoch - 4ms/step\n",
            "Epoch 28/40\n",
            "1479/1479 - 6s - loss: 0.9994 - 6s/epoch - 4ms/step\n",
            "Epoch 29/40\n",
            "1479/1479 - 5s - loss: 0.9995 - 5s/epoch - 3ms/step\n",
            "Epoch 30/40\n",
            "1479/1479 - 5s - loss: 0.9990 - 5s/epoch - 3ms/step\n",
            "Epoch 31/40\n",
            "1479/1479 - 6s - loss: 0.9995 - 6s/epoch - 4ms/step\n",
            "Epoch 32/40\n",
            "1479/1479 - 5s - loss: 0.9992 - 5s/epoch - 3ms/step\n",
            "Epoch 33/40\n",
            "1479/1479 - 5s - loss: 0.9991 - 5s/epoch - 4ms/step\n",
            "Epoch 34/40\n",
            "1479/1479 - 6s - loss: 1.0006 - 6s/epoch - 4ms/step\n",
            "Epoch 35/40\n",
            "1479/1479 - 5s - loss: 0.9991 - 5s/epoch - 3ms/step\n",
            "Epoch 36/40\n",
            "1479/1479 - 6s - loss: 0.9991 - 6s/epoch - 4ms/step\n",
            "Epoch 37/40\n",
            "1479/1479 - 5s - loss: 0.9995 - 5s/epoch - 3ms/step\n",
            "Epoch 38/40\n",
            "1479/1479 - 5s - loss: 0.9990 - 5s/epoch - 3ms/step\n",
            "Epoch 39/40\n",
            "1479/1479 - 7s - loss: 0.9994 - 7s/epoch - 5ms/step\n",
            "Epoch 40/40\n",
            "1479/1479 - 5s - loss: 0.9991 - 5s/epoch - 4ms/step\n"
          ]
        }
      ]
    },
    {
      "cell_type": "code",
      "source": [
        "# Convert the data to a TensorFlow dataset\n",
        "dataset_test = tf.data.Dataset.from_tensor_slices((\n",
        "    X_test[[\"productsGroup_key\", \"year\", \"month\", \"day_of_week\", \"day\", \"quarter\", \"weekofyear\"]].values, \n",
        "    y_test.values))"
      ],
      "metadata": {
        "id": "UiDGr833Sbc7"
      },
      "execution_count": 40,
      "outputs": []
    },
    {
      "cell_type": "code",
      "source": [
        "import tensorflow_probability as tfp\n",
        "\n",
        "# Define the number of Monte Carlo samples\n",
        "num_samples = 100\n",
        "\n",
        "# Create a function to generate predictions using Monte Carlo sampling\n",
        "def predict_mc(model, dataset, num_samples):\n",
        "    predicted_y = []\n",
        "    for i, (x, y) in enumerate(dataset):\n",
        "        print(f\"Processing batch {i+1}\")\n",
        "        for j in range(num_samples):\n",
        "            y_pred = model(x)\n",
        "            predicted_y.append(y_pred)\n",
        "    #predicted_y = np.concatenate(predicted_y)\n",
        "    return predicted_y\n",
        "\n",
        "# Generate predictions using Monte Carlo sampling\n",
        "predicted_y = predict_mc(model, dataset_test.batch(128), num_samples)\n",
        "\n",
        "# mean and standard deviation  \n",
        "mean_predicted_y = np.mean(predicted_y, axis=0)\n",
        "std_predicted_y = np.std(predicted_y, axis=0)\n",
        "\n",
        "# Calculate the probability distribution of the uncertainty of the predictions using Monte Carlo sampling\n",
        "uncertainty_distribution = tfp.distributions.Normal(loc=mean_predicted_y, scale=std_predicted_y)\n",
        "\n",
        "# Calculate the percentiles of the uncertainty distribution\n",
        "percentiles = uncertainty_distribution.percentile([0.85, 0.9, 0.92, 0.95, 0.99])\n",
        "\n",
        "# Plot the percentiles\n",
        "import matplotlib.pyplot as plt\n",
        "fig, ax = plt.subplots()\n",
        "for p in percentiles:\n",
        "    ax.axvline(p, color='k', linestyle='--')\n",
        "plt.show()\n"
      ],
      "metadata": {
        "colab": {
          "base_uri": "https://localhost:8080/",
          "height": 657
        },
        "id": "3Ll1Lw8NWz0P",
        "outputId": "d2fa52bf-a804-44d6-d45f-6056ed6ad841"
      },
      "execution_count": 42,
      "outputs": [
        {
          "output_type": "stream",
          "name": "stdout",
          "text": [
            "Processing batch 1\n",
            "Processing batch 2\n",
            "Processing batch 3\n",
            "Processing batch 4\n",
            "Processing batch 5\n",
            "Processing batch 6\n",
            "Processing batch 7\n",
            "Processing batch 8\n",
            "Processing batch 9\n",
            "Processing batch 10\n",
            "Processing batch 11\n",
            "Processing batch 12\n"
          ]
        },
        {
          "output_type": "error",
          "ename": "KeyboardInterrupt",
          "evalue": "ignored",
          "traceback": [
            "\u001b[0;31m---------------------------------------------------------------------------\u001b[0m",
            "\u001b[0;31mKeyboardInterrupt\u001b[0m                         Traceback (most recent call last)",
            "    \u001b[0;31m[... skipping hidden 1 frame]\u001b[0m\n",
            "\u001b[0;32m<ipython-input-42-f4c921f8ec83>\u001b[0m in \u001b[0;36m<cell line: 18>\u001b[0;34m()\u001b[0m\n\u001b[1;32m     17\u001b[0m \u001b[0;31m# Generate predictions using Monte Carlo sampling\u001b[0m\u001b[0;34m\u001b[0m\u001b[0;34m\u001b[0m\u001b[0m\n\u001b[0;32m---> 18\u001b[0;31m \u001b[0mpredicted_y\u001b[0m \u001b[0;34m=\u001b[0m \u001b[0mpredict_mc\u001b[0m\u001b[0;34m(\u001b[0m\u001b[0mmodel\u001b[0m\u001b[0;34m,\u001b[0m \u001b[0mdataset_test\u001b[0m\u001b[0;34m.\u001b[0m\u001b[0mbatch\u001b[0m\u001b[0;34m(\u001b[0m\u001b[0;36m128\u001b[0m\u001b[0;34m)\u001b[0m\u001b[0;34m,\u001b[0m \u001b[0mnum_samples\u001b[0m\u001b[0;34m)\u001b[0m\u001b[0;34m\u001b[0m\u001b[0;34m\u001b[0m\u001b[0m\n\u001b[0m\u001b[1;32m     19\u001b[0m \u001b[0;34m\u001b[0m\u001b[0m\n",
            "\u001b[0;32m<ipython-input-42-f4c921f8ec83>\u001b[0m in \u001b[0;36mpredict_mc\u001b[0;34m(model, dataset, num_samples)\u001b[0m\n\u001b[1;32m     11\u001b[0m         \u001b[0;32mfor\u001b[0m \u001b[0mj\u001b[0m \u001b[0;32min\u001b[0m \u001b[0mrange\u001b[0m\u001b[0;34m(\u001b[0m\u001b[0mnum_samples\u001b[0m\u001b[0;34m)\u001b[0m\u001b[0;34m:\u001b[0m\u001b[0;34m\u001b[0m\u001b[0;34m\u001b[0m\u001b[0m\n\u001b[0;32m---> 12\u001b[0;31m             \u001b[0my_pred\u001b[0m \u001b[0;34m=\u001b[0m \u001b[0mmodel\u001b[0m\u001b[0;34m(\u001b[0m\u001b[0mx\u001b[0m\u001b[0;34m)\u001b[0m\u001b[0;34m\u001b[0m\u001b[0;34m\u001b[0m\u001b[0m\n\u001b[0m\u001b[1;32m     13\u001b[0m             \u001b[0mpredicted_y\u001b[0m\u001b[0;34m.\u001b[0m\u001b[0mappend\u001b[0m\u001b[0;34m(\u001b[0m\u001b[0my_pred\u001b[0m\u001b[0;34m)\u001b[0m\u001b[0;34m\u001b[0m\u001b[0;34m\u001b[0m\u001b[0m\n",
            "\u001b[0;32m/usr/local/lib/python3.9/dist-packages/keras/utils/traceback_utils.py\u001b[0m in \u001b[0;36merror_handler\u001b[0;34m(*args, **kwargs)\u001b[0m\n\u001b[1;32m     64\u001b[0m         \u001b[0;32mtry\u001b[0m\u001b[0;34m:\u001b[0m\u001b[0;34m\u001b[0m\u001b[0;34m\u001b[0m\u001b[0m\n\u001b[0;32m---> 65\u001b[0;31m             \u001b[0;32mreturn\u001b[0m \u001b[0mfn\u001b[0m\u001b[0;34m(\u001b[0m\u001b[0;34m*\u001b[0m\u001b[0margs\u001b[0m\u001b[0;34m,\u001b[0m \u001b[0;34m**\u001b[0m\u001b[0mkwargs\u001b[0m\u001b[0;34m)\u001b[0m\u001b[0;34m\u001b[0m\u001b[0;34m\u001b[0m\u001b[0m\n\u001b[0m\u001b[1;32m     66\u001b[0m         \u001b[0;32mexcept\u001b[0m \u001b[0mException\u001b[0m \u001b[0;32mas\u001b[0m \u001b[0me\u001b[0m\u001b[0;34m:\u001b[0m\u001b[0;34m\u001b[0m\u001b[0;34m\u001b[0m\u001b[0m\n",
            "\u001b[0;32m/usr/local/lib/python3.9/dist-packages/keras/engine/training.py\u001b[0m in \u001b[0;36m__call__\u001b[0;34m(self, *args, **kwargs)\u001b[0m\n\u001b[1;32m    557\u001b[0m \u001b[0;34m\u001b[0m\u001b[0m\n\u001b[0;32m--> 558\u001b[0;31m         \u001b[0;32mreturn\u001b[0m \u001b[0msuper\u001b[0m\u001b[0;34m(\u001b[0m\u001b[0;34m)\u001b[0m\u001b[0;34m.\u001b[0m\u001b[0m__call__\u001b[0m\u001b[0;34m(\u001b[0m\u001b[0;34m*\u001b[0m\u001b[0margs\u001b[0m\u001b[0;34m,\u001b[0m \u001b[0;34m**\u001b[0m\u001b[0mkwargs\u001b[0m\u001b[0;34m)\u001b[0m\u001b[0;34m\u001b[0m\u001b[0;34m\u001b[0m\u001b[0m\n\u001b[0m\u001b[1;32m    559\u001b[0m \u001b[0;34m\u001b[0m\u001b[0m\n",
            "\u001b[0;32m/usr/local/lib/python3.9/dist-packages/keras/utils/traceback_utils.py\u001b[0m in \u001b[0;36merror_handler\u001b[0;34m(*args, **kwargs)\u001b[0m\n\u001b[1;32m     64\u001b[0m         \u001b[0;32mtry\u001b[0m\u001b[0;34m:\u001b[0m\u001b[0;34m\u001b[0m\u001b[0;34m\u001b[0m\u001b[0m\n\u001b[0;32m---> 65\u001b[0;31m             \u001b[0;32mreturn\u001b[0m \u001b[0mfn\u001b[0m\u001b[0;34m(\u001b[0m\u001b[0;34m*\u001b[0m\u001b[0margs\u001b[0m\u001b[0;34m,\u001b[0m \u001b[0;34m**\u001b[0m\u001b[0mkwargs\u001b[0m\u001b[0;34m)\u001b[0m\u001b[0;34m\u001b[0m\u001b[0;34m\u001b[0m\u001b[0m\n\u001b[0m\u001b[1;32m     66\u001b[0m         \u001b[0;32mexcept\u001b[0m \u001b[0mException\u001b[0m \u001b[0;32mas\u001b[0m \u001b[0me\u001b[0m\u001b[0;34m:\u001b[0m\u001b[0;34m\u001b[0m\u001b[0;34m\u001b[0m\u001b[0m\n",
            "\u001b[0;32m/usr/local/lib/python3.9/dist-packages/keras/engine/base_layer.py\u001b[0m in \u001b[0;36m__call__\u001b[0;34m(self, *args, **kwargs)\u001b[0m\n\u001b[1;32m   1144\u001b[0m                 ):\n\u001b[0;32m-> 1145\u001b[0;31m                     \u001b[0moutputs\u001b[0m \u001b[0;34m=\u001b[0m \u001b[0mcall_fn\u001b[0m\u001b[0;34m(\u001b[0m\u001b[0minputs\u001b[0m\u001b[0;34m,\u001b[0m \u001b[0;34m*\u001b[0m\u001b[0margs\u001b[0m\u001b[0;34m,\u001b[0m \u001b[0;34m**\u001b[0m\u001b[0mkwargs\u001b[0m\u001b[0;34m)\u001b[0m\u001b[0;34m\u001b[0m\u001b[0;34m\u001b[0m\u001b[0m\n\u001b[0m\u001b[1;32m   1146\u001b[0m \u001b[0;34m\u001b[0m\u001b[0m\n",
            "\u001b[0;32m/usr/local/lib/python3.9/dist-packages/keras/utils/traceback_utils.py\u001b[0m in \u001b[0;36merror_handler\u001b[0;34m(*args, **kwargs)\u001b[0m\n\u001b[1;32m     95\u001b[0m         \u001b[0;32mtry\u001b[0m\u001b[0;34m:\u001b[0m\u001b[0;34m\u001b[0m\u001b[0;34m\u001b[0m\u001b[0m\n\u001b[0;32m---> 96\u001b[0;31m             \u001b[0;32mreturn\u001b[0m \u001b[0mfn\u001b[0m\u001b[0;34m(\u001b[0m\u001b[0;34m*\u001b[0m\u001b[0margs\u001b[0m\u001b[0;34m,\u001b[0m \u001b[0;34m**\u001b[0m\u001b[0mkwargs\u001b[0m\u001b[0;34m)\u001b[0m\u001b[0;34m\u001b[0m\u001b[0;34m\u001b[0m\u001b[0m\n\u001b[0m\u001b[1;32m     97\u001b[0m         \u001b[0;32mexcept\u001b[0m \u001b[0mException\u001b[0m \u001b[0;32mas\u001b[0m \u001b[0me\u001b[0m\u001b[0;34m:\u001b[0m\u001b[0;34m\u001b[0m\u001b[0;34m\u001b[0m\u001b[0m\n",
            "\u001b[0;32m/usr/local/lib/python3.9/dist-packages/keras/engine/functional.py\u001b[0m in \u001b[0;36mcall\u001b[0;34m(self, inputs, training, mask)\u001b[0m\n\u001b[1;32m    511\u001b[0m         \"\"\"\n\u001b[0;32m--> 512\u001b[0;31m         \u001b[0;32mreturn\u001b[0m \u001b[0mself\u001b[0m\u001b[0;34m.\u001b[0m\u001b[0m_run_internal_graph\u001b[0m\u001b[0;34m(\u001b[0m\u001b[0minputs\u001b[0m\u001b[0;34m,\u001b[0m \u001b[0mtraining\u001b[0m\u001b[0;34m=\u001b[0m\u001b[0mtraining\u001b[0m\u001b[0;34m,\u001b[0m \u001b[0mmask\u001b[0m\u001b[0;34m=\u001b[0m\u001b[0mmask\u001b[0m\u001b[0;34m)\u001b[0m\u001b[0;34m\u001b[0m\u001b[0;34m\u001b[0m\u001b[0m\n\u001b[0m\u001b[1;32m    513\u001b[0m \u001b[0;34m\u001b[0m\u001b[0m\n",
            "\u001b[0;32m/usr/local/lib/python3.9/dist-packages/keras/engine/functional.py\u001b[0m in \u001b[0;36m_run_internal_graph\u001b[0;34m(self, inputs, training, mask)\u001b[0m\n\u001b[1;32m    668\u001b[0m                 \u001b[0margs\u001b[0m\u001b[0;34m,\u001b[0m \u001b[0mkwargs\u001b[0m \u001b[0;34m=\u001b[0m \u001b[0mnode\u001b[0m\u001b[0;34m.\u001b[0m\u001b[0mmap_arguments\u001b[0m\u001b[0;34m(\u001b[0m\u001b[0mtensor_dict\u001b[0m\u001b[0;34m)\u001b[0m\u001b[0;34m\u001b[0m\u001b[0;34m\u001b[0m\u001b[0m\n\u001b[0;32m--> 669\u001b[0;31m                 \u001b[0moutputs\u001b[0m \u001b[0;34m=\u001b[0m \u001b[0mnode\u001b[0m\u001b[0;34m.\u001b[0m\u001b[0mlayer\u001b[0m\u001b[0;34m(\u001b[0m\u001b[0;34m*\u001b[0m\u001b[0margs\u001b[0m\u001b[0;34m,\u001b[0m \u001b[0;34m**\u001b[0m\u001b[0mkwargs\u001b[0m\u001b[0;34m)\u001b[0m\u001b[0;34m\u001b[0m\u001b[0;34m\u001b[0m\u001b[0m\n\u001b[0m\u001b[1;32m    670\u001b[0m \u001b[0;34m\u001b[0m\u001b[0m\n",
            "\u001b[0;32m/usr/local/lib/python3.9/dist-packages/keras/utils/traceback_utils.py\u001b[0m in \u001b[0;36merror_handler\u001b[0;34m(*args, **kwargs)\u001b[0m\n\u001b[1;32m     64\u001b[0m         \u001b[0;32mtry\u001b[0m\u001b[0;34m:\u001b[0m\u001b[0;34m\u001b[0m\u001b[0;34m\u001b[0m\u001b[0m\n\u001b[0;32m---> 65\u001b[0;31m             \u001b[0;32mreturn\u001b[0m \u001b[0mfn\u001b[0m\u001b[0;34m(\u001b[0m\u001b[0;34m*\u001b[0m\u001b[0margs\u001b[0m\u001b[0;34m,\u001b[0m \u001b[0;34m**\u001b[0m\u001b[0mkwargs\u001b[0m\u001b[0;34m)\u001b[0m\u001b[0;34m\u001b[0m\u001b[0;34m\u001b[0m\u001b[0m\n\u001b[0m\u001b[1;32m     66\u001b[0m         \u001b[0;32mexcept\u001b[0m \u001b[0mException\u001b[0m \u001b[0;32mas\u001b[0m \u001b[0me\u001b[0m\u001b[0;34m:\u001b[0m\u001b[0;34m\u001b[0m\u001b[0;34m\u001b[0m\u001b[0m\n",
            "\u001b[0;32m/usr/local/lib/python3.9/dist-packages/keras/engine/base_layer.py\u001b[0m in \u001b[0;36m__call__\u001b[0;34m(self, *args, **kwargs)\u001b[0m\n\u001b[1;32m   1144\u001b[0m                 ):\n\u001b[0;32m-> 1145\u001b[0;31m                     \u001b[0moutputs\u001b[0m \u001b[0;34m=\u001b[0m \u001b[0mcall_fn\u001b[0m\u001b[0;34m(\u001b[0m\u001b[0minputs\u001b[0m\u001b[0;34m,\u001b[0m \u001b[0;34m*\u001b[0m\u001b[0margs\u001b[0m\u001b[0;34m,\u001b[0m \u001b[0;34m**\u001b[0m\u001b[0mkwargs\u001b[0m\u001b[0;34m)\u001b[0m\u001b[0;34m\u001b[0m\u001b[0;34m\u001b[0m\u001b[0m\n\u001b[0m\u001b[1;32m   1146\u001b[0m \u001b[0;34m\u001b[0m\u001b[0m\n",
            "\u001b[0;32m/usr/local/lib/python3.9/dist-packages/keras/utils/traceback_utils.py\u001b[0m in \u001b[0;36merror_handler\u001b[0;34m(*args, **kwargs)\u001b[0m\n\u001b[1;32m     95\u001b[0m         \u001b[0;32mtry\u001b[0m\u001b[0;34m:\u001b[0m\u001b[0;34m\u001b[0m\u001b[0;34m\u001b[0m\u001b[0m\n\u001b[0;32m---> 96\u001b[0;31m             \u001b[0;32mreturn\u001b[0m \u001b[0mfn\u001b[0m\u001b[0;34m(\u001b[0m\u001b[0;34m*\u001b[0m\u001b[0margs\u001b[0m\u001b[0;34m,\u001b[0m \u001b[0;34m**\u001b[0m\u001b[0mkwargs\u001b[0m\u001b[0;34m)\u001b[0m\u001b[0;34m\u001b[0m\u001b[0;34m\u001b[0m\u001b[0m\n\u001b[0m\u001b[1;32m     97\u001b[0m         \u001b[0;32mexcept\u001b[0m \u001b[0mException\u001b[0m \u001b[0;32mas\u001b[0m \u001b[0me\u001b[0m\u001b[0;34m:\u001b[0m\u001b[0;34m\u001b[0m\u001b[0;34m\u001b[0m\u001b[0m\n",
            "\u001b[0;32m/usr/local/lib/python3.9/dist-packages/tensorflow_probability/python/layers/dense_variational.py\u001b[0m in \u001b[0;36mcall\u001b[0;34m(self, inputs)\u001b[0m\n\u001b[1;32m    170\u001b[0m \u001b[0;34m\u001b[0m\u001b[0m\n\u001b[0;32m--> 171\u001b[0;31m     \u001b[0moutputs\u001b[0m \u001b[0;34m=\u001b[0m \u001b[0mself\u001b[0m\u001b[0;34m.\u001b[0m\u001b[0m_apply_variational_kernel\u001b[0m\u001b[0;34m(\u001b[0m\u001b[0minputs\u001b[0m\u001b[0;34m)\u001b[0m\u001b[0;34m\u001b[0m\u001b[0;34m\u001b[0m\u001b[0m\n\u001b[0m\u001b[1;32m    172\u001b[0m     \u001b[0moutputs\u001b[0m \u001b[0;34m=\u001b[0m \u001b[0mself\u001b[0m\u001b[0;34m.\u001b[0m\u001b[0m_apply_variational_bias\u001b[0m\u001b[0;34m(\u001b[0m\u001b[0moutputs\u001b[0m\u001b[0;34m)\u001b[0m\u001b[0;34m\u001b[0m\u001b[0;34m\u001b[0m\u001b[0m\n",
            "\u001b[0;32m/usr/local/lib/python3.9/dist-packages/tensorflow_probability/python/layers/dense_variational.py\u001b[0m in \u001b[0;36m_apply_variational_kernel\u001b[0;34m(self, inputs)\u001b[0m\n\u001b[1;32m    674\u001b[0m           '(saw: \\\"{}\\\").'.format(self.kernel_posterior.name))\n\u001b[0;32m--> 675\u001b[0;31m     self.kernel_posterior_affine = normal_lib.Normal(\n\u001b[0m\u001b[1;32m    676\u001b[0m         \u001b[0mloc\u001b[0m\u001b[0;34m=\u001b[0m\u001b[0mtf\u001b[0m\u001b[0;34m.\u001b[0m\u001b[0mzeros_like\u001b[0m\u001b[0;34m(\u001b[0m\u001b[0mself\u001b[0m\u001b[0;34m.\u001b[0m\u001b[0mkernel_posterior\u001b[0m\u001b[0;34m.\u001b[0m\u001b[0mdistribution\u001b[0m\u001b[0;34m.\u001b[0m\u001b[0mloc\u001b[0m\u001b[0;34m)\u001b[0m\u001b[0;34m,\u001b[0m\u001b[0;34m\u001b[0m\u001b[0;34m\u001b[0m\u001b[0m\n",
            "\u001b[0;32m/usr/local/lib/python3.9/dist-packages/keras/engine/base_layer.py\u001b[0m in \u001b[0;36m__setattr__\u001b[0;34m(self, name, value)\u001b[0m\n\u001b[1;32m   3221\u001b[0m             \u001b[0;31m# container types which compare equal.\u001b[0m\u001b[0;34m\u001b[0m\u001b[0;34m\u001b[0m\u001b[0m\n\u001b[0;32m-> 3222\u001b[0;31m             if not any(\n\u001b[0m\u001b[1;32m   3223\u001b[0m                 \u001b[0;34m(\u001b[0m\u001b[0mlayer\u001b[0m \u001b[0;32mis\u001b[0m \u001b[0mvalue\u001b[0m \u001b[0;32mfor\u001b[0m \u001b[0mlayer\u001b[0m \u001b[0;32min\u001b[0m \u001b[0mself\u001b[0m\u001b[0;34m.\u001b[0m\u001b[0m_self_tracked_trackables\u001b[0m\u001b[0;34m)\u001b[0m\u001b[0;34m\u001b[0m\u001b[0;34m\u001b[0m\u001b[0m\n",
            "\u001b[0;32m/usr/local/lib/python3.9/dist-packages/keras/engine/base_layer.py\u001b[0m in \u001b[0;36m<genexpr>\u001b[0;34m(.0)\u001b[0m\n\u001b[1;32m   3222\u001b[0m             if not any(\n\u001b[0;32m-> 3223\u001b[0;31m                 \u001b[0;34m(\u001b[0m\u001b[0mlayer\u001b[0m \u001b[0;32mis\u001b[0m \u001b[0mvalue\u001b[0m \u001b[0;32mfor\u001b[0m \u001b[0mlayer\u001b[0m \u001b[0;32min\u001b[0m \u001b[0mself\u001b[0m\u001b[0;34m.\u001b[0m\u001b[0m_self_tracked_trackables\u001b[0m\u001b[0;34m)\u001b[0m\u001b[0;34m\u001b[0m\u001b[0;34m\u001b[0m\u001b[0m\n\u001b[0m\u001b[1;32m   3224\u001b[0m             ):\n",
            "\u001b[0;31mKeyboardInterrupt\u001b[0m: ",
            "\nDuring handling of the above exception, another exception occurred:\n",
            "\u001b[0;31mKeyboardInterrupt\u001b[0m                         Traceback (most recent call last)",
            "\u001b[0;31mKeyboardInterrupt\u001b[0m: "
          ]
        }
      ]
    },
    {
      "cell_type": "code",
      "source": [],
      "metadata": {
        "id": "nqVBmWb-WzlH"
      },
      "execution_count": null,
      "outputs": []
    },
    {
      "cell_type": "code",
      "source": [],
      "metadata": {
        "id": "Vs4JoR2dWzgl"
      },
      "execution_count": null,
      "outputs": []
    },
    {
      "cell_type": "markdown",
      "source": [
        "#### model saving"
      ],
      "metadata": {
        "id": "6F-C_UORXVvW"
      }
    },
    {
      "cell_type": "code",
      "source": [
        "!pip install pyyaml h5py  # Required to save models in HDF5 format\n"
      ],
      "metadata": {
        "id": "iAfcw575u7LU"
      },
      "execution_count": null,
      "outputs": []
    },
    {
      "cell_type": "code",
      "source": [
        "!mkdir -p /content/drive/MyDrive/conrad assignement/saved_model\n",
        "model.save('/content/drive/MyDrive/conrad assignement/saved_model/bayesian_ann_loss_mse')"
      ],
      "metadata": {
        "id": "WHOz8FNdu7Hp"
      },
      "execution_count": null,
      "outputs": []
    },
    {
      "cell_type": "code",
      "source": [
        "import os\n",
        "new_model = tf.keras.models.load_model('/content/drive/MyDrive/conrad assignement/saved_model/bayesian_ann_loss_mse')\n",
        " \n",
        "new_model.summary() "
      ],
      "metadata": {
        "id": "NFwYcpa3u7Dl",
        "colab": {
          "base_uri": "https://localhost:8080/"
        },
        "outputId": "a37ef983-8d12-403d-9172-442ee98d5d46"
      },
      "execution_count": null,
      "outputs": [
        {
          "output_type": "stream",
          "name": "stdout",
          "text": [
            "Model: \"model\"\n",
            "_________________________________________________________________\n",
            " Layer (type)                Output Shape              Param #   \n",
            "=================================================================\n",
            " input_1 (InputLayer)        [(None, 7)]               0         \n",
            "                                                                 \n",
            " dense_flipout (DenseFlipout  (None, 64)               960       \n",
            " )                                                               \n",
            "                                                                 \n",
            " dense_flipout_1 (DenseFlipo  (None, 64)               8256      \n",
            " ut)                                                             \n",
            "                                                                 \n",
            " dense_flipout_2 (DenseFlipo  (None, 1)                129       \n",
            " ut)                                                             \n",
            "                                                                 \n",
            "=================================================================\n",
            "Total params: 9,345\n",
            "Trainable params: 9,345\n",
            "Non-trainable params: 0\n",
            "_________________________________________________________________\n"
          ]
        }
      ]
    },
    {
      "cell_type": "code",
      "source": [],
      "metadata": {
        "id": "2epv_kEwu7AS"
      },
      "execution_count": null,
      "outputs": []
    },
    {
      "cell_type": "code",
      "source": [],
      "metadata": {
        "id": "cz7FER0Nu685"
      },
      "execution_count": null,
      "outputs": []
    },
    {
      "cell_type": "code",
      "source": [],
      "metadata": {
        "id": "WM0_mn21u65g"
      },
      "execution_count": null,
      "outputs": []
    },
    {
      "cell_type": "code",
      "source": [],
      "metadata": {
        "id": "PC5PnlX8u6tM"
      },
      "execution_count": null,
      "outputs": []
    },
    {
      "cell_type": "markdown",
      "source": [
        "##### bayesian nn using pytorch for uncertainty prediction\n",
        "this model couldnt be compiled because of ram limitation in google colab"
      ],
      "metadata": {
        "id": "ihR5Wd3wu-ub"
      }
    },
    {
      "cell_type": "code",
      "source": [
        "import numpy as np\n",
        "from sklearn import datasets\n",
        "\n",
        "import torch\n",
        "import torch.nn as nn\n",
        "import torch.optim as optim\n",
        "\n",
        "import torchbnn as bnn\n",
        "\n",
        "import matplotlib.pyplot as plt\n",
        "%matplotlib inline"
      ],
      "metadata": {
        "id": "OOINEQQRoZbI"
      },
      "execution_count": null,
      "outputs": []
    },
    {
      "cell_type": "code",
      "source": [
        "x, y = torch.from_numpy(X_train.values).float(), torch.from_numpy(y_train.values).long()\n",
        "print(x.shape, y.shape)"
      ],
      "metadata": {
        "colab": {
          "base_uri": "https://localhost:8080/"
        },
        "id": "O6ocdJahodX3",
        "outputId": "568fbda7-950b-482f-abbb-153d60f28b50"
      },
      "execution_count": null,
      "outputs": [
        {
          "output_type": "stream",
          "name": "stdout",
          "text": [
            "torch.Size([180425, 7]) torch.Size([180425])\n"
          ]
        }
      ]
    },
    {
      "cell_type": "code",
      "source": [
        "\n",
        "\n",
        "model = nn.Sequential(\n",
        "    bnn.BayesLinear(prior_mu=0, prior_sigma=0.1, in_features=7, out_features=100),\n",
        "    nn.ReLU(),\n",
        "    bnn.BayesLinear(prior_mu=0, prior_sigma=0.1, in_features=100, out_features=1),\n",
        ")\n",
        "\n",
        "ce_loss = nn.MSELoss()\n",
        "kl_loss = bnn.BKLLoss(reduction='mean', last_layer_only=False)\n",
        "kl_weight = 0.01\n",
        "\n",
        "optimizer = optim.Adam(model.parameters(), lr=0.01)\n"
      ],
      "metadata": {
        "id": "bi6aeKuypBxW"
      },
      "execution_count": null,
      "outputs": []
    },
    {
      "cell_type": "code",
      "source": [
        "\n",
        "\n",
        "kl_weight = 0.1\n",
        " \n",
        "for step in range(500):\n",
        "    pre = model(x)\n",
        "    ce = ce_loss(pre, y)\n",
        "    kl = kl_loss(model)\n",
        "    cost = ce + kl_weight*kl\n",
        "    \n",
        "    optimizer.zero_grad()\n",
        "    cost.backward()\n",
        "    optimizer.step() \n"
      ],
      "metadata": {
        "id": "3WOlZ5DVpF3t"
      },
      "execution_count": null,
      "outputs": []
    },
    {
      "cell_type": "markdown",
      "source": [
        "#### other failed experimentations"
      ],
      "metadata": {
        "id": "nJutsXq_v8Uk"
      }
    },
    {
      "cell_type": "code",
      "source": [
        "data=pd.read_csv(path)"
      ],
      "metadata": {
        "id": "nITD1Yha5jhU"
      },
      "execution_count": null,
      "outputs": []
    },
    {
      "cell_type": "code",
      "source": [
        "data"
      ],
      "metadata": {
        "colab": {
          "base_uri": "https://localhost:8080/",
          "height": 424
        },
        "id": "eFiWRqNz5v7M",
        "outputId": "3235cd20-f24e-49d8-d4e0-e14baa8fa9f4"
      },
      "execution_count": null,
      "outputs": [
        {
          "output_type": "execute_result",
          "data": {
            "text/plain": [
              "        productsGroup_key  date_key  quantitySales\n",
              "0                       1  20190902        26784.0\n",
              "1                       1  20190903         7432.0\n",
              "2                       1  20190904         1424.0\n",
              "3                       1  20190905          608.0\n",
              "4                       1  20190906          776.0\n",
              "...                   ...       ...            ...\n",
              "242395                297  20211123           18.0\n",
              "242396                297  20211124           16.0\n",
              "242397                297  20211125           16.0\n",
              "242398                297  20211126           16.0\n",
              "242399                297  20211127           38.0\n",
              "\n",
              "[242400 rows x 3 columns]"
            ],
            "text/html": [
              "\n",
              "  <div id=\"df-128b78dd-caa1-428f-aa26-5c7b2d3e2c59\">\n",
              "    <div class=\"colab-df-container\">\n",
              "      <div>\n",
              "<style scoped>\n",
              "    .dataframe tbody tr th:only-of-type {\n",
              "        vertical-align: middle;\n",
              "    }\n",
              "\n",
              "    .dataframe tbody tr th {\n",
              "        vertical-align: top;\n",
              "    }\n",
              "\n",
              "    .dataframe thead th {\n",
              "        text-align: right;\n",
              "    }\n",
              "</style>\n",
              "<table border=\"1\" class=\"dataframe\">\n",
              "  <thead>\n",
              "    <tr style=\"text-align: right;\">\n",
              "      <th></th>\n",
              "      <th>productsGroup_key</th>\n",
              "      <th>date_key</th>\n",
              "      <th>quantitySales</th>\n",
              "    </tr>\n",
              "  </thead>\n",
              "  <tbody>\n",
              "    <tr>\n",
              "      <th>0</th>\n",
              "      <td>1</td>\n",
              "      <td>20190902</td>\n",
              "      <td>26784.0</td>\n",
              "    </tr>\n",
              "    <tr>\n",
              "      <th>1</th>\n",
              "      <td>1</td>\n",
              "      <td>20190903</td>\n",
              "      <td>7432.0</td>\n",
              "    </tr>\n",
              "    <tr>\n",
              "      <th>2</th>\n",
              "      <td>1</td>\n",
              "      <td>20190904</td>\n",
              "      <td>1424.0</td>\n",
              "    </tr>\n",
              "    <tr>\n",
              "      <th>3</th>\n",
              "      <td>1</td>\n",
              "      <td>20190905</td>\n",
              "      <td>608.0</td>\n",
              "    </tr>\n",
              "    <tr>\n",
              "      <th>4</th>\n",
              "      <td>1</td>\n",
              "      <td>20190906</td>\n",
              "      <td>776.0</td>\n",
              "    </tr>\n",
              "    <tr>\n",
              "      <th>...</th>\n",
              "      <td>...</td>\n",
              "      <td>...</td>\n",
              "      <td>...</td>\n",
              "    </tr>\n",
              "    <tr>\n",
              "      <th>242395</th>\n",
              "      <td>297</td>\n",
              "      <td>20211123</td>\n",
              "      <td>18.0</td>\n",
              "    </tr>\n",
              "    <tr>\n",
              "      <th>242396</th>\n",
              "      <td>297</td>\n",
              "      <td>20211124</td>\n",
              "      <td>16.0</td>\n",
              "    </tr>\n",
              "    <tr>\n",
              "      <th>242397</th>\n",
              "      <td>297</td>\n",
              "      <td>20211125</td>\n",
              "      <td>16.0</td>\n",
              "    </tr>\n",
              "    <tr>\n",
              "      <th>242398</th>\n",
              "      <td>297</td>\n",
              "      <td>20211126</td>\n",
              "      <td>16.0</td>\n",
              "    </tr>\n",
              "    <tr>\n",
              "      <th>242399</th>\n",
              "      <td>297</td>\n",
              "      <td>20211127</td>\n",
              "      <td>38.0</td>\n",
              "    </tr>\n",
              "  </tbody>\n",
              "</table>\n",
              "<p>242400 rows × 3 columns</p>\n",
              "</div>\n",
              "      <button class=\"colab-df-convert\" onclick=\"convertToInteractive('df-128b78dd-caa1-428f-aa26-5c7b2d3e2c59')\"\n",
              "              title=\"Convert this dataframe to an interactive table.\"\n",
              "              style=\"display:none;\">\n",
              "        \n",
              "  <svg xmlns=\"http://www.w3.org/2000/svg\" height=\"24px\"viewBox=\"0 0 24 24\"\n",
              "       width=\"24px\">\n",
              "    <path d=\"M0 0h24v24H0V0z\" fill=\"none\"/>\n",
              "    <path d=\"M18.56 5.44l.94 2.06.94-2.06 2.06-.94-2.06-.94-.94-2.06-.94 2.06-2.06.94zm-11 1L8.5 8.5l.94-2.06 2.06-.94-2.06-.94L8.5 2.5l-.94 2.06-2.06.94zm10 10l.94 2.06.94-2.06 2.06-.94-2.06-.94-.94-2.06-.94 2.06-2.06.94z\"/><path d=\"M17.41 7.96l-1.37-1.37c-.4-.4-.92-.59-1.43-.59-.52 0-1.04.2-1.43.59L10.3 9.45l-7.72 7.72c-.78.78-.78 2.05 0 2.83L4 21.41c.39.39.9.59 1.41.59.51 0 1.02-.2 1.41-.59l7.78-7.78 2.81-2.81c.8-.78.8-2.07 0-2.86zM5.41 20L4 18.59l7.72-7.72 1.47 1.35L5.41 20z\"/>\n",
              "  </svg>\n",
              "      </button>\n",
              "      \n",
              "  <style>\n",
              "    .colab-df-container {\n",
              "      display:flex;\n",
              "      flex-wrap:wrap;\n",
              "      gap: 12px;\n",
              "    }\n",
              "\n",
              "    .colab-df-convert {\n",
              "      background-color: #E8F0FE;\n",
              "      border: none;\n",
              "      border-radius: 50%;\n",
              "      cursor: pointer;\n",
              "      display: none;\n",
              "      fill: #1967D2;\n",
              "      height: 32px;\n",
              "      padding: 0 0 0 0;\n",
              "      width: 32px;\n",
              "    }\n",
              "\n",
              "    .colab-df-convert:hover {\n",
              "      background-color: #E2EBFA;\n",
              "      box-shadow: 0px 1px 2px rgba(60, 64, 67, 0.3), 0px 1px 3px 1px rgba(60, 64, 67, 0.15);\n",
              "      fill: #174EA6;\n",
              "    }\n",
              "\n",
              "    [theme=dark] .colab-df-convert {\n",
              "      background-color: #3B4455;\n",
              "      fill: #D2E3FC;\n",
              "    }\n",
              "\n",
              "    [theme=dark] .colab-df-convert:hover {\n",
              "      background-color: #434B5C;\n",
              "      box-shadow: 0px 1px 3px 1px rgba(0, 0, 0, 0.15);\n",
              "      filter: drop-shadow(0px 1px 2px rgba(0, 0, 0, 0.3));\n",
              "      fill: #FFFFFF;\n",
              "    }\n",
              "  </style>\n",
              "\n",
              "      <script>\n",
              "        const buttonEl =\n",
              "          document.querySelector('#df-128b78dd-caa1-428f-aa26-5c7b2d3e2c59 button.colab-df-convert');\n",
              "        buttonEl.style.display =\n",
              "          google.colab.kernel.accessAllowed ? 'block' : 'none';\n",
              "\n",
              "        async function convertToInteractive(key) {\n",
              "          const element = document.querySelector('#df-128b78dd-caa1-428f-aa26-5c7b2d3e2c59');\n",
              "          const dataTable =\n",
              "            await google.colab.kernel.invokeFunction('convertToInteractive',\n",
              "                                                     [key], {});\n",
              "          if (!dataTable) return;\n",
              "\n",
              "          const docLinkHtml = 'Like what you see? Visit the ' +\n",
              "            '<a target=\"_blank\" href=https://colab.research.google.com/notebooks/data_table.ipynb>data table notebook</a>'\n",
              "            + ' to learn more about interactive tables.';\n",
              "          element.innerHTML = '';\n",
              "          dataTable['output_type'] = 'display_data';\n",
              "          await google.colab.output.renderOutput(dataTable, element);\n",
              "          const docLink = document.createElement('div');\n",
              "          docLink.innerHTML = docLinkHtml;\n",
              "          element.appendChild(docLink);\n",
              "        }\n",
              "      </script>\n",
              "    </div>\n",
              "  </div>\n",
              "  "
            ]
          },
          "metadata": {},
          "execution_count": 28
        }
      ]
    },
    {
      "cell_type": "code",
      "source": [
        "import pymc3 as pm\n",
        "\n",
        "with pm.Model() as model: \n",
        "    intercept = pm.Normal('intercept', mu=0, sigma=1)\n",
        "    slope_productGroup = pm.Normal('slope_productGroup', mu=0, sigma=1)\n",
        "    slope_date = pm.Normal('slope_date', mu=0, sigma=1)\n",
        "     \n",
        "    mu = intercept + slope_productGroup * data[:,0] + slope_date * data[:,1]\n",
        "     \n",
        "    obs = pm.Normal('obs', mu=mu, sigma=1, observed=data[:,2])\n",
        "    \n",
        "    # Compute the posterior distribution using MCMC\n",
        "    trace = pm.sample(1000, tune=1000)\n",
        "\n",
        "quantiles = [0.85, 0.90, 0.92, 0.95, 0.99]\n",
        "predictions = []\n",
        "for i in range(data.shape[0]):\n",
        "    new_data = {'productGroup_key': data[i,0], 'date_key': data[i,1]}\n",
        "    with model:\n",
        "        # Sample from the posterior distribution of the coefficients\n",
        "        pp = pm.sample_posterior_predictive(trace, vars=[obs], samples=1000, var_names=['obs'])\n",
        "        # Compute the desired quantiles\n",
        "        prediction = [np.quantile(pp['obs'][:,j], q) for q in quantiles]\n",
        "    # Append the predictions to the output array\n",
        "    predictions.append([data[i,0], data[i,1], data[i,2]] + prediction)\n",
        "    "
      ],
      "metadata": {
        "id": "UkKSj_2J36qD"
      },
      "execution_count": null,
      "outputs": []
    },
    {
      "cell_type": "markdown",
      "source": [
        "the previous model didnt work because of software versions problems. we will try next bayesian nets with tensor flow"
      ],
      "metadata": {
        "id": "kEK41P-f6k1n"
      }
    }
  ]
}